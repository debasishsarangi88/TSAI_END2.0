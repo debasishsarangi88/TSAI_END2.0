{
  "nbformat": 4,
  "nbformat_minor": 0,
  "metadata": {
    "colab": {
      "name": "END2.0 Session 1.ipynb",
      "provenance": [],
      "include_colab_link": true
    },
    "kernelspec": {
      "name": "python3",
      "display_name": "Python 3"
    },
    "language_info": {
      "name": "python"
    }
  },
  "cells": [
    {
      "cell_type": "markdown",
      "metadata": {
        "id": "view-in-github",
        "colab_type": "text"
      },
      "source": [
        "<a href=\"https://colab.research.google.com/github/debasishsarangi88/TSAI_END2.0/blob/main/END2_0_Session_1.ipynb\" target=\"_parent\"><img src=\"https://colab.research.google.com/assets/colab-badge.svg\" alt=\"Open In Colab\"/></a>"
      ]
    },
    {
      "cell_type": "code",
      "metadata": {
        "colab": {
          "base_uri": "https://localhost:8080/"
        },
        "id": "GC_6PeobwwkH",
        "outputId": "9764c1ba-f362-40c6-8ef7-160ed3fad9dc"
      },
      "source": [
        "import torch\n",
        "from torch.autograd import Variable\n",
        "import torch.nn as nn\n",
        "import torch.nn.functional as F\n",
        "import torch.optim as optim\n",
        "import numpy as np\n",
        "import matplotlib.pyplot as plt\n",
        "%matplotlib inline\n",
        "torch.manual_seed(2)"
      ],
      "execution_count": 21,
      "outputs": [
        {
          "output_type": "execute_result",
          "data": {
            "text/plain": [
              "<torch._C.Generator at 0x7fbd2b5ee510>"
            ]
          },
          "metadata": {
            "tags": []
          },
          "execution_count": 21
        }
      ]
    },
    {
      "cell_type": "code",
      "metadata": {
        "id": "bL64bMTkw2GP"
      },
      "source": [
        "X = torch.Tensor([[0,0], [0,1], [1,0], [1,1]])\n",
        "Y = torch.Tensor([0, 1, 1, 0]).view(-1,1)"
      ],
      "execution_count": 22,
      "outputs": []
    },
    {
      "cell_type": "code",
      "metadata": {
        "id": "aC82kEAIw3Wf"
      },
      "source": [
        "class XOR(nn.Module):\n",
        "    def __init__(self, input_dim = 2, output_dim=1):\n",
        "        super(XOR, self).__init__()\n",
        "        self.lin1 = nn.Linear(input_dim, 11,)\n",
        "        self.lin2 = nn.Linear(11, output_dim,bias=False)\n",
        "\n",
        "    \n",
        "    def forward(self, x):\n",
        "        x = self.lin1(x)\n",
        "        x = torch.tanh(x)\n",
        "        x = self.lin2(x)\n",
        "        return x"
      ],
      "execution_count": 29,
      "outputs": []
    },
    {
      "cell_type": "code",
      "metadata": {
        "colab": {
          "base_uri": "https://localhost:8080/"
        },
        "id": "8gQIQExYw65K",
        "outputId": "85ff0928-23c1-4b23-dd18-b66f5f610f79"
      },
      "source": [
        "model = XOR()\n",
        "print(model)\n",
        "from torchsummary import summary\n",
        "summary(model, (2,2))"
      ],
      "execution_count": 30,
      "outputs": [
        {
          "output_type": "stream",
          "text": [
            "XOR(\n",
            "  (lin1): Linear(in_features=2, out_features=11, bias=True)\n",
            "  (lin2): Linear(in_features=11, out_features=1, bias=False)\n",
            ")\n",
            "----------------------------------------------------------------\n",
            "        Layer (type)               Output Shape         Param #\n",
            "================================================================\n",
            "            Linear-1                [-1, 2, 11]              33\n",
            "            Linear-2                 [-1, 2, 1]              11\n",
            "================================================================\n",
            "Total params: 44\n",
            "Trainable params: 44\n",
            "Non-trainable params: 0\n",
            "----------------------------------------------------------------\n",
            "Input size (MB): 0.00\n",
            "Forward/backward pass size (MB): 0.00\n",
            "Params size (MB): 0.00\n",
            "Estimated Total Size (MB): 0.00\n",
            "----------------------------------------------------------------\n"
          ],
          "name": "stdout"
        }
      ]
    },
    {
      "cell_type": "code",
      "metadata": {
        "id": "yeotEq19x6XF"
      },
      "source": [
        "def weights_init(model):\n",
        "    for m in model.modules():\n",
        "        if isinstance(m, nn.Linear):\n",
        "            # initialize the weight tensor, here we use a normal distribution\n",
        "            m.weight.data.normal_(0, 1)\n",
        "\n",
        "weights_init(model)"
      ],
      "execution_count": 31,
      "outputs": []
    },
    {
      "cell_type": "code",
      "metadata": {
        "id": "WrD_sNzLx78e"
      },
      "source": [
        "loss_func = nn.L1Loss()"
      ],
      "execution_count": 32,
      "outputs": []
    },
    {
      "cell_type": "code",
      "metadata": {
        "id": "-zvbrMd2x_lA"
      },
      "source": [
        "optimizer = optim.SGD(model.parameters(), lr=0.02, momentum=0.9)\n"
      ],
      "execution_count": 33,
      "outputs": []
    },
    {
      "cell_type": "code",
      "metadata": {
        "colab": {
          "base_uri": "https://localhost:8080/"
        },
        "id": "q7tWa3D7yA5X",
        "outputId": "9723a467-d546-4bc5-846a-000bfd04c0ba"
      },
      "source": [
        "epochs = 2001\n",
        "steps = X.size(0)\n",
        "for i in range(epochs):\n",
        "    for j in range(steps):\n",
        "        data_point = np.random.randint(X.size(0))\n",
        "        x_var = Variable(X[data_point], requires_grad=True)\n",
        "        y_var = Variable(Y[data_point], requires_grad=True)\n",
        "        \n",
        "        optimizer.zero_grad()\n",
        "        y_hat = model(x_var)\n",
        "        loss = loss_func.forward(y_hat, y_var)\n",
        "        loss.backward()\n",
        "        optimizer.step()\n",
        "        \n",
        "    if i % 50 == 0:\n",
        "        print( \"Epoch: {0}, Loss: {1}, \".format(i, loss.data.numpy()))"
      ],
      "execution_count": 34,
      "outputs": [
        {
          "output_type": "stream",
          "text": [
            "Epoch: 0, Loss: 1.0082502365112305, \n",
            "Epoch: 50, Loss: 0.15395879745483398, \n",
            "Epoch: 100, Loss: 0.5592037439346313, \n",
            "Epoch: 150, Loss: 0.4039927124977112, \n",
            "Epoch: 200, Loss: 0.16257184743881226, \n",
            "Epoch: 250, Loss: 0.34888002276420593, \n",
            "Epoch: 300, Loss: 0.09925676882266998, \n",
            "Epoch: 350, Loss: 0.02557903528213501, \n",
            "Epoch: 400, Loss: 0.5027172565460205, \n",
            "Epoch: 450, Loss: 0.1015920639038086, \n",
            "Epoch: 500, Loss: 0.10582458972930908, \n",
            "Epoch: 550, Loss: 0.04222214221954346, \n",
            "Epoch: 600, Loss: 1.056490421295166, \n",
            "Epoch: 650, Loss: 0.040715038776397705, \n",
            "Epoch: 700, Loss: 0.23087656497955322, \n",
            "Epoch: 750, Loss: 0.5332202911376953, \n",
            "Epoch: 800, Loss: 0.6946289539337158, \n",
            "Epoch: 850, Loss: 0.0898338258266449, \n",
            "Epoch: 900, Loss: 0.06501263380050659, \n",
            "Epoch: 950, Loss: 0.31843113899230957, \n",
            "Epoch: 1000, Loss: 0.03481745719909668, \n",
            "Epoch: 1050, Loss: 0.10674601793289185, \n",
            "Epoch: 1100, Loss: 0.36130189895629883, \n",
            "Epoch: 1150, Loss: 0.17931264638900757, \n",
            "Epoch: 1200, Loss: 0.010257542133331299, \n",
            "Epoch: 1250, Loss: 0.0126914381980896, \n",
            "Epoch: 1300, Loss: 0.1729356050491333, \n",
            "Epoch: 1350, Loss: 0.1377173662185669, \n",
            "Epoch: 1400, Loss: 0.4822969436645508, \n",
            "Epoch: 1450, Loss: 0.002436697483062744, \n",
            "Epoch: 1500, Loss: 0.3770509362220764, \n",
            "Epoch: 1550, Loss: 0.05639702081680298, \n",
            "Epoch: 1600, Loss: 0.11133849620819092, \n",
            "Epoch: 1650, Loss: 0.07144612073898315, \n",
            "Epoch: 1700, Loss: 0.11503219604492188, \n",
            "Epoch: 1750, Loss: 0.038697004318237305, \n",
            "Epoch: 1800, Loss: 0.1171799898147583, \n",
            "Epoch: 1850, Loss: 0.005832076072692871, \n",
            "Epoch: 1900, Loss: 0.2737847864627838, \n",
            "Epoch: 1950, Loss: 0.053974270820617676, \n",
            "Epoch: 2000, Loss: 0.14448219537734985, \n"
          ],
          "name": "stdout"
        }
      ]
    },
    {
      "cell_type": "code",
      "metadata": {
        "id": "QV0dIdveyCRi"
      },
      "source": [
        ""
      ],
      "execution_count": null,
      "outputs": []
    }
  ]
}