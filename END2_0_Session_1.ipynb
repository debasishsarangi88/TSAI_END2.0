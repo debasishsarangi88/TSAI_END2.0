{
  "nbformat": 4,
  "nbformat_minor": 0,
  "metadata": {
    "colab": {
      "name": "END2.0 Session 1.ipynb",
      "provenance": [],
      "include_colab_link": true
    },
    "kernelspec": {
      "name": "python3",
      "display_name": "Python 3"
    },
    "language_info": {
      "name": "python"
    }
  },
  "cells": [
    {
      "cell_type": "markdown",
      "metadata": {
        "id": "view-in-github",
        "colab_type": "text"
      },
      "source": [
        "<a href=\"https://colab.research.google.com/github/debasishsarangi88/TSAI_END2.0/blob/main/END2_0_Session_1.ipynb\" target=\"_parent\"><img src=\"https://colab.research.google.com/assets/colab-badge.svg\" alt=\"Open In Colab\"/></a>"
      ]
    },
    {
      "cell_type": "code",
      "metadata": {
        "colab": {
          "base_uri": "https://localhost:8080/"
        },
        "id": "GC_6PeobwwkH",
        "outputId": "f517be38-3d2d-445f-a6bc-dd066b5a6abb"
      },
      "source": [
        "import torch\n",
        "from torch.autograd import Variable\n",
        "import torch.nn as nn\n",
        "import torch.nn.functional as F\n",
        "import torch.optim as optim\n",
        "import numpy as np\n",
        "import matplotlib.pyplot as plt\n",
        "%matplotlib inline\n",
        "torch.manual_seed(2)"
      ],
      "execution_count": 1,
      "outputs": [
        {
          "output_type": "execute_result",
          "data": {
            "text/plain": [
              "<torch._C.Generator at 0x7f9c6ba4a8d0>"
            ]
          },
          "metadata": {
            "tags": []
          },
          "execution_count": 1
        }
      ]
    },
    {
      "cell_type": "code",
      "metadata": {
        "id": "bL64bMTkw2GP"
      },
      "source": [
        "X = torch.Tensor([[0,0], [0,1], [1,0], [1,1]])\n",
        "Y = torch.Tensor([0, 1, 1, 0]).view(-1,1)"
      ],
      "execution_count": 2,
      "outputs": []
    },
    {
      "cell_type": "code",
      "metadata": {
        "id": "aC82kEAIw3Wf"
      },
      "source": [
        "class XOR(nn.Module):\n",
        "    def __init__(self, input_dim = 2, output_dim=1):\n",
        "        super(XOR, self).__init__()\n",
        "        self.lin1 = nn.Linear(input_dim, 11,)\n",
        "        self.lin2 = nn.Linear(11, output_dim,bias=False)\n",
        "\n",
        "    \n",
        "    def forward(self, x):\n",
        "        x = self.lin1(x)\n",
        "        x = torch.tanh(x)\n",
        "        x = self.lin2(x)\n",
        "        return x"
      ],
      "execution_count": 3,
      "outputs": []
    },
    {
      "cell_type": "code",
      "metadata": {
        "colab": {
          "base_uri": "https://localhost:8080/"
        },
        "id": "8gQIQExYw65K",
        "outputId": "8763a8bf-65d8-4ae1-cf83-a91e0c0d741f"
      },
      "source": [
        "model = XOR()\n",
        "print(model)\n",
        "from torchsummary import summary\n",
        "summary(model, (2,2))"
      ],
      "execution_count": 4,
      "outputs": [
        {
          "output_type": "stream",
          "text": [
            "XOR(\n",
            "  (lin1): Linear(in_features=2, out_features=11, bias=True)\n",
            "  (lin2): Linear(in_features=11, out_features=1, bias=False)\n",
            ")\n",
            "----------------------------------------------------------------\n",
            "        Layer (type)               Output Shape         Param #\n",
            "================================================================\n",
            "            Linear-1                [-1, 2, 11]              33\n",
            "            Linear-2                 [-1, 2, 1]              11\n",
            "================================================================\n",
            "Total params: 44\n",
            "Trainable params: 44\n",
            "Non-trainable params: 0\n",
            "----------------------------------------------------------------\n",
            "Input size (MB): 0.00\n",
            "Forward/backward pass size (MB): 0.00\n",
            "Params size (MB): 0.00\n",
            "Estimated Total Size (MB): 0.00\n",
            "----------------------------------------------------------------\n"
          ],
          "name": "stdout"
        }
      ]
    },
    {
      "cell_type": "code",
      "metadata": {
        "id": "yeotEq19x6XF"
      },
      "source": [
        "def weights_init(model):\n",
        "    for m in model.modules():\n",
        "        if isinstance(m, nn.Linear):\n",
        "            # initialize the weight tensor, here we use a normal distribution\n",
        "            m.weight.data.normal_(0, 1)\n",
        "\n",
        "weights_init(model)"
      ],
      "execution_count": 5,
      "outputs": []
    },
    {
      "cell_type": "code",
      "metadata": {
        "id": "WrD_sNzLx78e"
      },
      "source": [
        "loss_func = nn.L1Loss()"
      ],
      "execution_count": 6,
      "outputs": []
    },
    {
      "cell_type": "code",
      "metadata": {
        "id": "-zvbrMd2x_lA"
      },
      "source": [
        "optimizer = optim.SGD(model.parameters(), lr=0.02, momentum=0.8)\n"
      ],
      "execution_count": 7,
      "outputs": []
    },
    {
      "cell_type": "code",
      "metadata": {
        "colab": {
          "base_uri": "https://localhost:8080/"
        },
        "id": "q7tWa3D7yA5X",
        "outputId": "4e5aad19-0803-49f9-c6fd-c8de384b29c0"
      },
      "source": [
        "epochs = 2001\n",
        "steps = X.size(0)\n",
        "for i in range(epochs):\n",
        "    for j in range(steps):\n",
        "        data_point = np.random.randint(X.size(0))\n",
        "        x_var = Variable(X[data_point], requires_grad=True)\n",
        "        y_var = Variable(Y[data_point], requires_grad=True)\n",
        "        \n",
        "        optimizer.zero_grad()\n",
        "        y_hat = model(x_var)\n",
        "        loss = loss_func.forward(y_hat, y_var)\n",
        "        loss.backward()\n",
        "        optimizer.step()\n",
        "        \n",
        "    if i % 50 == 0:\n",
        "        print( \"Epoch: {0}, Loss: {1}, \".format(i, loss.data.numpy()))"
      ],
      "execution_count": 8,
      "outputs": [
        {
          "output_type": "stream",
          "text": [
            "Epoch: 0, Loss: 0.027931571006774902, \n",
            "Epoch: 50, Loss: 0.04951333999633789, \n",
            "Epoch: 100, Loss: 0.1251339614391327, \n",
            "Epoch: 150, Loss: 0.27996766567230225, \n",
            "Epoch: 200, Loss: 0.03561437129974365, \n",
            "Epoch: 250, Loss: 0.30579620599746704, \n",
            "Epoch: 300, Loss: 0.0676267147064209, \n",
            "Epoch: 350, Loss: 0.09825944900512695, \n",
            "Epoch: 400, Loss: 0.017478734254837036, \n",
            "Epoch: 450, Loss: 0.04048464447259903, \n",
            "Epoch: 500, Loss: 0.2299066185951233, \n",
            "Epoch: 550, Loss: 0.20571932196617126, \n",
            "Epoch: 600, Loss: 0.5719258189201355, \n",
            "Epoch: 650, Loss: 0.5282825827598572, \n",
            "Epoch: 700, Loss: 0.042680948972702026, \n",
            "Epoch: 750, Loss: 0.35320937633514404, \n",
            "Epoch: 800, Loss: 0.0172460675239563, \n",
            "Epoch: 850, Loss: 0.006062030792236328, \n",
            "Epoch: 900, Loss: 0.23497797548770905, \n",
            "Epoch: 950, Loss: 0.017196297645568848, \n",
            "Epoch: 1000, Loss: 0.0619034618139267, \n",
            "Epoch: 1050, Loss: 0.18624520301818848, \n",
            "Epoch: 1100, Loss: 0.099392831325531, \n",
            "Epoch: 1150, Loss: 0.02257061004638672, \n",
            "Epoch: 1200, Loss: 0.4875558018684387, \n",
            "Epoch: 1250, Loss: 0.2816610336303711, \n",
            "Epoch: 1300, Loss: 0.08370082080364227, \n",
            "Epoch: 1350, Loss: 0.04393601417541504, \n",
            "Epoch: 1400, Loss: 0.18392491340637207, \n",
            "Epoch: 1450, Loss: 0.2181171178817749, \n",
            "Epoch: 1500, Loss: 0.15005266666412354, \n",
            "Epoch: 1550, Loss: 0.004055291414260864, \n",
            "Epoch: 1600, Loss: 0.09832373261451721, \n",
            "Epoch: 1650, Loss: 0.16163700819015503, \n",
            "Epoch: 1700, Loss: 0.007241010665893555, \n",
            "Epoch: 1750, Loss: 0.046383440494537354, \n",
            "Epoch: 1800, Loss: 0.00010120868682861328, \n",
            "Epoch: 1850, Loss: 0.060161441564559937, \n",
            "Epoch: 1900, Loss: 0.06155654788017273, \n",
            "Epoch: 1950, Loss: 0.12457185983657837, \n",
            "Epoch: 2000, Loss: 0.01022571325302124, \n"
          ],
          "name": "stdout"
        }
      ]
    },
    {
      "cell_type": "code",
      "metadata": {
        "id": "QV0dIdveyCRi"
      },
      "source": [
        ""
      ],
      "execution_count": null,
      "outputs": []
    }
  ]
}