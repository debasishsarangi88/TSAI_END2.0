{
  "nbformat": 4,
  "nbformat_minor": 0,
  "metadata": {
    "colab": {
      "name": "END2.0 Session 1.ipynb",
      "provenance": [],
      "include_colab_link": true
    },
    "kernelspec": {
      "name": "python3",
      "display_name": "Python 3"
    },
    "language_info": {
      "name": "python"
    }
  },
  "cells": [
    {
      "cell_type": "markdown",
      "metadata": {
        "id": "view-in-github",
        "colab_type": "text"
      },
      "source": [
        "<a href=\"https://colab.research.google.com/github/debasishsarangi88/TSAI_END2.0/blob/main/END2_0_Session_1.ipynb\" target=\"_parent\"><img src=\"https://colab.research.google.com/assets/colab-badge.svg\" alt=\"Open In Colab\"/></a>"
      ]
    },
    {
      "cell_type": "code",
      "metadata": {
        "colab": {
          "base_uri": "https://localhost:8080/"
        },
        "id": "GC_6PeobwwkH",
        "outputId": "f67a9354-fad4-462b-85a0-9ffb2d1ef38d"
      },
      "source": [
        "import torch\n",
        "from torch.autograd import Variable\n",
        "import torch.nn as nn\n",
        "import torch.nn.functional as F\n",
        "import torch.optim as optim\n",
        "import numpy as np\n",
        "import matplotlib.pyplot as plt\n",
        "%matplotlib inline\n",
        "torch.manual_seed(2)"
      ],
      "execution_count": 1,
      "outputs": [
        {
          "output_type": "execute_result",
          "data": {
            "text/plain": [
              "<torch._C.Generator at 0x7f133992c8d0>"
            ]
          },
          "metadata": {
            "tags": []
          },
          "execution_count": 1
        }
      ]
    },
    {
      "cell_type": "code",
      "metadata": {
        "id": "bL64bMTkw2GP"
      },
      "source": [
        "X = torch.Tensor([[0,0], [0,1], [1,0], [1,1]])\n",
        "Y = torch.Tensor([0, 1, 1, 0]).view(-1,1)"
      ],
      "execution_count": 2,
      "outputs": []
    },
    {
      "cell_type": "code",
      "metadata": {
        "id": "aC82kEAIw3Wf"
      },
      "source": [
        "class XOR(nn.Module):\n",
        "    def __init__(self, input_dim = 2, output_dim=1):\n",
        "        super(XOR, self).__init__()\n",
        "        self.lin1 = nn.Linear(input_dim, 11,)\n",
        "        self.lin2 = nn.Linear(11, output_dim,bias=False)\n",
        "\n",
        "    \n",
        "    def forward(self, x):\n",
        "        x = self.lin1(x)\n",
        "        x = torch.tanh(x)\n",
        "        x = self.lin2(x)\n",
        "        return x"
      ],
      "execution_count": 3,
      "outputs": []
    },
    {
      "cell_type": "code",
      "metadata": {
        "colab": {
          "base_uri": "https://localhost:8080/"
        },
        "id": "8gQIQExYw65K",
        "outputId": "6644ab23-b122-40e1-d568-db4392e728d9"
      },
      "source": [
        "model = XOR()\n",
        "print(model)\n",
        "from torchsummary import summary\n",
        "summary(model, (2,2))"
      ],
      "execution_count": 4,
      "outputs": [
        {
          "output_type": "stream",
          "text": [
            "XOR(\n",
            "  (lin1): Linear(in_features=2, out_features=11, bias=True)\n",
            "  (lin2): Linear(in_features=11, out_features=1, bias=False)\n",
            ")\n",
            "----------------------------------------------------------------\n",
            "        Layer (type)               Output Shape         Param #\n",
            "================================================================\n",
            "            Linear-1                [-1, 2, 11]              33\n",
            "            Linear-2                 [-1, 2, 1]              11\n",
            "================================================================\n",
            "Total params: 44\n",
            "Trainable params: 44\n",
            "Non-trainable params: 0\n",
            "----------------------------------------------------------------\n",
            "Input size (MB): 0.00\n",
            "Forward/backward pass size (MB): 0.00\n",
            "Params size (MB): 0.00\n",
            "Estimated Total Size (MB): 0.00\n",
            "----------------------------------------------------------------\n"
          ],
          "name": "stdout"
        }
      ]
    },
    {
      "cell_type": "code",
      "metadata": {
        "id": "yeotEq19x6XF"
      },
      "source": [
        "def weights_init(model):\n",
        "    for m in model.modules():\n",
        "        if isinstance(m, nn.Linear):\n",
        "            # initialize the weight tensor, here we use a normal distribution\n",
        "            m.weight.data.normal_(0, 1)\n",
        "\n",
        "weights_init(model)"
      ],
      "execution_count": 5,
      "outputs": []
    },
    {
      "cell_type": "code",
      "metadata": {
        "id": "WrD_sNzLx78e"
      },
      "source": [
        "loss_func = nn.L1Loss()"
      ],
      "execution_count": 6,
      "outputs": []
    },
    {
      "cell_type": "code",
      "metadata": {
        "id": "-zvbrMd2x_lA"
      },
      "source": [
        "optimizer = optim.SGD(model.parameters(), lr=0.02, momentum=0.8)\n"
      ],
      "execution_count": 7,
      "outputs": []
    },
    {
      "cell_type": "code",
      "metadata": {
        "colab": {
          "base_uri": "https://localhost:8080/"
        },
        "id": "q7tWa3D7yA5X",
        "outputId": "f4b4553d-e8be-4cf1-c0a4-227968c14634"
      },
      "source": [
        "epochs = 2002\n",
        "steps = X.size(0)\n",
        "for i in range(epochs):\n",
        "    for j in range(steps):\n",
        "        data_point = np.random.randint(X.size(0))\n",
        "        x_var = Variable(X[data_point], requires_grad=True)\n",
        "        y_var = Variable(Y[data_point], requires_grad=True)\n",
        "        \n",
        "        optimizer.zero_grad()\n",
        "        y_hat = model(x_var)\n",
        "        loss = loss_func.forward(y_hat, y_var)\n",
        "        loss.backward()\n",
        "        optimizer.step()\n",
        "        \n",
        "    if i % 29 == 0:\n",
        "        print( \"Epoch: {0}, Loss: {1}, \".format(i, loss.data.numpy()))"
      ],
      "execution_count": 11,
      "outputs": [
        {
          "output_type": "stream",
          "text": [
            "Epoch: 0, Loss: 0.03211188316345215, \n",
            "Epoch: 29, Loss: 0.3261141777038574, \n",
            "Epoch: 58, Loss: 0.09338909387588501, \n",
            "Epoch: 87, Loss: 0.03949391841888428, \n",
            "Epoch: 116, Loss: 0.06436294317245483, \n",
            "Epoch: 145, Loss: 0.005239963531494141, \n",
            "Epoch: 174, Loss: 0.0740276575088501, \n",
            "Epoch: 203, Loss: 0.05432814359664917, \n",
            "Epoch: 232, Loss: 0.07156187295913696, \n",
            "Epoch: 261, Loss: 0.02999413013458252, \n",
            "Epoch: 290, Loss: 0.03228771686553955, \n",
            "Epoch: 319, Loss: 0.07283347845077515, \n",
            "Epoch: 348, Loss: 0.07562389969825745, \n",
            "Epoch: 377, Loss: 0.10866570472717285, \n",
            "Epoch: 406, Loss: 0.08012580871582031, \n",
            "Epoch: 435, Loss: 0.06275239586830139, \n",
            "Epoch: 464, Loss: 0.043156981468200684, \n",
            "Epoch: 493, Loss: 0.08371591567993164, \n",
            "Epoch: 522, Loss: 0.031989604234695435, \n",
            "Epoch: 551, Loss: 0.03346741199493408, \n",
            "Epoch: 580, Loss: 0.14625000953674316, \n",
            "Epoch: 609, Loss: 0.08240622282028198, \n",
            "Epoch: 638, Loss: 0.09508037567138672, \n",
            "Epoch: 667, Loss: 0.2897801399230957, \n",
            "Epoch: 696, Loss: 0.0036461353302001953, \n",
            "Epoch: 725, Loss: 0.10910743474960327, \n",
            "Epoch: 754, Loss: 0.07746285200119019, \n",
            "Epoch: 783, Loss: 0.019873976707458496, \n",
            "Epoch: 812, Loss: 0.023170918226242065, \n",
            "Epoch: 841, Loss: 0.02042388916015625, \n",
            "Epoch: 870, Loss: 0.12123364210128784, \n",
            "Epoch: 899, Loss: 0.02732226252555847, \n",
            "Epoch: 928, Loss: 0.11026501655578613, \n",
            "Epoch: 957, Loss: 0.09733361005783081, \n",
            "Epoch: 986, Loss: 0.07147067785263062, \n",
            "Epoch: 1015, Loss: 0.047600626945495605, \n",
            "Epoch: 1044, Loss: 0.01735672354698181, \n",
            "Epoch: 1073, Loss: 0.1407642364501953, \n",
            "Epoch: 1102, Loss: 0.0324382483959198, \n",
            "Epoch: 1131, Loss: 0.015260756015777588, \n",
            "Epoch: 1160, Loss: 0.12341633439064026, \n",
            "Epoch: 1189, Loss: 0.01870042085647583, \n",
            "Epoch: 1218, Loss: 0.04876452684402466, \n",
            "Epoch: 1247, Loss: 0.021846383810043335, \n",
            "Epoch: 1276, Loss: 0.06610357761383057, \n",
            "Epoch: 1305, Loss: 0.24600160121917725, \n",
            "Epoch: 1334, Loss: 0.03956407308578491, \n",
            "Epoch: 1363, Loss: 0.027065634727478027, \n",
            "Epoch: 1392, Loss: 0.3072854280471802, \n",
            "Epoch: 1421, Loss: 0.2371010184288025, \n",
            "Epoch: 1450, Loss: 0.09184622764587402, \n",
            "Epoch: 1479, Loss: 0.024023115634918213, \n",
            "Epoch: 1508, Loss: 0.11636161804199219, \n",
            "Epoch: 1537, Loss: 0.06760013103485107, \n",
            "Epoch: 1566, Loss: 0.1673675775527954, \n",
            "Epoch: 1595, Loss: 0.012865513563156128, \n",
            "Epoch: 1624, Loss: 0.09275579452514648, \n",
            "Epoch: 1653, Loss: 0.11466825008392334, \n",
            "Epoch: 1682, Loss: 0.10096156597137451, \n",
            "Epoch: 1711, Loss: 0.05611252784729004, \n",
            "Epoch: 1740, Loss: 0.10364890098571777, \n",
            "Epoch: 1769, Loss: 0.06269913911819458, \n",
            "Epoch: 1798, Loss: 0.0773310661315918, \n",
            "Epoch: 1827, Loss: 0.012137621641159058, \n",
            "Epoch: 1856, Loss: 0.05275988578796387, \n",
            "Epoch: 1885, Loss: 0.08795702457427979, \n",
            "Epoch: 1914, Loss: 0.01404300332069397, \n",
            "Epoch: 1943, Loss: 0.06586474180221558, \n",
            "Epoch: 1972, Loss: 0.18128973245620728, \n",
            "Epoch: 2001, Loss: 0.07525169849395752, \n"
          ],
          "name": "stdout"
        }
      ]
    },
    {
      "cell_type": "code",
      "metadata": {
        "id": "QV0dIdveyCRi"
      },
      "source": [
        ""
      ],
      "execution_count": null,
      "outputs": []
    }
  ]
}