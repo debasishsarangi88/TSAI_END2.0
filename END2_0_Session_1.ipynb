{
  "nbformat": 4,
  "nbformat_minor": 0,
  "metadata": {
    "colab": {
      "name": "END2.0 Session 1.ipynb",
      "provenance": [],
      "include_colab_link": true
    },
    "kernelspec": {
      "name": "python3",
      "display_name": "Python 3"
    },
    "language_info": {
      "name": "python"
    }
  },
  "cells": [
    {
      "cell_type": "markdown",
      "metadata": {
        "id": "view-in-github",
        "colab_type": "text"
      },
      "source": [
        "<a href=\"https://colab.research.google.com/github/debasishsarangi88/TSAI_END2.0/blob/main/END2_0_Session_1.ipynb\" target=\"_parent\"><img src=\"https://colab.research.google.com/assets/colab-badge.svg\" alt=\"Open In Colab\"/></a>"
      ]
    },
    {
      "cell_type": "code",
      "metadata": {
        "colab": {
          "base_uri": "https://localhost:8080/"
        },
        "id": "GC_6PeobwwkH",
        "outputId": "f53ff2e3-00ae-4509-a548-959665740a17"
      },
      "source": [
        "import torch\n",
        "from torch.autograd import Variable\n",
        "import torch.nn as nn\n",
        "import torch.nn.functional as F\n",
        "import torch.optim as optim\n",
        "import numpy as np\n",
        "import matplotlib.pyplot as plt\n",
        "%matplotlib inline\n",
        "torch.manual_seed(2)"
      ],
      "execution_count": 32,
      "outputs": [
        {
          "output_type": "execute_result",
          "data": {
            "text/plain": [
              "<torch._C.Generator at 0x7f133992c8d0>"
            ]
          },
          "metadata": {
            "tags": []
          },
          "execution_count": 32
        }
      ]
    },
    {
      "cell_type": "code",
      "metadata": {
        "id": "bL64bMTkw2GP"
      },
      "source": [
        "X = torch.Tensor([[0,0], [0,1], [1,0], [1,1]])\n",
        "Y = torch.Tensor([0, 1, 1, 0]).view(-1,1)"
      ],
      "execution_count": 33,
      "outputs": []
    },
    {
      "cell_type": "code",
      "metadata": {
        "id": "aC82kEAIw3Wf"
      },
      "source": [
        "class XOR(nn.Module):\n",
        "    def __init__(self, input_dim = 2, output_dim=1):\n",
        "        super(XOR, self).__init__()\n",
        "        self.lin1 = nn.Linear(input_dim, 11,)\n",
        "        self.lin2 = nn.Linear(11, output_dim,bias=False)\n",
        "\n",
        "    \n",
        "    def forward(self, x):\n",
        "        x = self.lin1(x)\n",
        "        x = torch.tanh(x)\n",
        "        x = self.lin2(x)\n",
        "        return x"
      ],
      "execution_count": 34,
      "outputs": []
    },
    {
      "cell_type": "code",
      "metadata": {
        "colab": {
          "base_uri": "https://localhost:8080/"
        },
        "id": "8gQIQExYw65K",
        "outputId": "4aeaed51-f261-4941-b5f7-891608a1c18d"
      },
      "source": [
        "model = XOR()\n",
        "print(model)\n",
        "from torchsummary import summary\n",
        "summary(model, (2,2))"
      ],
      "execution_count": 35,
      "outputs": [
        {
          "output_type": "stream",
          "text": [
            "XOR(\n",
            "  (lin1): Linear(in_features=2, out_features=11, bias=True)\n",
            "  (lin2): Linear(in_features=11, out_features=1, bias=False)\n",
            ")\n",
            "----------------------------------------------------------------\n",
            "        Layer (type)               Output Shape         Param #\n",
            "================================================================\n",
            "            Linear-1                [-1, 2, 11]              33\n",
            "            Linear-2                 [-1, 2, 1]              11\n",
            "================================================================\n",
            "Total params: 44\n",
            "Trainable params: 44\n",
            "Non-trainable params: 0\n",
            "----------------------------------------------------------------\n",
            "Input size (MB): 0.00\n",
            "Forward/backward pass size (MB): 0.00\n",
            "Params size (MB): 0.00\n",
            "Estimated Total Size (MB): 0.00\n",
            "----------------------------------------------------------------\n"
          ],
          "name": "stdout"
        }
      ]
    },
    {
      "cell_type": "code",
      "metadata": {
        "id": "yeotEq19x6XF"
      },
      "source": [
        "def weights_init(model):\n",
        "    for m in model.modules():\n",
        "        if isinstance(m, nn.Linear):\n",
        "            # initialize the weight tensor, here we use a normal distribution\n",
        "            m.weight.data.normal_(0, 1)\n",
        "\n",
        "weights_init(model)"
      ],
      "execution_count": 36,
      "outputs": []
    },
    {
      "cell_type": "code",
      "metadata": {
        "id": "WrD_sNzLx78e"
      },
      "source": [
        "loss_func = nn.L1Loss()"
      ],
      "execution_count": 37,
      "outputs": []
    },
    {
      "cell_type": "code",
      "metadata": {
        "id": "-zvbrMd2x_lA"
      },
      "source": [
        "optimizer = optim.SGD(model.parameters(), lr=0.01, momentum=0.8)\n"
      ],
      "execution_count": 40,
      "outputs": []
    },
    {
      "cell_type": "code",
      "metadata": {
        "colab": {
          "base_uri": "https://localhost:8080/"
        },
        "id": "q7tWa3D7yA5X",
        "outputId": "2ad2b1de-667b-4004-f9a3-7d23e31b45a2"
      },
      "source": [
        "epochs = 2001\n",
        "steps = X.size(0)\n",
        "for i in range(epochs):\n",
        "    for j in range(steps):\n",
        "        data_point = np.random.randint(X.size(0))\n",
        "        x_var = Variable(X[data_point], requires_grad=True)\n",
        "        y_var = Variable(Y[data_point], requires_grad=True)\n",
        "        \n",
        "        optimizer.zero_grad()\n",
        "        y_hat = model(x_var)\n",
        "        loss = loss_func.forward(y_hat, y_var)\n",
        "        loss.backward()\n",
        "        optimizer.step()\n",
        "        \n",
        "    if i % 50 == 0:\n",
        "        print( \"Epoch: {0}, Loss: {1}, \".format(i, loss.data.numpy()))\n",
        "  "
      ],
      "execution_count": 41,
      "outputs": [
        {
          "output_type": "stream",
          "text": [
            "Epoch: 0, Loss: 0.10547351837158203, \n",
            "Epoch: 50, Loss: 0.01633906364440918, \n",
            "Epoch: 100, Loss: 0.04822927713394165, \n",
            "Epoch: 150, Loss: 0.01720881462097168, \n",
            "Epoch: 200, Loss: 0.003914952278137207, \n",
            "Epoch: 250, Loss: 0.01894962787628174, \n",
            "Epoch: 300, Loss: 0.040193021297454834, \n",
            "Epoch: 350, Loss: 0.09872841835021973, \n",
            "Epoch: 400, Loss: 0.03573596477508545, \n",
            "Epoch: 450, Loss: 0.0024906396865844727, \n",
            "Epoch: 500, Loss: 0.020363569259643555, \n",
            "Epoch: 550, Loss: 0.05337941646575928, \n",
            "Epoch: 600, Loss: 0.003049135208129883, \n",
            "Epoch: 650, Loss: 0.004097104072570801, \n",
            "Epoch: 700, Loss: 0.02520984411239624, \n",
            "Epoch: 750, Loss: 0.08627974987030029, \n",
            "Epoch: 800, Loss: 0.025529861450195312, \n",
            "Epoch: 850, Loss: 0.008148193359375, \n",
            "Epoch: 900, Loss: 0.07844650745391846, \n",
            "Epoch: 950, Loss: 0.045126914978027344, \n",
            "Epoch: 1000, Loss: 0.10427999496459961, \n",
            "Epoch: 1050, Loss: 0.12317931652069092, \n",
            "Epoch: 1100, Loss: 0.04034066200256348, \n",
            "Epoch: 1150, Loss: 0.078715980052948, \n",
            "Epoch: 1200, Loss: 0.00019311904907226562, \n",
            "Epoch: 1250, Loss: 0.022009193897247314, \n",
            "Epoch: 1300, Loss: 0.0023270845413208008, \n",
            "Epoch: 1350, Loss: 0.08033084869384766, \n",
            "Epoch: 1400, Loss: 0.0317002534866333, \n",
            "Epoch: 1450, Loss: 0.09656977653503418, \n",
            "Epoch: 1500, Loss: 0.034119248390197754, \n",
            "Epoch: 1550, Loss: 0.021900534629821777, \n",
            "Epoch: 1600, Loss: 0.028078436851501465, \n",
            "Epoch: 1650, Loss: 0.027214765548706055, \n",
            "Epoch: 1700, Loss: 0.0015703439712524414, \n",
            "Epoch: 1750, Loss: 0.032911837100982666, \n",
            "Epoch: 1800, Loss: 0.07219767570495605, \n",
            "Epoch: 1850, Loss: 0.0040318965911865234, \n",
            "Epoch: 1900, Loss: 0.05066889524459839, \n",
            "Epoch: 1950, Loss: 0.060943424701690674, \n",
            "Epoch: 2000, Loss: 0.04564392566680908, \n"
          ],
          "name": "stdout"
        }
      ]
    },
    {
      "cell_type": "code",
      "metadata": {
        "id": "QV0dIdveyCRi"
      },
      "source": [
        ""
      ],
      "execution_count": null,
      "outputs": []
    }
  ]
}