{
  "nbformat": 4,
  "nbformat_minor": 0,
  "metadata": {
    "colab": {
      "name": "END2.0 Session 1.ipynb",
      "provenance": [],
      "include_colab_link": true
    },
    "kernelspec": {
      "name": "python3",
      "display_name": "Python 3"
    },
    "language_info": {
      "name": "python"
    }
  },
  "cells": [
    {
      "cell_type": "markdown",
      "metadata": {
        "id": "view-in-github",
        "colab_type": "text"
      },
      "source": [
        "<a href=\"https://colab.research.google.com/github/debasishsarangi88/TSAI_END2.0/blob/main/END2_0_Session_1.ipynb\" target=\"_parent\"><img src=\"https://colab.research.google.com/assets/colab-badge.svg\" alt=\"Open In Colab\"/></a>"
      ]
    },
    {
      "cell_type": "code",
      "metadata": {
        "colab": {
          "base_uri": "https://localhost:8080/"
        },
        "id": "GC_6PeobwwkH",
        "outputId": "f8d19a57-6152-44ae-d531-8211b393368e"
      },
      "source": [
        "import torch\n",
        "from torch.autograd import Variable\n",
        "import torch.nn as nn\n",
        "import torch.nn.functional as F\n",
        "import torch.optim as optim\n",
        "import numpy as np\n",
        "import matplotlib.pyplot as plt\n",
        "%matplotlib inline\n",
        "torch.manual_seed(2)"
      ],
      "execution_count": 14,
      "outputs": [
        {
          "output_type": "execute_result",
          "data": {
            "text/plain": [
              "<torch._C.Generator at 0x7fbd2b5ee510>"
            ]
          },
          "metadata": {
            "tags": []
          },
          "execution_count": 14
        }
      ]
    },
    {
      "cell_type": "code",
      "metadata": {
        "id": "bL64bMTkw2GP"
      },
      "source": [
        "X = torch.Tensor([[0,0], [0,1], [1,0], [1,1]])\n",
        "Y = torch.Tensor([0, 1, 1, 0]).view(-1,1)"
      ],
      "execution_count": 2,
      "outputs": []
    },
    {
      "cell_type": "code",
      "metadata": {
        "id": "aC82kEAIw3Wf"
      },
      "source": [
        "class XOR(nn.Module):\n",
        "    def __init__(self, input_dim = 2, output_dim=1):\n",
        "        super(XOR, self).__init__()\n",
        "        self.lin1 = nn.Linear(input_dim, 2)\n",
        "        self.lin2 = nn.Linear(input_dim, 2)\n",
        "        self.lin3 = nn.Linear(2, output_dim)\n",
        "\n",
        "    \n",
        "    def forward(self, x):\n",
        "        x = self.lin1(x)\n",
        "        x = torch.tanh(x)\n",
        "        x = self.lin2(x)\n",
        "        x = torch.tanh(x)\n",
        "        x = self.lin3(x)\n",
        "        return x"
      ],
      "execution_count": 15,
      "outputs": []
    },
    {
      "cell_type": "code",
      "metadata": {
        "colab": {
          "base_uri": "https://localhost:8080/"
        },
        "id": "8gQIQExYw65K",
        "outputId": "29acd1e0-b353-40cc-9f5c-f71c17db63cc"
      },
      "source": [
        "model = XOR()\n",
        "print(model)\n",
        "from torchsummary import summary\n",
        "summary(model, (2,2))"
      ],
      "execution_count": 16,
      "outputs": [
        {
          "output_type": "stream",
          "text": [
            "XOR(\n",
            "  (lin1): Linear(in_features=2, out_features=2, bias=True)\n",
            "  (lin2): Linear(in_features=2, out_features=2, bias=True)\n",
            "  (lin3): Linear(in_features=2, out_features=1, bias=True)\n",
            ")\n",
            "----------------------------------------------------------------\n",
            "        Layer (type)               Output Shape         Param #\n",
            "================================================================\n",
            "            Linear-1                 [-1, 2, 2]               6\n",
            "            Linear-2                 [-1, 2, 2]               6\n",
            "            Linear-3                 [-1, 2, 1]               3\n",
            "================================================================\n",
            "Total params: 15\n",
            "Trainable params: 15\n",
            "Non-trainable params: 0\n",
            "----------------------------------------------------------------\n",
            "Input size (MB): 0.00\n",
            "Forward/backward pass size (MB): 0.00\n",
            "Params size (MB): 0.00\n",
            "Estimated Total Size (MB): 0.00\n",
            "----------------------------------------------------------------\n"
          ],
          "name": "stdout"
        }
      ]
    },
    {
      "cell_type": "code",
      "metadata": {
        "id": "yeotEq19x6XF"
      },
      "source": [
        "def weights_init(model):\n",
        "    for m in model.modules():\n",
        "        if isinstance(m, nn.Linear):\n",
        "            # initialize the weight tensor, here we use a normal distribution\n",
        "            m.weight.data.normal_(0, 1)\n",
        "\n",
        "weights_init(model)"
      ],
      "execution_count": 17,
      "outputs": []
    },
    {
      "cell_type": "code",
      "metadata": {
        "id": "WrD_sNzLx78e"
      },
      "source": [
        "loss_func = nn.L1Loss()"
      ],
      "execution_count": 19,
      "outputs": []
    },
    {
      "cell_type": "code",
      "metadata": {
        "id": "-zvbrMd2x_lA"
      },
      "source": [
        "optimizer = optim.SGD(model.parameters(), lr=0.02, momentum=0.9)\n"
      ],
      "execution_count": 18,
      "outputs": []
    },
    {
      "cell_type": "code",
      "metadata": {
        "colab": {
          "base_uri": "https://localhost:8080/"
        },
        "id": "q7tWa3D7yA5X",
        "outputId": "b9f72cf4-218c-451c-ac4b-4655b5085a15"
      },
      "source": [
        "epochs = 2001\n",
        "steps = X.size(0)\n",
        "for i in range(epochs):\n",
        "    for j in range(steps):\n",
        "        data_point = np.random.randint(X.size(0))\n",
        "        x_var = Variable(X[data_point], requires_grad=True)\n",
        "        y_var = Variable(Y[data_point], requires_grad=True)\n",
        "        \n",
        "        optimizer.zero_grad()\n",
        "        y_hat = model(x_var)\n",
        "        loss = loss_func.forward(y_hat, y_var)\n",
        "        loss.backward()\n",
        "        optimizer.step()\n",
        "        \n",
        "    if i % 50 == 0:\n",
        "        print( \"Epoch: {0}, Loss: {1}, \".format(i, loss.data.numpy()))"
      ],
      "execution_count": 20,
      "outputs": [
        {
          "output_type": "stream",
          "text": [
            "Epoch: 0, Loss: 0.00891837477684021, \n",
            "Epoch: 50, Loss: 0.09517323970794678, \n",
            "Epoch: 100, Loss: 0.09921014308929443, \n",
            "Epoch: 150, Loss: 0.4259074926376343, \n",
            "Epoch: 200, Loss: 0.07067060470581055, \n",
            "Epoch: 250, Loss: 0.13147437572479248, \n",
            "Epoch: 300, Loss: 0.05467666685581207, \n",
            "Epoch: 350, Loss: 0.019961416721343994, \n",
            "Epoch: 400, Loss: 0.1556180715560913, \n",
            "Epoch: 450, Loss: 0.17158997058868408, \n",
            "Epoch: 500, Loss: 0.17783766984939575, \n",
            "Epoch: 550, Loss: 0.060560762882232666, \n",
            "Epoch: 600, Loss: 0.07282006740570068, \n",
            "Epoch: 650, Loss: 0.06889104843139648, \n",
            "Epoch: 700, Loss: 0.06185227632522583, \n",
            "Epoch: 750, Loss: 0.07773184776306152, \n",
            "Epoch: 800, Loss: 0.01580953598022461, \n",
            "Epoch: 850, Loss: 0.13260811567306519, \n",
            "Epoch: 900, Loss: 0.0097179114818573, \n",
            "Epoch: 950, Loss: 0.12883621454238892, \n",
            "Epoch: 1000, Loss: 0.05199003219604492, \n",
            "Epoch: 1050, Loss: 0.04388117790222168, \n",
            "Epoch: 1100, Loss: 0.15475201606750488, \n",
            "Epoch: 1150, Loss: 0.14004486799240112, \n",
            "Epoch: 1200, Loss: 0.012807011604309082, \n",
            "Epoch: 1250, Loss: 0.0539630651473999, \n",
            "Epoch: 1300, Loss: 0.07793760299682617, \n",
            "Epoch: 1350, Loss: 0.1449698507785797, \n",
            "Epoch: 1400, Loss: 0.058542609214782715, \n",
            "Epoch: 1450, Loss: 0.036965399980545044, \n",
            "Epoch: 1500, Loss: 0.15855729579925537, \n",
            "Epoch: 1550, Loss: 0.11737626791000366, \n",
            "Epoch: 1600, Loss: 0.08240902423858643, \n",
            "Epoch: 1650, Loss: 0.15215134620666504, \n",
            "Epoch: 1700, Loss: 0.12087583541870117, \n",
            "Epoch: 1750, Loss: 0.0069911181926727295, \n",
            "Epoch: 1800, Loss: 0.18551671504974365, \n",
            "Epoch: 1850, Loss: 0.2105727195739746, \n",
            "Epoch: 1900, Loss: 0.3395707607269287, \n",
            "Epoch: 1950, Loss: 0.0010269880294799805, \n",
            "Epoch: 2000, Loss: 0.1174965500831604, \n"
          ],
          "name": "stdout"
        }
      ]
    },
    {
      "cell_type": "code",
      "metadata": {
        "id": "QV0dIdveyCRi"
      },
      "source": [
        ""
      ],
      "execution_count": null,
      "outputs": []
    }
  ]
}