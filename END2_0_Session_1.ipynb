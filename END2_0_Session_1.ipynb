{
  "nbformat": 4,
  "nbformat_minor": 0,
  "metadata": {
    "colab": {
      "name": "END2.0 Session 1.ipynb",
      "provenance": [],
      "include_colab_link": true
    },
    "kernelspec": {
      "name": "python3",
      "display_name": "Python 3"
    },
    "language_info": {
      "name": "python"
    }
  },
  "cells": [
    {
      "cell_type": "markdown",
      "metadata": {
        "id": "view-in-github",
        "colab_type": "text"
      },
      "source": [
        "<a href=\"https://colab.research.google.com/github/debasishsarangi88/TSAI_END2.0/blob/Session1/END2_0_Session_1.ipynb\" target=\"_parent\"><img src=\"https://colab.research.google.com/assets/colab-badge.svg\" alt=\"Open In Colab\"/></a>"
      ]
    },
    {
      "cell_type": "code",
      "metadata": {
        "colab": {
          "base_uri": "https://localhost:8080/"
        },
        "id": "GC_6PeobwwkH",
        "outputId": "ebf44ee3-aafd-44f3-819e-7145c39cdc7b"
      },
      "source": [
        "import torch\n",
        "from torch.autograd import Variable\n",
        "import torch.nn as nn\n",
        "import torch.nn.functional as F\n",
        "import torch.optim as optim\n",
        "import numpy as np\n",
        "import matplotlib.pyplot as plt\n",
        "%matplotlib inline\n",
        "torch.manual_seed(2)"
      ],
      "execution_count": 12,
      "outputs": [
        {
          "output_type": "execute_result",
          "data": {
            "text/plain": [
              "<torch._C.Generator at 0x7f133992c8d0>"
            ]
          },
          "metadata": {
            "tags": []
          },
          "execution_count": 12
        }
      ]
    },
    {
      "cell_type": "code",
      "metadata": {
        "id": "bL64bMTkw2GP"
      },
      "source": [
        "X = torch.Tensor([[0,0], [0,1], [1,0], [1,1]])\n",
        "Y = torch.Tensor([0, 1, 1, 0]).view(-1,1)"
      ],
      "execution_count": 13,
      "outputs": []
    },
    {
      "cell_type": "code",
      "metadata": {
        "id": "aC82kEAIw3Wf"
      },
      "source": [
        "class XOR(nn.Module):\n",
        "    def __init__(self, input_dim = 2, output_dim=1):\n",
        "        super(XOR, self).__init__()\n",
        "        self.lin1 = nn.Linear(input_dim, 11,)\n",
        "        self.lin2 = nn.Linear(11, output_dim,bias=False)\n",
        "\n",
        "    \n",
        "    def forward(self, x):\n",
        "        x = self.lin1(x)\n",
        "        x = torch.tanh(x)\n",
        "        x = self.lin2(x)\n",
        "        return x"
      ],
      "execution_count": 14,
      "outputs": []
    },
    {
      "cell_type": "code",
      "metadata": {
        "colab": {
          "base_uri": "https://localhost:8080/"
        },
        "id": "8gQIQExYw65K",
        "outputId": "a1ac4e98-4a48-4515-b93c-75ed6364c0d8"
      },
      "source": [
        "model = XOR()\n",
        "print(model)\n",
        "from torchsummary import summary\n",
        "summary(model, (2,2))"
      ],
      "execution_count": 15,
      "outputs": [
        {
          "output_type": "stream",
          "text": [
            "XOR(\n",
            "  (lin1): Linear(in_features=2, out_features=11, bias=True)\n",
            "  (lin2): Linear(in_features=11, out_features=1, bias=False)\n",
            ")\n",
            "----------------------------------------------------------------\n",
            "        Layer (type)               Output Shape         Param #\n",
            "================================================================\n",
            "            Linear-1                [-1, 2, 11]              33\n",
            "            Linear-2                 [-1, 2, 1]              11\n",
            "================================================================\n",
            "Total params: 44\n",
            "Trainable params: 44\n",
            "Non-trainable params: 0\n",
            "----------------------------------------------------------------\n",
            "Input size (MB): 0.00\n",
            "Forward/backward pass size (MB): 0.00\n",
            "Params size (MB): 0.00\n",
            "Estimated Total Size (MB): 0.00\n",
            "----------------------------------------------------------------\n"
          ],
          "name": "stdout"
        }
      ]
    },
    {
      "cell_type": "code",
      "metadata": {
        "id": "yeotEq19x6XF"
      },
      "source": [
        "def weights_init(model):\n",
        "    for m in model.modules():\n",
        "        if isinstance(m, nn.Linear):\n",
        "            # initialize the weight tensor, here we use a normal distribution\n",
        "            m.weight.data.normal_(0, 1)\n",
        "\n",
        "weights_init(model)"
      ],
      "execution_count": 16,
      "outputs": []
    },
    {
      "cell_type": "code",
      "metadata": {
        "id": "WrD_sNzLx78e"
      },
      "source": [
        "loss_func = nn.L1Loss()"
      ],
      "execution_count": 17,
      "outputs": []
    },
    {
      "cell_type": "code",
      "metadata": {
        "id": "-zvbrMd2x_lA"
      },
      "source": [
        "optimizer = optim.SGD(model.parameters(), lr=0.02, momentum=0.8)\n"
      ],
      "execution_count": 18,
      "outputs": []
    },
    {
      "cell_type": "code",
      "metadata": {
        "colab": {
          "base_uri": "https://localhost:8080/"
        },
        "id": "q7tWa3D7yA5X",
        "outputId": "bbfa523c-3d05-41c2-d8ad-e788afcc5925"
      },
      "source": [
        "epochs = 2001\n",
        "steps = X.size(0)\n",
        "for i in range(epochs):\n",
        "    for j in range(steps):\n",
        "        data_point = np.random.randint(X.size(0))\n",
        "        x_var = Variable(X[data_point], requires_grad=True)\n",
        "        y_var = Variable(Y[data_point], requires_grad=True)\n",
        "        \n",
        "        optimizer.zero_grad()\n",
        "        y_hat = model(x_var)\n",
        "        loss = loss_func.forward(y_hat, y_var)\n",
        "        loss.backward()\n",
        "        optimizer.step()\n",
        "        \n",
        "    if i % 50 == 0:\n",
        "        print( \"Epoch: {0}, Loss: {1}, \".format(i, loss.data.numpy()))\n",
        "  "
      ],
      "execution_count": 24,
      "outputs": [
        {
          "output_type": "stream",
          "text": [
            "Epoch: 0, Loss: 0.24154329299926758, \n",
            "Epoch: 50, Loss: 0.169375479221344, \n",
            "Epoch: 100, Loss: 0.03270065784454346, \n",
            "Epoch: 150, Loss: 0.07209408283233643, \n",
            "Epoch: 200, Loss: 0.011696934700012207, \n",
            "Epoch: 250, Loss: 0.028079986572265625, \n",
            "Epoch: 300, Loss: 0.2013862133026123, \n",
            "Epoch: 350, Loss: 0.045683443546295166, \n",
            "Epoch: 400, Loss: 0.003977179527282715, \n",
            "Epoch: 450, Loss: 0.11332374811172485, \n",
            "Epoch: 500, Loss: 0.07294058799743652, \n",
            "Epoch: 550, Loss: 0.03523361682891846, \n",
            "Epoch: 600, Loss: 0.08348798751831055, \n",
            "Epoch: 650, Loss: 0.050068795680999756, \n",
            "Epoch: 700, Loss: 0.12904083728790283, \n",
            "Epoch: 750, Loss: 0.059253573417663574, \n",
            "Epoch: 800, Loss: 0.02221691608428955, \n",
            "Epoch: 850, Loss: 0.06886261701583862, \n",
            "Epoch: 900, Loss: 0.1081727147102356, \n",
            "Epoch: 950, Loss: 0.0747685432434082, \n",
            "Epoch: 1000, Loss: 0.03519684076309204, \n",
            "Epoch: 1050, Loss: 0.11069297790527344, \n",
            "Epoch: 1100, Loss: 0.09519970417022705, \n",
            "Epoch: 1150, Loss: 0.0526355504989624, \n",
            "Epoch: 1200, Loss: 0.09645116329193115, \n",
            "Epoch: 1250, Loss: 0.20901405811309814, \n",
            "Epoch: 1300, Loss: 0.05932796001434326, \n",
            "Epoch: 1350, Loss: 0.13184893131256104, \n",
            "Epoch: 1400, Loss: 0.016099214553833008, \n",
            "Epoch: 1450, Loss: 0.18143343925476074, \n",
            "Epoch: 1500, Loss: 0.09997785091400146, \n",
            "Epoch: 1550, Loss: 0.10334503650665283, \n",
            "Epoch: 1600, Loss: 0.21697711944580078, \n",
            "Epoch: 1650, Loss: 0.055622756481170654, \n",
            "Epoch: 1700, Loss: 0.14014434814453125, \n",
            "Epoch: 1750, Loss: 0.19355511665344238, \n",
            "Epoch: 1800, Loss: 0.013893365859985352, \n",
            "Epoch: 1850, Loss: 0.08051562309265137, \n",
            "Epoch: 1900, Loss: 0.20009160041809082, \n",
            "Epoch: 1950, Loss: 0.19324594736099243, \n",
            "Epoch: 2000, Loss: 0.10996115207672119, \n"
          ],
          "name": "stdout"
        }
      ]
    },
    {
      "cell_type": "code",
      "metadata": {
        "id": "QV0dIdveyCRi"
      },
      "source": [
        ""
      ],
      "execution_count": null,
      "outputs": []
    }
  ]
}