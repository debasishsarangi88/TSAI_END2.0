{
  "nbformat": 4,
  "nbformat_minor": 0,
  "metadata": {
    "colab": {
      "name": "END2.0 Session 1.ipynb",
      "provenance": [],
      "include_colab_link": true
    },
    "kernelspec": {
      "name": "python3",
      "display_name": "Python 3"
    },
    "language_info": {
      "name": "python"
    }
  },
  "cells": [
    {
      "cell_type": "markdown",
      "metadata": {
        "id": "view-in-github",
        "colab_type": "text"
      },
      "source": [
        "<a href=\"https://colab.research.google.com/github/debasishsarangi88/TSAI_END2.0/blob/main/END2_0_Session_1.ipynb\" target=\"_parent\"><img src=\"https://colab.research.google.com/assets/colab-badge.svg\" alt=\"Open In Colab\"/></a>"
      ]
    },
    {
      "cell_type": "code",
      "metadata": {
        "colab": {
          "base_uri": "https://localhost:8080/"
        },
        "id": "GC_6PeobwwkH",
        "outputId": "f67a9354-fad4-462b-85a0-9ffb2d1ef38d"
      },
      "source": [
        "import torch\n",
        "from torch.autograd import Variable\n",
        "import torch.nn as nn\n",
        "import torch.nn.functional as F\n",
        "import torch.optim as optim\n",
        "import numpy as np\n",
        "import matplotlib.pyplot as plt\n",
        "%matplotlib inline\n",
        "torch.manual_seed(2)"
      ],
      "execution_count": 1,
      "outputs": [
        {
          "output_type": "execute_result",
          "data": {
            "text/plain": [
              "<torch._C.Generator at 0x7f133992c8d0>"
            ]
          },
          "metadata": {
            "tags": []
          },
          "execution_count": 1
        }
      ]
    },
    {
      "cell_type": "code",
      "metadata": {
        "id": "bL64bMTkw2GP"
      },
      "source": [
        "X = torch.Tensor([[0,0], [0,1], [1,0], [1,1]])\n",
        "Y = torch.Tensor([0, 1, 1, 0]).view(-1,1)"
      ],
      "execution_count": 2,
      "outputs": []
    },
    {
      "cell_type": "code",
      "metadata": {
        "id": "aC82kEAIw3Wf"
      },
      "source": [
        "class XOR(nn.Module):\n",
        "    def __init__(self, input_dim = 2, output_dim=1):\n",
        "        super(XOR, self).__init__()\n",
        "        self.lin1 = nn.Linear(input_dim, 11,)\n",
        "        self.lin2 = nn.Linear(11, output_dim,bias=False)\n",
        "\n",
        "    \n",
        "    def forward(self, x):\n",
        "        x = self.lin1(x)\n",
        "        x = torch.tanh(x)\n",
        "        x = self.lin2(x)\n",
        "        return x"
      ],
      "execution_count": 3,
      "outputs": []
    },
    {
      "cell_type": "code",
      "metadata": {
        "colab": {
          "base_uri": "https://localhost:8080/"
        },
        "id": "8gQIQExYw65K",
        "outputId": "6644ab23-b122-40e1-d568-db4392e728d9"
      },
      "source": [
        "model = XOR()\n",
        "print(model)\n",
        "from torchsummary import summary\n",
        "summary(model, (2,2))"
      ],
      "execution_count": 4,
      "outputs": [
        {
          "output_type": "stream",
          "text": [
            "XOR(\n",
            "  (lin1): Linear(in_features=2, out_features=11, bias=True)\n",
            "  (lin2): Linear(in_features=11, out_features=1, bias=False)\n",
            ")\n",
            "----------------------------------------------------------------\n",
            "        Layer (type)               Output Shape         Param #\n",
            "================================================================\n",
            "            Linear-1                [-1, 2, 11]              33\n",
            "            Linear-2                 [-1, 2, 1]              11\n",
            "================================================================\n",
            "Total params: 44\n",
            "Trainable params: 44\n",
            "Non-trainable params: 0\n",
            "----------------------------------------------------------------\n",
            "Input size (MB): 0.00\n",
            "Forward/backward pass size (MB): 0.00\n",
            "Params size (MB): 0.00\n",
            "Estimated Total Size (MB): 0.00\n",
            "----------------------------------------------------------------\n"
          ],
          "name": "stdout"
        }
      ]
    },
    {
      "cell_type": "code",
      "metadata": {
        "id": "yeotEq19x6XF"
      },
      "source": [
        "def weights_init(model):\n",
        "    for m in model.modules():\n",
        "        if isinstance(m, nn.Linear):\n",
        "            # initialize the weight tensor, here we use a normal distribution\n",
        "            m.weight.data.normal_(0, 1)\n",
        "\n",
        "weights_init(model)"
      ],
      "execution_count": 5,
      "outputs": []
    },
    {
      "cell_type": "code",
      "metadata": {
        "id": "WrD_sNzLx78e"
      },
      "source": [
        "loss_func = nn.L1Loss()"
      ],
      "execution_count": 6,
      "outputs": []
    },
    {
      "cell_type": "code",
      "metadata": {
        "id": "-zvbrMd2x_lA"
      },
      "source": [
        "optimizer = optim.SGD(model.parameters(), lr=0.02, momentum=0.8)\n"
      ],
      "execution_count": 7,
      "outputs": []
    },
    {
      "cell_type": "code",
      "metadata": {
        "colab": {
          "base_uri": "https://localhost:8080/"
        },
        "id": "q7tWa3D7yA5X",
        "outputId": "af66a2ee-63d6-41c5-c185-ead34edcc670"
      },
      "source": [
        "epochs = 2001\n",
        "steps = X.size(0)\n",
        "for i in range(epochs):\n",
        "    for j in range(steps):\n",
        "        data_point = np.random.randint(X.size(0))\n",
        "        x_var = Variable(X[data_point], requires_grad=True)\n",
        "        y_var = Variable(Y[data_point], requires_grad=True)\n",
        "        \n",
        "        optimizer.zero_grad()\n",
        "        y_hat = model(x_var)\n",
        "        loss = loss_func.forward(y_hat, y_var)\n",
        "        loss.backward()\n",
        "        optimizer.step()\n",
        "        \n",
        "    if i % 50 == 0:\n",
        "        print( \"Epoch: {0}, Loss: {1}, \".format(i, loss.data.numpy()))"
      ],
      "execution_count": 8,
      "outputs": [
        {
          "output_type": "stream",
          "text": [
            "Epoch: 0, Loss: 0.0907437801361084, \n",
            "Epoch: 50, Loss: 0.45605039596557617, \n",
            "Epoch: 100, Loss: 0.34440553188323975, \n",
            "Epoch: 150, Loss: 0.07904160022735596, \n",
            "Epoch: 200, Loss: 0.04542003571987152, \n",
            "Epoch: 250, Loss: 0.041556596755981445, \n",
            "Epoch: 300, Loss: 0.04205235838890076, \n",
            "Epoch: 350, Loss: 0.1056365966796875, \n",
            "Epoch: 400, Loss: 0.31779590249061584, \n",
            "Epoch: 450, Loss: 0.001857072114944458, \n",
            "Epoch: 500, Loss: 0.09375977516174316, \n",
            "Epoch: 550, Loss: 0.1663086712360382, \n",
            "Epoch: 600, Loss: 0.2386946678161621, \n",
            "Epoch: 650, Loss: 0.04291272163391113, \n",
            "Epoch: 700, Loss: 0.003564000129699707, \n",
            "Epoch: 750, Loss: 0.0969308614730835, \n",
            "Epoch: 800, Loss: 0.025069236755371094, \n",
            "Epoch: 850, Loss: 0.14999325573444366, \n",
            "Epoch: 900, Loss: 0.02456076443195343, \n",
            "Epoch: 950, Loss: 0.15206941962242126, \n",
            "Epoch: 1000, Loss: 0.00781230628490448, \n",
            "Epoch: 1050, Loss: 0.07892297953367233, \n",
            "Epoch: 1100, Loss: 0.02272028475999832, \n",
            "Epoch: 1150, Loss: 0.08406682312488556, \n",
            "Epoch: 1200, Loss: 0.023537814617156982, \n",
            "Epoch: 1250, Loss: 0.10983777046203613, \n",
            "Epoch: 1300, Loss: 0.027170777320861816, \n",
            "Epoch: 1350, Loss: 0.04071247577667236, \n",
            "Epoch: 1400, Loss: 0.02588382363319397, \n",
            "Epoch: 1450, Loss: 0.019640207290649414, \n",
            "Epoch: 1500, Loss: 0.06982946395874023, \n",
            "Epoch: 1550, Loss: 0.046135902404785156, \n",
            "Epoch: 1600, Loss: 0.048451364040374756, \n",
            "Epoch: 1650, Loss: 0.2231225222349167, \n",
            "Epoch: 1700, Loss: 0.11357266455888748, \n",
            "Epoch: 1750, Loss: 0.034295931458473206, \n",
            "Epoch: 1800, Loss: 0.01813751459121704, \n",
            "Epoch: 1850, Loss: 0.023546695709228516, \n",
            "Epoch: 1900, Loss: 0.10364943742752075, \n",
            "Epoch: 1950, Loss: 0.02229614555835724, \n",
            "Epoch: 2000, Loss: 0.036887526512145996, \n"
          ],
          "name": "stdout"
        }
      ]
    },
    {
      "cell_type": "code",
      "metadata": {
        "id": "QV0dIdveyCRi"
      },
      "source": [
        ""
      ],
      "execution_count": null,
      "outputs": []
    }
  ]
}