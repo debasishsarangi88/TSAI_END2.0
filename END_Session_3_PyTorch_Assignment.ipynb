{
  "nbformat": 4,
  "nbformat_minor": 0,
  "metadata": {
    "colab": {
      "name": "END Session 3: PyTorch Assignment",
      "provenance": [],
      "collapsed_sections": [],
      "include_colab_link": true
    },
    "kernelspec": {
      "name": "python3",
      "display_name": "Python 3"
    },
    "language_info": {
      "name": "python"
    },
    "accelerator": "GPU",
    "widgets": {
      "application/vnd.jupyter.widget-state+json": {
        "01b6c83ef4024683985718a78c960b49": {
          "model_module": "@jupyter-widgets/controls",
          "model_name": "HBoxModel",
          "state": {
            "_view_name": "HBoxView",
            "_dom_classes": [],
            "_model_name": "HBoxModel",
            "_view_module": "@jupyter-widgets/controls",
            "_model_module_version": "1.5.0",
            "_view_count": null,
            "_view_module_version": "1.5.0",
            "box_style": "",
            "layout": "IPY_MODEL_faab4721516c4676907a67b76a3a770a",
            "_model_module": "@jupyter-widgets/controls",
            "children": [
              "IPY_MODEL_71fdefe3d5fa48169e28734a1f27b7de",
              "IPY_MODEL_5e4c50308cb74ec3b549f57af1f75737"
            ]
          }
        },
        "faab4721516c4676907a67b76a3a770a": {
          "model_module": "@jupyter-widgets/base",
          "model_name": "LayoutModel",
          "state": {
            "_view_name": "LayoutView",
            "grid_template_rows": null,
            "right": null,
            "justify_content": null,
            "_view_module": "@jupyter-widgets/base",
            "overflow": null,
            "_model_module_version": "1.2.0",
            "_view_count": null,
            "flex_flow": null,
            "width": null,
            "min_width": null,
            "border": null,
            "align_items": null,
            "bottom": null,
            "_model_module": "@jupyter-widgets/base",
            "top": null,
            "grid_column": null,
            "overflow_y": null,
            "overflow_x": null,
            "grid_auto_flow": null,
            "grid_area": null,
            "grid_template_columns": null,
            "flex": null,
            "_model_name": "LayoutModel",
            "justify_items": null,
            "grid_row": null,
            "max_height": null,
            "align_content": null,
            "visibility": null,
            "align_self": null,
            "height": null,
            "min_height": null,
            "padding": null,
            "grid_auto_rows": null,
            "grid_gap": null,
            "max_width": null,
            "order": null,
            "_view_module_version": "1.2.0",
            "grid_template_areas": null,
            "object_position": null,
            "object_fit": null,
            "grid_auto_columns": null,
            "margin": null,
            "display": null,
            "left": null
          }
        },
        "71fdefe3d5fa48169e28734a1f27b7de": {
          "model_module": "@jupyter-widgets/controls",
          "model_name": "FloatProgressModel",
          "state": {
            "_view_name": "ProgressView",
            "style": "IPY_MODEL_860da0bf28ab4203b0a3a2614ae00a23",
            "_dom_classes": [],
            "description": "",
            "_model_name": "FloatProgressModel",
            "bar_style": "success",
            "max": 9912422,
            "_view_module": "@jupyter-widgets/controls",
            "_model_module_version": "1.5.0",
            "value": 9912422,
            "_view_count": null,
            "_view_module_version": "1.5.0",
            "orientation": "horizontal",
            "min": 0,
            "description_tooltip": null,
            "_model_module": "@jupyter-widgets/controls",
            "layout": "IPY_MODEL_2a7465c875934b8b8da9d08c6d34ceba"
          }
        },
        "5e4c50308cb74ec3b549f57af1f75737": {
          "model_module": "@jupyter-widgets/controls",
          "model_name": "HTMLModel",
          "state": {
            "_view_name": "HTMLView",
            "style": "IPY_MODEL_a810e0cb5bad4d85a4258b5b46ffbb3c",
            "_dom_classes": [],
            "description": "",
            "_model_name": "HTMLModel",
            "placeholder": "​",
            "_view_module": "@jupyter-widgets/controls",
            "_model_module_version": "1.5.0",
            "value": " 9913344/? [03:22&lt;00:00, 48835.12it/s]",
            "_view_count": null,
            "_view_module_version": "1.5.0",
            "description_tooltip": null,
            "_model_module": "@jupyter-widgets/controls",
            "layout": "IPY_MODEL_fda08c1c2cde45bbacd58e1002c998ce"
          }
        },
        "860da0bf28ab4203b0a3a2614ae00a23": {
          "model_module": "@jupyter-widgets/controls",
          "model_name": "ProgressStyleModel",
          "state": {
            "_view_name": "StyleView",
            "_model_name": "ProgressStyleModel",
            "description_width": "initial",
            "_view_module": "@jupyter-widgets/base",
            "_model_module_version": "1.5.0",
            "_view_count": null,
            "_view_module_version": "1.2.0",
            "bar_color": null,
            "_model_module": "@jupyter-widgets/controls"
          }
        },
        "2a7465c875934b8b8da9d08c6d34ceba": {
          "model_module": "@jupyter-widgets/base",
          "model_name": "LayoutModel",
          "state": {
            "_view_name": "LayoutView",
            "grid_template_rows": null,
            "right": null,
            "justify_content": null,
            "_view_module": "@jupyter-widgets/base",
            "overflow": null,
            "_model_module_version": "1.2.0",
            "_view_count": null,
            "flex_flow": null,
            "width": null,
            "min_width": null,
            "border": null,
            "align_items": null,
            "bottom": null,
            "_model_module": "@jupyter-widgets/base",
            "top": null,
            "grid_column": null,
            "overflow_y": null,
            "overflow_x": null,
            "grid_auto_flow": null,
            "grid_area": null,
            "grid_template_columns": null,
            "flex": null,
            "_model_name": "LayoutModel",
            "justify_items": null,
            "grid_row": null,
            "max_height": null,
            "align_content": null,
            "visibility": null,
            "align_self": null,
            "height": null,
            "min_height": null,
            "padding": null,
            "grid_auto_rows": null,
            "grid_gap": null,
            "max_width": null,
            "order": null,
            "_view_module_version": "1.2.0",
            "grid_template_areas": null,
            "object_position": null,
            "object_fit": null,
            "grid_auto_columns": null,
            "margin": null,
            "display": null,
            "left": null
          }
        },
        "a810e0cb5bad4d85a4258b5b46ffbb3c": {
          "model_module": "@jupyter-widgets/controls",
          "model_name": "DescriptionStyleModel",
          "state": {
            "_view_name": "StyleView",
            "_model_name": "DescriptionStyleModel",
            "description_width": "",
            "_view_module": "@jupyter-widgets/base",
            "_model_module_version": "1.5.0",
            "_view_count": null,
            "_view_module_version": "1.2.0",
            "_model_module": "@jupyter-widgets/controls"
          }
        },
        "fda08c1c2cde45bbacd58e1002c998ce": {
          "model_module": "@jupyter-widgets/base",
          "model_name": "LayoutModel",
          "state": {
            "_view_name": "LayoutView",
            "grid_template_rows": null,
            "right": null,
            "justify_content": null,
            "_view_module": "@jupyter-widgets/base",
            "overflow": null,
            "_model_module_version": "1.2.0",
            "_view_count": null,
            "flex_flow": null,
            "width": null,
            "min_width": null,
            "border": null,
            "align_items": null,
            "bottom": null,
            "_model_module": "@jupyter-widgets/base",
            "top": null,
            "grid_column": null,
            "overflow_y": null,
            "overflow_x": null,
            "grid_auto_flow": null,
            "grid_area": null,
            "grid_template_columns": null,
            "flex": null,
            "_model_name": "LayoutModel",
            "justify_items": null,
            "grid_row": null,
            "max_height": null,
            "align_content": null,
            "visibility": null,
            "align_self": null,
            "height": null,
            "min_height": null,
            "padding": null,
            "grid_auto_rows": null,
            "grid_gap": null,
            "max_width": null,
            "order": null,
            "_view_module_version": "1.2.0",
            "grid_template_areas": null,
            "object_position": null,
            "object_fit": null,
            "grid_auto_columns": null,
            "margin": null,
            "display": null,
            "left": null
          }
        },
        "ec4552ef979344e984079dbcc0636fdb": {
          "model_module": "@jupyter-widgets/controls",
          "model_name": "HBoxModel",
          "state": {
            "_view_name": "HBoxView",
            "_dom_classes": [],
            "_model_name": "HBoxModel",
            "_view_module": "@jupyter-widgets/controls",
            "_model_module_version": "1.5.0",
            "_view_count": null,
            "_view_module_version": "1.5.0",
            "box_style": "",
            "layout": "IPY_MODEL_84a1aec79f2e4946aa040966e12f0eee",
            "_model_module": "@jupyter-widgets/controls",
            "children": [
              "IPY_MODEL_ab77c5755c3f479f96419ca48a78ab78",
              "IPY_MODEL_574cd359c34c48869f0c7bd1ac4d699d"
            ]
          }
        },
        "84a1aec79f2e4946aa040966e12f0eee": {
          "model_module": "@jupyter-widgets/base",
          "model_name": "LayoutModel",
          "state": {
            "_view_name": "LayoutView",
            "grid_template_rows": null,
            "right": null,
            "justify_content": null,
            "_view_module": "@jupyter-widgets/base",
            "overflow": null,
            "_model_module_version": "1.2.0",
            "_view_count": null,
            "flex_flow": null,
            "width": null,
            "min_width": null,
            "border": null,
            "align_items": null,
            "bottom": null,
            "_model_module": "@jupyter-widgets/base",
            "top": null,
            "grid_column": null,
            "overflow_y": null,
            "overflow_x": null,
            "grid_auto_flow": null,
            "grid_area": null,
            "grid_template_columns": null,
            "flex": null,
            "_model_name": "LayoutModel",
            "justify_items": null,
            "grid_row": null,
            "max_height": null,
            "align_content": null,
            "visibility": null,
            "align_self": null,
            "height": null,
            "min_height": null,
            "padding": null,
            "grid_auto_rows": null,
            "grid_gap": null,
            "max_width": null,
            "order": null,
            "_view_module_version": "1.2.0",
            "grid_template_areas": null,
            "object_position": null,
            "object_fit": null,
            "grid_auto_columns": null,
            "margin": null,
            "display": null,
            "left": null
          }
        },
        "ab77c5755c3f479f96419ca48a78ab78": {
          "model_module": "@jupyter-widgets/controls",
          "model_name": "FloatProgressModel",
          "state": {
            "_view_name": "ProgressView",
            "style": "IPY_MODEL_9ea45c8751d34f8d9dc5caec0aed9c06",
            "_dom_classes": [],
            "description": "",
            "_model_name": "FloatProgressModel",
            "bar_style": "success",
            "max": 28881,
            "_view_module": "@jupyter-widgets/controls",
            "_model_module_version": "1.5.0",
            "value": 28881,
            "_view_count": null,
            "_view_module_version": "1.5.0",
            "orientation": "horizontal",
            "min": 0,
            "description_tooltip": null,
            "_model_module": "@jupyter-widgets/controls",
            "layout": "IPY_MODEL_e0772fc18f63432faa817a35d848690f"
          }
        },
        "574cd359c34c48869f0c7bd1ac4d699d": {
          "model_module": "@jupyter-widgets/controls",
          "model_name": "HTMLModel",
          "state": {
            "_view_name": "HTMLView",
            "style": "IPY_MODEL_adf411853b2f4d9da0d0c3bfac285c69",
            "_dom_classes": [],
            "description": "",
            "_model_name": "HTMLModel",
            "placeholder": "​",
            "_view_module": "@jupyter-widgets/controls",
            "_model_module_version": "1.5.0",
            "value": " 29696/? [00:00&lt;00:00, 38065.96it/s]",
            "_view_count": null,
            "_view_module_version": "1.5.0",
            "description_tooltip": null,
            "_model_module": "@jupyter-widgets/controls",
            "layout": "IPY_MODEL_9aa751d0a31447a8b6ab6658e24864be"
          }
        },
        "9ea45c8751d34f8d9dc5caec0aed9c06": {
          "model_module": "@jupyter-widgets/controls",
          "model_name": "ProgressStyleModel",
          "state": {
            "_view_name": "StyleView",
            "_model_name": "ProgressStyleModel",
            "description_width": "initial",
            "_view_module": "@jupyter-widgets/base",
            "_model_module_version": "1.5.0",
            "_view_count": null,
            "_view_module_version": "1.2.0",
            "bar_color": null,
            "_model_module": "@jupyter-widgets/controls"
          }
        },
        "e0772fc18f63432faa817a35d848690f": {
          "model_module": "@jupyter-widgets/base",
          "model_name": "LayoutModel",
          "state": {
            "_view_name": "LayoutView",
            "grid_template_rows": null,
            "right": null,
            "justify_content": null,
            "_view_module": "@jupyter-widgets/base",
            "overflow": null,
            "_model_module_version": "1.2.0",
            "_view_count": null,
            "flex_flow": null,
            "width": null,
            "min_width": null,
            "border": null,
            "align_items": null,
            "bottom": null,
            "_model_module": "@jupyter-widgets/base",
            "top": null,
            "grid_column": null,
            "overflow_y": null,
            "overflow_x": null,
            "grid_auto_flow": null,
            "grid_area": null,
            "grid_template_columns": null,
            "flex": null,
            "_model_name": "LayoutModel",
            "justify_items": null,
            "grid_row": null,
            "max_height": null,
            "align_content": null,
            "visibility": null,
            "align_self": null,
            "height": null,
            "min_height": null,
            "padding": null,
            "grid_auto_rows": null,
            "grid_gap": null,
            "max_width": null,
            "order": null,
            "_view_module_version": "1.2.0",
            "grid_template_areas": null,
            "object_position": null,
            "object_fit": null,
            "grid_auto_columns": null,
            "margin": null,
            "display": null,
            "left": null
          }
        },
        "adf411853b2f4d9da0d0c3bfac285c69": {
          "model_module": "@jupyter-widgets/controls",
          "model_name": "DescriptionStyleModel",
          "state": {
            "_view_name": "StyleView",
            "_model_name": "DescriptionStyleModel",
            "description_width": "",
            "_view_module": "@jupyter-widgets/base",
            "_model_module_version": "1.5.0",
            "_view_count": null,
            "_view_module_version": "1.2.0",
            "_model_module": "@jupyter-widgets/controls"
          }
        },
        "9aa751d0a31447a8b6ab6658e24864be": {
          "model_module": "@jupyter-widgets/base",
          "model_name": "LayoutModel",
          "state": {
            "_view_name": "LayoutView",
            "grid_template_rows": null,
            "right": null,
            "justify_content": null,
            "_view_module": "@jupyter-widgets/base",
            "overflow": null,
            "_model_module_version": "1.2.0",
            "_view_count": null,
            "flex_flow": null,
            "width": null,
            "min_width": null,
            "border": null,
            "align_items": null,
            "bottom": null,
            "_model_module": "@jupyter-widgets/base",
            "top": null,
            "grid_column": null,
            "overflow_y": null,
            "overflow_x": null,
            "grid_auto_flow": null,
            "grid_area": null,
            "grid_template_columns": null,
            "flex": null,
            "_model_name": "LayoutModel",
            "justify_items": null,
            "grid_row": null,
            "max_height": null,
            "align_content": null,
            "visibility": null,
            "align_self": null,
            "height": null,
            "min_height": null,
            "padding": null,
            "grid_auto_rows": null,
            "grid_gap": null,
            "max_width": null,
            "order": null,
            "_view_module_version": "1.2.0",
            "grid_template_areas": null,
            "object_position": null,
            "object_fit": null,
            "grid_auto_columns": null,
            "margin": null,
            "display": null,
            "left": null
          }
        },
        "c2c2b6f2d1d046f4bf3fae087d46de88": {
          "model_module": "@jupyter-widgets/controls",
          "model_name": "HBoxModel",
          "state": {
            "_view_name": "HBoxView",
            "_dom_classes": [],
            "_model_name": "HBoxModel",
            "_view_module": "@jupyter-widgets/controls",
            "_model_module_version": "1.5.0",
            "_view_count": null,
            "_view_module_version": "1.5.0",
            "box_style": "",
            "layout": "IPY_MODEL_6663ab7ea3024b10aec30e695bf2f472",
            "_model_module": "@jupyter-widgets/controls",
            "children": [
              "IPY_MODEL_295102fb43bf4d329e03d7474b5a5f12",
              "IPY_MODEL_0e9ef7db6cab4cfa996148815e31f569"
            ]
          }
        },
        "6663ab7ea3024b10aec30e695bf2f472": {
          "model_module": "@jupyter-widgets/base",
          "model_name": "LayoutModel",
          "state": {
            "_view_name": "LayoutView",
            "grid_template_rows": null,
            "right": null,
            "justify_content": null,
            "_view_module": "@jupyter-widgets/base",
            "overflow": null,
            "_model_module_version": "1.2.0",
            "_view_count": null,
            "flex_flow": null,
            "width": null,
            "min_width": null,
            "border": null,
            "align_items": null,
            "bottom": null,
            "_model_module": "@jupyter-widgets/base",
            "top": null,
            "grid_column": null,
            "overflow_y": null,
            "overflow_x": null,
            "grid_auto_flow": null,
            "grid_area": null,
            "grid_template_columns": null,
            "flex": null,
            "_model_name": "LayoutModel",
            "justify_items": null,
            "grid_row": null,
            "max_height": null,
            "align_content": null,
            "visibility": null,
            "align_self": null,
            "height": null,
            "min_height": null,
            "padding": null,
            "grid_auto_rows": null,
            "grid_gap": null,
            "max_width": null,
            "order": null,
            "_view_module_version": "1.2.0",
            "grid_template_areas": null,
            "object_position": null,
            "object_fit": null,
            "grid_auto_columns": null,
            "margin": null,
            "display": null,
            "left": null
          }
        },
        "295102fb43bf4d329e03d7474b5a5f12": {
          "model_module": "@jupyter-widgets/controls",
          "model_name": "FloatProgressModel",
          "state": {
            "_view_name": "ProgressView",
            "style": "IPY_MODEL_6de22c231f884c69a40fd948e01ca301",
            "_dom_classes": [],
            "description": "",
            "_model_name": "FloatProgressModel",
            "bar_style": "success",
            "max": 1648877,
            "_view_module": "@jupyter-widgets/controls",
            "_model_module_version": "1.5.0",
            "value": 1648877,
            "_view_count": null,
            "_view_module_version": "1.5.0",
            "orientation": "horizontal",
            "min": 0,
            "description_tooltip": null,
            "_model_module": "@jupyter-widgets/controls",
            "layout": "IPY_MODEL_8eda410db67541cfa5edde1f036fe101"
          }
        },
        "0e9ef7db6cab4cfa996148815e31f569": {
          "model_module": "@jupyter-widgets/controls",
          "model_name": "HTMLModel",
          "state": {
            "_view_name": "HTMLView",
            "style": "IPY_MODEL_95cec10c775e456387644e22f5b2829e",
            "_dom_classes": [],
            "description": "",
            "_model_name": "HTMLModel",
            "placeholder": "​",
            "_view_module": "@jupyter-widgets/controls",
            "_model_module_version": "1.5.0",
            "value": " 1649664/? [03:20&lt;00:00, 8229.29it/s]",
            "_view_count": null,
            "_view_module_version": "1.5.0",
            "description_tooltip": null,
            "_model_module": "@jupyter-widgets/controls",
            "layout": "IPY_MODEL_76e86a99908440378792015688942b8a"
          }
        },
        "6de22c231f884c69a40fd948e01ca301": {
          "model_module": "@jupyter-widgets/controls",
          "model_name": "ProgressStyleModel",
          "state": {
            "_view_name": "StyleView",
            "_model_name": "ProgressStyleModel",
            "description_width": "initial",
            "_view_module": "@jupyter-widgets/base",
            "_model_module_version": "1.5.0",
            "_view_count": null,
            "_view_module_version": "1.2.0",
            "bar_color": null,
            "_model_module": "@jupyter-widgets/controls"
          }
        },
        "8eda410db67541cfa5edde1f036fe101": {
          "model_module": "@jupyter-widgets/base",
          "model_name": "LayoutModel",
          "state": {
            "_view_name": "LayoutView",
            "grid_template_rows": null,
            "right": null,
            "justify_content": null,
            "_view_module": "@jupyter-widgets/base",
            "overflow": null,
            "_model_module_version": "1.2.0",
            "_view_count": null,
            "flex_flow": null,
            "width": null,
            "min_width": null,
            "border": null,
            "align_items": null,
            "bottom": null,
            "_model_module": "@jupyter-widgets/base",
            "top": null,
            "grid_column": null,
            "overflow_y": null,
            "overflow_x": null,
            "grid_auto_flow": null,
            "grid_area": null,
            "grid_template_columns": null,
            "flex": null,
            "_model_name": "LayoutModel",
            "justify_items": null,
            "grid_row": null,
            "max_height": null,
            "align_content": null,
            "visibility": null,
            "align_self": null,
            "height": null,
            "min_height": null,
            "padding": null,
            "grid_auto_rows": null,
            "grid_gap": null,
            "max_width": null,
            "order": null,
            "_view_module_version": "1.2.0",
            "grid_template_areas": null,
            "object_position": null,
            "object_fit": null,
            "grid_auto_columns": null,
            "margin": null,
            "display": null,
            "left": null
          }
        },
        "95cec10c775e456387644e22f5b2829e": {
          "model_module": "@jupyter-widgets/controls",
          "model_name": "DescriptionStyleModel",
          "state": {
            "_view_name": "StyleView",
            "_model_name": "DescriptionStyleModel",
            "description_width": "",
            "_view_module": "@jupyter-widgets/base",
            "_model_module_version": "1.5.0",
            "_view_count": null,
            "_view_module_version": "1.2.0",
            "_model_module": "@jupyter-widgets/controls"
          }
        },
        "76e86a99908440378792015688942b8a": {
          "model_module": "@jupyter-widgets/base",
          "model_name": "LayoutModel",
          "state": {
            "_view_name": "LayoutView",
            "grid_template_rows": null,
            "right": null,
            "justify_content": null,
            "_view_module": "@jupyter-widgets/base",
            "overflow": null,
            "_model_module_version": "1.2.0",
            "_view_count": null,
            "flex_flow": null,
            "width": null,
            "min_width": null,
            "border": null,
            "align_items": null,
            "bottom": null,
            "_model_module": "@jupyter-widgets/base",
            "top": null,
            "grid_column": null,
            "overflow_y": null,
            "overflow_x": null,
            "grid_auto_flow": null,
            "grid_area": null,
            "grid_template_columns": null,
            "flex": null,
            "_model_name": "LayoutModel",
            "justify_items": null,
            "grid_row": null,
            "max_height": null,
            "align_content": null,
            "visibility": null,
            "align_self": null,
            "height": null,
            "min_height": null,
            "padding": null,
            "grid_auto_rows": null,
            "grid_gap": null,
            "max_width": null,
            "order": null,
            "_view_module_version": "1.2.0",
            "grid_template_areas": null,
            "object_position": null,
            "object_fit": null,
            "grid_auto_columns": null,
            "margin": null,
            "display": null,
            "left": null
          }
        },
        "75a89d4b9b8a4068a09852f9e9eca243": {
          "model_module": "@jupyter-widgets/controls",
          "model_name": "HBoxModel",
          "state": {
            "_view_name": "HBoxView",
            "_dom_classes": [],
            "_model_name": "HBoxModel",
            "_view_module": "@jupyter-widgets/controls",
            "_model_module_version": "1.5.0",
            "_view_count": null,
            "_view_module_version": "1.5.0",
            "box_style": "",
            "layout": "IPY_MODEL_7cde50f6bbb745c880b4d127eb607b31",
            "_model_module": "@jupyter-widgets/controls",
            "children": [
              "IPY_MODEL_ee773a34251d4264a7c6cc5345744c2b",
              "IPY_MODEL_bbbe71f892424f59826bfc53b084222c"
            ]
          }
        },
        "7cde50f6bbb745c880b4d127eb607b31": {
          "model_module": "@jupyter-widgets/base",
          "model_name": "LayoutModel",
          "state": {
            "_view_name": "LayoutView",
            "grid_template_rows": null,
            "right": null,
            "justify_content": null,
            "_view_module": "@jupyter-widgets/base",
            "overflow": null,
            "_model_module_version": "1.2.0",
            "_view_count": null,
            "flex_flow": null,
            "width": null,
            "min_width": null,
            "border": null,
            "align_items": null,
            "bottom": null,
            "_model_module": "@jupyter-widgets/base",
            "top": null,
            "grid_column": null,
            "overflow_y": null,
            "overflow_x": null,
            "grid_auto_flow": null,
            "grid_area": null,
            "grid_template_columns": null,
            "flex": null,
            "_model_name": "LayoutModel",
            "justify_items": null,
            "grid_row": null,
            "max_height": null,
            "align_content": null,
            "visibility": null,
            "align_self": null,
            "height": null,
            "min_height": null,
            "padding": null,
            "grid_auto_rows": null,
            "grid_gap": null,
            "max_width": null,
            "order": null,
            "_view_module_version": "1.2.0",
            "grid_template_areas": null,
            "object_position": null,
            "object_fit": null,
            "grid_auto_columns": null,
            "margin": null,
            "display": null,
            "left": null
          }
        },
        "ee773a34251d4264a7c6cc5345744c2b": {
          "model_module": "@jupyter-widgets/controls",
          "model_name": "FloatProgressModel",
          "state": {
            "_view_name": "ProgressView",
            "style": "IPY_MODEL_94e65ff4642a4c65862382d3a62adab5",
            "_dom_classes": [],
            "description": "",
            "_model_name": "FloatProgressModel",
            "bar_style": "success",
            "max": 4542,
            "_view_module": "@jupyter-widgets/controls",
            "_model_module_version": "1.5.0",
            "value": 4542,
            "_view_count": null,
            "_view_module_version": "1.5.0",
            "orientation": "horizontal",
            "min": 0,
            "description_tooltip": null,
            "_model_module": "@jupyter-widgets/controls",
            "layout": "IPY_MODEL_b06a3d4b4aea4190ae9fe557839e18bb"
          }
        },
        "bbbe71f892424f59826bfc53b084222c": {
          "model_module": "@jupyter-widgets/controls",
          "model_name": "HTMLModel",
          "state": {
            "_view_name": "HTMLView",
            "style": "IPY_MODEL_6e0128137fd74b198e1f5aafd06d49a5",
            "_dom_classes": [],
            "description": "",
            "_model_name": "HTMLModel",
            "placeholder": "​",
            "_view_module": "@jupyter-widgets/controls",
            "_model_module_version": "1.5.0",
            "value": " 5120/? [00:00&lt;00:00, 12932.54it/s]",
            "_view_count": null,
            "_view_module_version": "1.5.0",
            "description_tooltip": null,
            "_model_module": "@jupyter-widgets/controls",
            "layout": "IPY_MODEL_79ab4c957bf045498520df47ef528088"
          }
        },
        "94e65ff4642a4c65862382d3a62adab5": {
          "model_module": "@jupyter-widgets/controls",
          "model_name": "ProgressStyleModel",
          "state": {
            "_view_name": "StyleView",
            "_model_name": "ProgressStyleModel",
            "description_width": "initial",
            "_view_module": "@jupyter-widgets/base",
            "_model_module_version": "1.5.0",
            "_view_count": null,
            "_view_module_version": "1.2.0",
            "bar_color": null,
            "_model_module": "@jupyter-widgets/controls"
          }
        },
        "b06a3d4b4aea4190ae9fe557839e18bb": {
          "model_module": "@jupyter-widgets/base",
          "model_name": "LayoutModel",
          "state": {
            "_view_name": "LayoutView",
            "grid_template_rows": null,
            "right": null,
            "justify_content": null,
            "_view_module": "@jupyter-widgets/base",
            "overflow": null,
            "_model_module_version": "1.2.0",
            "_view_count": null,
            "flex_flow": null,
            "width": null,
            "min_width": null,
            "border": null,
            "align_items": null,
            "bottom": null,
            "_model_module": "@jupyter-widgets/base",
            "top": null,
            "grid_column": null,
            "overflow_y": null,
            "overflow_x": null,
            "grid_auto_flow": null,
            "grid_area": null,
            "grid_template_columns": null,
            "flex": null,
            "_model_name": "LayoutModel",
            "justify_items": null,
            "grid_row": null,
            "max_height": null,
            "align_content": null,
            "visibility": null,
            "align_self": null,
            "height": null,
            "min_height": null,
            "padding": null,
            "grid_auto_rows": null,
            "grid_gap": null,
            "max_width": null,
            "order": null,
            "_view_module_version": "1.2.0",
            "grid_template_areas": null,
            "object_position": null,
            "object_fit": null,
            "grid_auto_columns": null,
            "margin": null,
            "display": null,
            "left": null
          }
        },
        "6e0128137fd74b198e1f5aafd06d49a5": {
          "model_module": "@jupyter-widgets/controls",
          "model_name": "DescriptionStyleModel",
          "state": {
            "_view_name": "StyleView",
            "_model_name": "DescriptionStyleModel",
            "description_width": "",
            "_view_module": "@jupyter-widgets/base",
            "_model_module_version": "1.5.0",
            "_view_count": null,
            "_view_module_version": "1.2.0",
            "_model_module": "@jupyter-widgets/controls"
          }
        },
        "79ab4c957bf045498520df47ef528088": {
          "model_module": "@jupyter-widgets/base",
          "model_name": "LayoutModel",
          "state": {
            "_view_name": "LayoutView",
            "grid_template_rows": null,
            "right": null,
            "justify_content": null,
            "_view_module": "@jupyter-widgets/base",
            "overflow": null,
            "_model_module_version": "1.2.0",
            "_view_count": null,
            "flex_flow": null,
            "width": null,
            "min_width": null,
            "border": null,
            "align_items": null,
            "bottom": null,
            "_model_module": "@jupyter-widgets/base",
            "top": null,
            "grid_column": null,
            "overflow_y": null,
            "overflow_x": null,
            "grid_auto_flow": null,
            "grid_area": null,
            "grid_template_columns": null,
            "flex": null,
            "_model_name": "LayoutModel",
            "justify_items": null,
            "grid_row": null,
            "max_height": null,
            "align_content": null,
            "visibility": null,
            "align_self": null,
            "height": null,
            "min_height": null,
            "padding": null,
            "grid_auto_rows": null,
            "grid_gap": null,
            "max_width": null,
            "order": null,
            "_view_module_version": "1.2.0",
            "grid_template_areas": null,
            "object_position": null,
            "object_fit": null,
            "grid_auto_columns": null,
            "margin": null,
            "display": null,
            "left": null
          }
        }
      }
    }
  },
  "cells": [
    {
      "cell_type": "markdown",
      "metadata": {
        "id": "view-in-github",
        "colab_type": "text"
      },
      "source": [
        "<a href=\"https://colab.research.google.com/github/anirbanmukherjee2709/tsai_end2.0_Session_3/blob/main/END_Session_3_PyTorch_Assignment.ipynb\" target=\"_parent\"><img src=\"https://colab.research.google.com/assets/colab-badge.svg\" alt=\"Open In Colab\"/></a>"
      ]
    },
    {
      "cell_type": "code",
      "metadata": {
        "id": "Dj51DH-CbpNf",
        "colab": {
          "base_uri": "https://localhost:8080/"
        },
        "outputId": "f4f53569-5fc1-4eaa-9103-27452ebfef9a"
      },
      "source": [
        "# Import the required libraries\n",
        "from torch.utils.data import Dataset, DataLoader\n",
        "import torch\n",
        "import torch.nn as nn\n",
        "import torch.nn.functional as F\n",
        "import torch.optim as optim\n",
        "import torchvision\n",
        "import torchvision.transforms as transforms\n",
        "seed = 42\n",
        "\n",
        "torch.manual_seed(seed)\n",
        "torch.set_grad_enabled(True)"
      ],
      "execution_count": 1,
      "outputs": [
        {
          "output_type": "execute_result",
          "data": {
            "text/plain": [
              "<torch.autograd.grad_mode.set_grad_enabled at 0x7f0aefc85390>"
            ]
          },
          "metadata": {
            "tags": []
          },
          "execution_count": 1
        }
      ]
    },
    {
      "cell_type": "code",
      "metadata": {
        "id": "ojMopfajcKCd"
      },
      "source": [
        "# Check if GPU is available\n",
        "use_cuda = torch.cuda.is_available()\n",
        "\n",
        "# Assign GPU if available else assign CPU\n",
        "device = torch.device(\"cuda:0\" if use_cuda else \"cpu\")\n",
        "\n",
        "# enables benchmark mode in cudnn.\n",
        "torch.backends.cudnn.benchmark = True"
      ],
      "execution_count": 2,
      "outputs": []
    },
    {
      "cell_type": "code",
      "metadata": {
        "id": "aA5EzPToG6Q4",
        "colab": {
          "base_uri": "https://localhost:8080/",
          "height": 837,
          "referenced_widgets": [
            "01b6c83ef4024683985718a78c960b49",
            "faab4721516c4676907a67b76a3a770a",
            "71fdefe3d5fa48169e28734a1f27b7de",
            "5e4c50308cb74ec3b549f57af1f75737",
            "860da0bf28ab4203b0a3a2614ae00a23",
            "2a7465c875934b8b8da9d08c6d34ceba",
            "a810e0cb5bad4d85a4258b5b46ffbb3c",
            "fda08c1c2cde45bbacd58e1002c998ce",
            "ec4552ef979344e984079dbcc0636fdb",
            "84a1aec79f2e4946aa040966e12f0eee",
            "ab77c5755c3f479f96419ca48a78ab78",
            "574cd359c34c48869f0c7bd1ac4d699d",
            "9ea45c8751d34f8d9dc5caec0aed9c06",
            "e0772fc18f63432faa817a35d848690f",
            "adf411853b2f4d9da0d0c3bfac285c69",
            "9aa751d0a31447a8b6ab6658e24864be",
            "c2c2b6f2d1d046f4bf3fae087d46de88",
            "6663ab7ea3024b10aec30e695bf2f472",
            "295102fb43bf4d329e03d7474b5a5f12",
            "0e9ef7db6cab4cfa996148815e31f569",
            "6de22c231f884c69a40fd948e01ca301",
            "8eda410db67541cfa5edde1f036fe101",
            "95cec10c775e456387644e22f5b2829e",
            "76e86a99908440378792015688942b8a",
            "75a89d4b9b8a4068a09852f9e9eca243",
            "7cde50f6bbb745c880b4d127eb607b31",
            "ee773a34251d4264a7c6cc5345744c2b",
            "bbbe71f892424f59826bfc53b084222c",
            "94e65ff4642a4c65862382d3a62adab5",
            "b06a3d4b4aea4190ae9fe557839e18bb",
            "6e0128137fd74b198e1f5aafd06d49a5",
            "79ab4c957bf045498520df47ef528088"
          ]
        },
        "outputId": "ce76b281-d80d-48df-fa1f-85de54df1496"
      },
      "source": [
        "# Download train and test datasets for MNIST\n",
        "training_data = torchvision.datasets.MNIST(\n",
        "    root=\"data\",\n",
        "    train=True,\n",
        "    download=True,\n",
        "    transform=transforms.ToTensor()\n",
        ")\n",
        "test_data = torchvision.datasets.MNIST(\n",
        "    root=\"data\",\n",
        "    train=False,\n",
        "    download=True,\n",
        "    transform=transforms.ToTensor()\n",
        ")"
      ],
      "execution_count": 3,
      "outputs": [
        {
          "output_type": "stream",
          "text": [
            "Downloading http://yann.lecun.com/exdb/mnist/train-images-idx3-ubyte.gz\n",
            "Failed to download (trying next):\n",
            "HTTP Error 503: Service Unavailable\n",
            "\n",
            "Downloading https://ossci-datasets.s3.amazonaws.com/mnist/train-images-idx3-ubyte.gz\n",
            "Downloading https://ossci-datasets.s3.amazonaws.com/mnist/train-images-idx3-ubyte.gz to data/MNIST/raw/train-images-idx3-ubyte.gz\n"
          ],
          "name": "stdout"
        },
        {
          "output_type": "display_data",
          "data": {
            "application/vnd.jupyter.widget-view+json": {
              "model_id": "01b6c83ef4024683985718a78c960b49",
              "version_minor": 0,
              "version_major": 2
            },
            "text/plain": [
              "HBox(children=(FloatProgress(value=0.0, max=9912422.0), HTML(value='')))"
            ]
          },
          "metadata": {
            "tags": []
          }
        },
        {
          "output_type": "stream",
          "text": [
            "\n",
            "Extracting data/MNIST/raw/train-images-idx3-ubyte.gz to data/MNIST/raw\n",
            "\n",
            "Downloading http://yann.lecun.com/exdb/mnist/train-labels-idx1-ubyte.gz\n",
            "Failed to download (trying next):\n",
            "HTTP Error 503: Service Unavailable\n",
            "\n",
            "Downloading https://ossci-datasets.s3.amazonaws.com/mnist/train-labels-idx1-ubyte.gz\n",
            "Downloading https://ossci-datasets.s3.amazonaws.com/mnist/train-labels-idx1-ubyte.gz to data/MNIST/raw/train-labels-idx1-ubyte.gz\n"
          ],
          "name": "stdout"
        },
        {
          "output_type": "display_data",
          "data": {
            "application/vnd.jupyter.widget-view+json": {
              "model_id": "ec4552ef979344e984079dbcc0636fdb",
              "version_minor": 0,
              "version_major": 2
            },
            "text/plain": [
              "HBox(children=(FloatProgress(value=0.0, max=28881.0), HTML(value='')))"
            ]
          },
          "metadata": {
            "tags": []
          }
        },
        {
          "output_type": "stream",
          "text": [
            "\n",
            "Extracting data/MNIST/raw/train-labels-idx1-ubyte.gz to data/MNIST/raw\n",
            "\n",
            "Downloading http://yann.lecun.com/exdb/mnist/t10k-images-idx3-ubyte.gz\n",
            "Failed to download (trying next):\n",
            "HTTP Error 503: Service Unavailable\n",
            "\n",
            "Downloading https://ossci-datasets.s3.amazonaws.com/mnist/t10k-images-idx3-ubyte.gz\n",
            "Downloading https://ossci-datasets.s3.amazonaws.com/mnist/t10k-images-idx3-ubyte.gz to data/MNIST/raw/t10k-images-idx3-ubyte.gz\n"
          ],
          "name": "stdout"
        },
        {
          "output_type": "display_data",
          "data": {
            "application/vnd.jupyter.widget-view+json": {
              "model_id": "c2c2b6f2d1d046f4bf3fae087d46de88",
              "version_minor": 0,
              "version_major": 2
            },
            "text/plain": [
              "HBox(children=(FloatProgress(value=0.0, max=1648877.0), HTML(value='')))"
            ]
          },
          "metadata": {
            "tags": []
          }
        },
        {
          "output_type": "stream",
          "text": [
            "\n",
            "Extracting data/MNIST/raw/t10k-images-idx3-ubyte.gz to data/MNIST/raw\n",
            "\n",
            "Downloading http://yann.lecun.com/exdb/mnist/t10k-labels-idx1-ubyte.gz\n",
            "Failed to download (trying next):\n",
            "HTTP Error 503: Service Unavailable\n",
            "\n",
            "Downloading https://ossci-datasets.s3.amazonaws.com/mnist/t10k-labels-idx1-ubyte.gz\n",
            "Downloading https://ossci-datasets.s3.amazonaws.com/mnist/t10k-labels-idx1-ubyte.gz to data/MNIST/raw/t10k-labels-idx1-ubyte.gz\n"
          ],
          "name": "stdout"
        },
        {
          "output_type": "display_data",
          "data": {
            "application/vnd.jupyter.widget-view+json": {
              "model_id": "75a89d4b9b8a4068a09852f9e9eca243",
              "version_minor": 0,
              "version_major": 2
            },
            "text/plain": [
              "HBox(children=(FloatProgress(value=0.0, max=4542.0), HTML(value='')))"
            ]
          },
          "metadata": {
            "tags": []
          }
        },
        {
          "output_type": "stream",
          "text": [
            "\n",
            "Extracting data/MNIST/raw/t10k-labels-idx1-ubyte.gz to data/MNIST/raw\n",
            "\n",
            "Processing...\n",
            "Done!\n"
          ],
          "name": "stdout"
        },
        {
          "output_type": "stream",
          "text": [
            "/usr/local/lib/python3.7/dist-packages/torchvision/datasets/mnist.py:502: UserWarning: The given NumPy array is not writeable, and PyTorch does not support non-writeable tensors. This means you can write to the underlying (supposedly non-writeable) NumPy array using the tensor. You may want to copy the array to protect its data or make it writeable before converting it to a tensor. This type of warning will be suppressed for the rest of this program. (Triggered internally at  /pytorch/torch/csrc/utils/tensor_numpy.cpp:143.)\n",
            "  return torch.from_numpy(parsed.astype(m[2], copy=False)).view(*s)\n"
          ],
          "name": "stderr"
        }
      ]
    },
    {
      "cell_type": "code",
      "metadata": {
        "id": "xpsyK2N1KX28"
      },
      "source": [
        "# Create random number for train and test data set to add it with the prediction\n",
        "random_num_train = torch.randint(low=0, high=10, size=(len(training_data), ), dtype=torch.float)\n",
        "random_num_test = torch.randint(low=0, high=10, size=(len(test_data), ), dtype=torch.float)"
      ],
      "execution_count": 4,
      "outputs": []
    },
    {
      "cell_type": "code",
      "metadata": {
        "id": "Q6HZ9JFjENE-"
      },
      "source": [
        "# custom dataloder to stitch mnist ad random generated number\n",
        "class CustomDataset(Dataset):\n",
        "    def __init__(self, data_set, train=False):\n",
        "        self.labels = data_set.targets\n",
        "        self.img = data_set.data\n",
        "        self.train = train # separation of train and test random number tensor\n",
        "\n",
        "    def __len__(self):\n",
        "        return len(self.img)\n",
        "\n",
        "    def __getitem__(self, idx):\n",
        "        X = self.img[idx]\n",
        "        y = self.labels[idx]\n",
        "        \n",
        "        num = random_num_train[idx] if self.train else random_num_test[idx]\n",
        "\n",
        "        return (X/255.).reshape([1, 28, 28]), num, y, y+num"
      ],
      "execution_count": 5,
      "outputs": []
    },
    {
      "cell_type": "code",
      "metadata": {
        "id": "niWYZP7ZMgVm"
      },
      "source": [
        "# data generation parameters\n",
        "params = {'batch_size': 128,\n",
        "          'shuffle': True,\n",
        "          'num_workers': 2}"
      ],
      "execution_count": 6,
      "outputs": []
    },
    {
      "cell_type": "code",
      "metadata": {
        "id": "8NaVhl32HOdj"
      },
      "source": [
        "# create object of custom dataloader to pass into the model.\n",
        "training_set = CustomDataset(training_data, train = True)\n",
        "training_generator = DataLoader(training_set, **params)\n",
        "\n",
        "test_set = CustomDataset(test_data)\n",
        "test_generator = DataLoader(test_set, **params)"
      ],
      "execution_count": 7,
      "outputs": []
    },
    {
      "cell_type": "markdown",
      "metadata": {
        "id": "CGzgmHPRv8Lp"
      },
      "source": [
        "## Model\n",
        "For MNIST predection we have tried to implement LeNet as it is a great predictor for hand written digits.\n",
        "\n",
        "Model initialised with He et al. initializer.\n",
        "\n",
        "Activation function being ReLU for CNN layers and sigmoid for Dense/Linear layers."
      ]
    },
    {
      "cell_type": "code",
      "metadata": {
        "id": "8AfI50nHcAx2"
      },
      "source": [
        "class Model(nn.Module):\n",
        "    def __init__(self, classes=10):\n",
        "        super(Model, self).__init__()\n",
        "\n",
        "        # LAYERS FOR IMAGE RECOGNITION\n",
        "        self.conv_1 = nn.Conv2d(in_channels=1, out_channels=6, kernel_size=(5,5), stride=1)\n",
        "        nn.init.kaiming_uniform_(self.conv_1.weight, nonlinearity='relu')\n",
        "        self.actv_1 = nn.ReLU() # 24x24\n",
        "\n",
        "        self.pool_1 = nn.AvgPool2d(kernel_size=(2, 2)) # 12x12\n",
        "\n",
        "        self.conv_2 = nn.Conv2d(in_channels=6, out_channels=16, kernel_size=(5,5), stride=1)\n",
        "        nn.init.kaiming_uniform_(self.conv_2.weight, nonlinearity='relu')\n",
        "        self.actv_2 = nn.ReLU() # 8x8\n",
        "        \n",
        "        self.pool_2 = nn.AvgPool2d(kernel_size=(2, 2)) # 4x4\n",
        "        self.flatten = nn.Flatten()\n",
        "\n",
        "        self.dense_1 = nn.Linear(in_features=256, out_features=120)\n",
        "        nn.init.kaiming_uniform_(self.dense_1.weight, nonlinearity='relu')\n",
        "        self.actv_3 = nn.Sigmoid()\n",
        "\n",
        "        self.dense_2 = nn.Linear(in_features=120, out_features=84)\n",
        "        nn.init.kaiming_uniform_(self.dense_2.weight, nonlinearity='relu')\n",
        "        self.actv_4 = nn.Sigmoid()\n",
        "\n",
        "        self.dense_3 = nn.Linear(in_features=84, out_features=classes)\n",
        "        nn.init.kaiming_uniform_(self.dense_3.weight, nonlinearity='relu')\n",
        "        self.actv_5 = nn.Softmax(dim=1)\n",
        "\n",
        "\n",
        "        # LAYERS FOR ADDITION\n",
        "        self.dense_4 = nn.Linear(in_features=2, out_features=10)\n",
        "        nn.init.kaiming_uniform_(self.dense_4.weight, nonlinearity='relu')\n",
        "        self.actv_6 = nn.Sigmoid()\n",
        "\n",
        "        self.dense_5 = nn.Linear(in_features=10, out_features=6)\n",
        "        nn.init.kaiming_uniform_(self.dense_5.weight, nonlinearity='relu')\n",
        "        self.actv_7 = nn.Sigmoid()\n",
        "\n",
        "        self.dense_6 = nn.Linear(in_features=6, out_features=19)\n",
        "        nn.init.kaiming_uniform_(self.dense_6.weight, nonlinearity='relu')\n",
        "\n",
        "    def forward(self, img, num):\n",
        "        # forward pass\n",
        "        x = self.actv_1(self.conv_1(img))\n",
        "        x = self.pool_1(x)\n",
        "        x = self.actv_2(self.conv_2(x))\n",
        "        x = self.pool_2(x)\n",
        "        x = self.flatten(x)\n",
        "        x = self.actv_3(self.dense_1(x))\n",
        "        x = self.actv_4(self.dense_2(x))\n",
        "        x = self.actv_5(self.dense_3(x))\n",
        "\n",
        "        # x predicts the mnist images to its labels \n",
        "        \n",
        "        # x1 stacks the predicted label with randomly generated number for input into the 2nd part of prediction.\n",
        "        x1 = torch.stack((x.argmax(dim=1), num), dim=-1)\n",
        "\n",
        "        x1 = self.actv_6(self.dense_4(x1))\n",
        "        x1 = self.actv_7(self.dense_5(x1))\n",
        "        x1 = self.dense_6(x1)\n",
        "\n",
        "        # retuns both label and the sum prediction\n",
        "        return x, x1"
      ],
      "execution_count": 8,
      "outputs": []
    },
    {
      "cell_type": "code",
      "metadata": {
        "id": "E33pwnlDwzTr",
        "colab": {
          "base_uri": "https://localhost:8080/"
        },
        "outputId": "af08b475-6cd8-4c38-efdb-bc19b4db8cbc"
      },
      "source": [
        "# instantiating the model class and moving it to the GPU\n",
        "model = Model()\n",
        "print(model)\n",
        "model = model.to(device)"
      ],
      "execution_count": 9,
      "outputs": [
        {
          "output_type": "stream",
          "text": [
            "Model(\n",
            "  (conv_1): Conv2d(1, 6, kernel_size=(5, 5), stride=(1, 1))\n",
            "  (actv_1): ReLU()\n",
            "  (pool_1): AvgPool2d(kernel_size=(2, 2), stride=(2, 2), padding=0)\n",
            "  (conv_2): Conv2d(6, 16, kernel_size=(5, 5), stride=(1, 1))\n",
            "  (actv_2): ReLU()\n",
            "  (pool_2): AvgPool2d(kernel_size=(2, 2), stride=(2, 2), padding=0)\n",
            "  (flatten): Flatten(start_dim=1, end_dim=-1)\n",
            "  (dense_1): Linear(in_features=256, out_features=120, bias=True)\n",
            "  (actv_3): Sigmoid()\n",
            "  (dense_2): Linear(in_features=120, out_features=84, bias=True)\n",
            "  (actv_4): Sigmoid()\n",
            "  (dense_3): Linear(in_features=84, out_features=10, bias=True)\n",
            "  (actv_5): Softmax(dim=1)\n",
            "  (dense_4): Linear(in_features=2, out_features=10, bias=True)\n",
            "  (actv_6): Sigmoid()\n",
            "  (dense_5): Linear(in_features=10, out_features=6, bias=True)\n",
            "  (actv_7): Sigmoid()\n",
            "  (dense_6): Linear(in_features=6, out_features=19, bias=True)\n",
            ")\n"
          ],
          "name": "stdout"
        }
      ]
    },
    {
      "cell_type": "code",
      "metadata": {
        "colab": {
          "base_uri": "https://localhost:8080/",
          "height": 35
        },
        "id": "KDYSKUC3CCgE",
        "outputId": "65e65eef-5c00-43ca-ac18-43dee6b26aa8"
      },
      "source": [
        "# Check if model is on GPU ot CPU\n",
        "display('Training on GPU' if model.cuda() else 'model on GPU')"
      ],
      "execution_count": 10,
      "outputs": [
        {
          "output_type": "display_data",
          "data": {
            "application/vnd.google.colaboratory.intrinsic+json": {
              "type": "string"
            },
            "text/plain": [
              "'Training on GPU'"
            ]
          },
          "metadata": {
            "tags": []
          }
        }
      ]
    },
    {
      "cell_type": "code",
      "metadata": {
        "id": "I-Rgp-5uvW19"
      },
      "source": [
        "# initialize the optimizer\n",
        "optimizer = optim.Adam(model.parameters(), lr=0.01)"
      ],
      "execution_count": 11,
      "outputs": []
    },
    {
      "cell_type": "code",
      "metadata": {
        "id": "oyJVn_Z2u7Ie"
      },
      "source": [
        "# function to calculate accuracy of predicted labels for both the outputs\n",
        "def get_num_correct(preds, labels):\n",
        "    return preds.argmax(dim=1).eq(labels).sum().item()"
      ],
      "execution_count": 12,
      "outputs": []
    },
    {
      "cell_type": "code",
      "metadata": {
        "id": "PoWIA78rwBvZ",
        "colab": {
          "base_uri": "https://localhost:8080/"
        },
        "outputId": "1405c714-84bb-4c9e-b6cc-0e4d88c63137"
      },
      "source": [
        "# declare number of epochs for which the model has to be trained\n",
        "max_epochs = 50\n",
        "\n",
        "# Model training\n",
        "for epoch in range(max_epochs):\n",
        "    # variables to calculate loss, correct mnist labels, and correct sum labels for each epoch\n",
        "    total_loss = 0\n",
        "    total_correct_labels = 0\n",
        "    total_correct_sum = 0\n",
        "    \n",
        "    for img, num, label, label_num in training_generator:\n",
        "        # move variables to GPU from CPU\n",
        "        img, num, label, label_num = img.to(device), num.to(device), label.to(device), label_num.to(device)\n",
        "        label_num = label_num.type(torch.long)\n",
        "\n",
        "        pred_labels, pred_sum = model(img, num)\n",
        "\n",
        "        loss1 = F.cross_entropy(pred_labels, label)\n",
        "        loss2 = F.cross_entropy(pred_sum, label_num)\n",
        "\n",
        "        optimizer.zero_grad()\n",
        "        loss1.backward()\n",
        "        loss2.backward()\n",
        "        optimizer.step()\n",
        "\n",
        "        total_loss += loss1.item() + loss2.item() \n",
        "        total_correct_labels += get_num_correct(pred_labels, label)\n",
        "        total_correct_sum += get_num_correct(pred_sum, label_num)\n",
        "\n",
        "    print(f\"Epoch: {epoch + 1} | total_correct_labels: {total_correct_labels/60000*100 :.1f}% | total_correct_sum: {total_correct_sum/60000*100 :.1f}% | CELoss: {total_loss:.2f}\")"
      ],
      "execution_count": 13,
      "outputs": [
        {
          "output_type": "stream",
          "text": [
            "Epoch: 1 | total_correct_labels: 85.8% | total_correct_sum: 31.4% | CELoss: 1782.70\n",
            "Epoch: 2 | total_correct_labels: 97.4% | total_correct_sum: 69.7% | CELoss: 1313.23\n",
            "Epoch: 3 | total_correct_labels: 98.0% | total_correct_sum: 82.3% | CELoss: 1136.17\n",
            "Epoch: 4 | total_correct_labels: 98.1% | total_correct_sum: 84.8% | CELoss: 1059.88\n",
            "Epoch: 5 | total_correct_labels: 98.2% | total_correct_sum: 85.8% | CELoss: 1017.86\n",
            "Epoch: 6 | total_correct_labels: 98.3% | total_correct_sum: 87.0% | CELoss: 990.73\n",
            "Epoch: 7 | total_correct_labels: 98.4% | total_correct_sum: 87.7% | CELoss: 970.51\n",
            "Epoch: 8 | total_correct_labels: 98.3% | total_correct_sum: 88.3% | CELoss: 960.93\n",
            "Epoch: 9 | total_correct_labels: 98.3% | total_correct_sum: 88.6% | CELoss: 951.96\n",
            "Epoch: 10 | total_correct_labels: 98.6% | total_correct_sum: 89.8% | CELoss: 931.87\n",
            "Epoch: 11 | total_correct_labels: 98.4% | total_correct_sum: 90.7% | CELoss: 929.08\n",
            "Epoch: 12 | total_correct_labels: 98.4% | total_correct_sum: 91.8% | CELoss: 923.59\n",
            "Epoch: 13 | total_correct_labels: 98.4% | total_correct_sum: 92.8% | CELoss: 914.37\n",
            "Epoch: 14 | total_correct_labels: 98.3% | total_correct_sum: 93.6% | CELoss: 913.81\n",
            "Epoch: 15 | total_correct_labels: 98.4% | total_correct_sum: 94.0% | CELoss: 903.06\n",
            "Epoch: 16 | total_correct_labels: 98.4% | total_correct_sum: 94.4% | CELoss: 898.77\n",
            "Epoch: 17 | total_correct_labels: 98.2% | total_correct_sum: 94.8% | CELoss: 899.99\n",
            "Epoch: 18 | total_correct_labels: 98.4% | total_correct_sum: 95.1% | CELoss: 886.75\n",
            "Epoch: 19 | total_correct_labels: 98.2% | total_correct_sum: 95.5% | CELoss: 896.30\n",
            "Epoch: 20 | total_correct_labels: 98.1% | total_correct_sum: 95.5% | CELoss: 895.39\n",
            "Epoch: 21 | total_correct_labels: 98.3% | total_correct_sum: 95.6% | CELoss: 882.29\n",
            "Epoch: 22 | total_correct_labels: 98.4% | total_correct_sum: 95.8% | CELoss: 874.47\n",
            "Epoch: 23 | total_correct_labels: 98.4% | total_correct_sum: 95.6% | CELoss: 873.82\n",
            "Epoch: 24 | total_correct_labels: 98.3% | total_correct_sum: 95.8% | CELoss: 871.09\n",
            "Epoch: 25 | total_correct_labels: 98.4% | total_correct_sum: 96.0% | CELoss: 866.95\n",
            "Epoch: 26 | total_correct_labels: 98.2% | total_correct_sum: 95.8% | CELoss: 875.56\n",
            "Epoch: 27 | total_correct_labels: 98.1% | total_correct_sum: 95.8% | CELoss: 879.25\n",
            "Epoch: 28 | total_correct_labels: 98.3% | total_correct_sum: 96.2% | CELoss: 865.08\n",
            "Epoch: 29 | total_correct_labels: 98.3% | total_correct_sum: 96.1% | CELoss: 862.65\n",
            "Epoch: 30 | total_correct_labels: 98.2% | total_correct_sum: 96.1% | CELoss: 869.92\n",
            "Epoch: 31 | total_correct_labels: 98.3% | total_correct_sum: 96.3% | CELoss: 860.12\n",
            "Epoch: 32 | total_correct_labels: 98.3% | total_correct_sum: 96.3% | CELoss: 858.39\n",
            "Epoch: 33 | total_correct_labels: 98.2% | total_correct_sum: 96.4% | CELoss: 862.94\n",
            "Epoch: 34 | total_correct_labels: 98.3% | total_correct_sum: 96.5% | CELoss: 855.61\n",
            "Epoch: 35 | total_correct_labels: 98.4% | total_correct_sum: 96.6% | CELoss: 851.26\n",
            "Epoch: 36 | total_correct_labels: 98.5% | total_correct_sum: 96.8% | CELoss: 842.27\n",
            "Epoch: 37 | total_correct_labels: 98.3% | total_correct_sum: 96.8% | CELoss: 854.50\n",
            "Epoch: 38 | total_correct_labels: 98.2% | total_correct_sum: 96.6% | CELoss: 857.19\n",
            "Epoch: 39 | total_correct_labels: 98.2% | total_correct_sum: 96.7% | CELoss: 856.07\n",
            "Epoch: 40 | total_correct_labels: 97.6% | total_correct_sum: 96.0% | CELoss: 880.93\n",
            "Epoch: 41 | total_correct_labels: 98.2% | total_correct_sum: 96.8% | CELoss: 852.50\n",
            "Epoch: 42 | total_correct_labels: 98.0% | total_correct_sum: 96.4% | CELoss: 860.04\n",
            "Epoch: 43 | total_correct_labels: 97.9% | total_correct_sum: 96.5% | CELoss: 865.89\n",
            "Epoch: 44 | total_correct_labels: 98.1% | total_correct_sum: 96.8% | CELoss: 854.13\n",
            "Epoch: 45 | total_correct_labels: 98.0% | total_correct_sum: 96.6% | CELoss: 859.22\n",
            "Epoch: 46 | total_correct_labels: 98.1% | total_correct_sum: 96.8% | CELoss: 857.98\n",
            "Epoch: 47 | total_correct_labels: 97.7% | total_correct_sum: 96.5% | CELoss: 873.83\n",
            "Epoch: 48 | total_correct_labels: 97.6% | total_correct_sum: 96.4% | CELoss: 878.05\n",
            "Epoch: 49 | total_correct_labels: 97.6% | total_correct_sum: 96.5% | CELoss: 877.79\n",
            "Epoch: 50 | total_correct_labels: 97.9% | total_correct_sum: 96.6% | CELoss: 865.21\n"
          ],
          "name": "stdout"
        }
      ]
    },
    {
      "cell_type": "code",
      "metadata": {
        "id": "zcCobBPaIAh6",
        "colab": {
          "base_uri": "https://localhost:8080/"
        },
        "outputId": "f2bce9f5-0fe9-43e8-b836-d5f9d84d4ff1"
      },
      "source": [
        "# Check if the model is working in the same way on the test dataset.\n",
        "total_correct_labels = 0\n",
        "total_correct_sum = 0\n",
        "with open('a.txt', 'w') as f:\n",
        "    for img, num, label, label_num in test_generator:\n",
        "        img, num, label, label_num = img.to(device), num.to(device), label.to(device), label_num.to(device)\n",
        "        label_num = label_num.type(torch.long)\n",
        "\n",
        "        pred_labels, pred_sum = model(img, num)\n",
        "\n",
        "        total_correct_labels += get_num_correct(pred_labels, label)\n",
        "        total_correct_sum += get_num_correct(pred_sum, label_num)\n",
        "\n",
        "        for a, b, c, d in zip(label, pred_labels.argmax(dim=1), label_num, pred_sum.argmax(dim=1)):\n",
        "            # writing the outputs to a file to check later\n",
        "            f.write(f'{a},{b},{c},{d}\\n')\n",
        "    \n",
        "print(f'total_correct_labels: {total_correct_labels/10000*100:.1f}% | total_correct_sum: {total_correct_sum/10000*100:.1f}%')"
      ],
      "execution_count": 14,
      "outputs": [
        {
          "output_type": "stream",
          "text": [
            "total_correct_labels: 97.4% | total_correct_sum: 96.6%\n"
          ],
          "name": "stdout"
        }
      ]
    }
  ]
}