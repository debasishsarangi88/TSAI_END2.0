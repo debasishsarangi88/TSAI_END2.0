{
  "nbformat": 4,
  "nbformat_minor": 0,
  "metadata": {
    "colab": {
      "name": "Stanford_sentiment_treebank.ipynb",
      "provenance": [],
      "collapsed_sections": []
    },
    "kernelspec": {
      "name": "python3",
      "display_name": "Python 3"
    },
    "language_info": {
      "name": "python"
    },
    "accelerator": "GPU"
  },
  "cells": [
    {
      "cell_type": "code",
      "metadata": {
        "id": "Uh348VY6swyx",
        "colab": {
          "base_uri": "https://localhost:8080/"
        },
        "outputId": "ec1dbdfe-ac16-49e7-a3fa-5aa2b0d829da"
      },
      "source": [
        "# download the dataset\n",
        "%%shell\n",
        "pip install google-trans-new\n",
        "cd /content\n",
        "path='/content/input'\n",
        "comp='stanfordSentimentTreebank'\n",
        "\n",
        "mkdir -p $path\n",
        "mkdir -p /content/working/\n",
        "\n",
        "# wget -c 'http://nlp.stanford.edu/~socherr/'$comp'.zip' -O $comp'.zip'\n",
        "\n",
        "# wget -c 'https://github.com/allenai/spv2/raw/master/model/glove.6B.100d.txt.gz'\n",
        "\n",
        "unzip -q $comp.zip -d $path\n",
        "# gunzip -c 'glove.6B.100d.txt.gz' > '/content/working/glove.6B.100d.txt'\n",
        "rm -rf '/content/input/__MACOSX'"
      ],
      "execution_count": null,
      "outputs": [
        {
          "output_type": "stream",
          "text": [
            "Collecting google-trans-new\n",
            "  Downloading https://files.pythonhosted.org/packages/f9/7b/9f136106dc5824dc98185c97991d3cd9b53e70a197154dd49f7b899128f6/google_trans_new-1.1.9-py3-none-any.whl\n",
            "Installing collected packages: google-trans-new\n",
            "Successfully installed google-trans-new-1.1.9\n"
          ],
          "name": "stdout"
        },
        {
          "output_type": "execute_result",
          "data": {
            "text/plain": [
              ""
            ]
          },
          "metadata": {
            "tags": []
          },
          "execution_count": 1
        }
      ]
    },
    {
      "cell_type": "code",
      "metadata": {
        "id": "NmKgO6CsjJfN",
        "colab": {
          "base_uri": "https://localhost:8080/"
        },
        "outputId": "fd81738c-1f85-4cea-ab10-934de7eaf11c"
      },
      "source": [
        "# Import Library\n",
        "import pandas as pd\n",
        "import numpy as np\n",
        "import random\n",
        "import time\n",
        "import os\n",
        "import matplotlib.pyplot as plt\n",
        "\n",
        "import torch, torchtext\n",
        "from torchtext.legacy import data\n",
        "import torch.nn as nn\n",
        "import torch.nn.functional as F\n",
        "import torch.optim as optim\n",
        "\n",
        "from gensim.parsing.preprocessing import remove_stopwords\n",
        "import nltk\n",
        "nltk.download('wordnet')\n",
        "from nltk.corpus import wordnet\n",
        "\n",
        "import google_trans_new\n",
        "from google_trans_new import google_translator"
      ],
      "execution_count": null,
      "outputs": [
        {
          "output_type": "stream",
          "text": [
            "[nltk_data] Downloading package wordnet to /root/nltk_data...\n",
            "[nltk_data]   Unzipping corpora/wordnet.zip.\n"
          ],
          "name": "stdout"
        }
      ]
    },
    {
      "cell_type": "markdown",
      "metadata": {
        "id": "L9EeIBy6BtiH"
      },
      "source": [
        "## Dataset"
      ]
    },
    {
      "cell_type": "markdown",
      "metadata": {
        "id": "auw-m_mOBvIV"
      },
      "source": [
        "Setting up the dataset to incorporate labels with text"
      ]
    },
    {
      "cell_type": "code",
      "metadata": {
        "id": "IU2PNxIhBs1G"
      },
      "source": [
        "DATA_PATH = '/content/input/stanfordSentimentTreebank'\n",
        "WORK_PATH = '/content/working'\n",
        "\n",
        "DATA_SET = 'datasetSentences.txt'\n",
        "TRAIN_DEV_TEST = 'datasetSplit.txt'\n",
        "PHRASE_DICT = 'dictionary.txt'\n",
        "PHRASE_LABELS = 'sentiment_labels.txt'\n",
        "\n",
        "def getRandomState():\n",
        "    return np.random.RandomState(RANDOM_SEED)\n",
        "\n",
        "# Create translator object\n",
        "translator = google_translator()\n",
        "available_langs = list(google_trans_new.LANGUAGES.keys())"
      ],
      "execution_count": null,
      "outputs": []
    },
    {
      "cell_type": "code",
      "metadata": {
        "id": "R-vuvX7R3cgY"
      },
      "source": [
        "# Manual Seed\n",
        "RANDOM_SEED = 43\n",
        "torch.manual_seed(RANDOM_SEED)\n",
        "\n",
        "# Declare Constants\n",
        "PATH_CSV = '/content/tweets.csv'\n",
        "\n",
        "NLP_AUG = [\n",
        "    'random_insertion',\n",
        "    'random_deletion',\n",
        "    'random_swap',\n",
        "    'translate'\n",
        "]\n",
        "\n",
        "RANDOM = getRandomState()\n",
        "\n",
        "AUG_COUNT = 6 #arbitrary number can be increased or decreased. But needs to be an positive integer\n",
        "\n",
        "device = torch.device(\"cuda\" if torch.cuda.is_available() else \"cpu\")"
      ],
      "execution_count": null,
      "outputs": []
    },
    {
      "cell_type": "markdown",
      "metadata": {
        "id": "7BDRzCfSeacN"
      },
      "source": [
        "Essential functions"
      ]
    },
    {
      "cell_type": "code",
      "metadata": {
        "id": "8boOzwtrkAEo"
      },
      "source": [
        "def clean_data(x):\n",
        "    char_dict = {\n",
        "        '-LRB-' : '(',\n",
        "        '-RRB-' : ')',\n",
        "        '\\xa0' : ' ',\n",
        "        '\\xc2' : '',\n",
        "        '\\xc3\\x83\\xc2\\xa0' : 'a',\n",
        "        'à' : 'a',\n",
        "        'Â' : '',\n",
        "        'â' : 'a',\n",
        "        'ã' : 'a',\n",
        "        'Ã¡' : 'a',\n",
        "        'Ã¢' : 'a',\n",
        "        'Ã£' : 'a',\n",
        "        'Ã¦' : 'ae',\n",
        "        'Ã§' : 'c',\n",
        "        'Ã¨' : 'e',\n",
        "        'Ã©' : 'e',\n",
        "        'Ã­' : 'i',\n",
        "        'Ã¯' : 'i',\n",
        "        'Ã±' : 'n',\n",
        "        'Ã³' : 'o',\n",
        "        'Ã´' : 'o',\n",
        "        'Ã¶' : 'o',\n",
        "        'Ã»' : 'u',\n",
        "        'Ã¼' : 'u',\n",
        "        'æ' : 'ae',\n",
        "        'ç' : 'c',\n",
        "        'è' : 'e',\n",
        "        'é' : 'e',\n",
        "        'í' : 'i',\n",
        "        'ï' : 'i',\n",
        "        'ñ' : 'n',\n",
        "        'ó' : 'o',\n",
        "        'ô' : 'o',\n",
        "        'ö' : 'o',\n",
        "        'û' : 'u',\n",
        "        'ü' : 'u'\n",
        "    }\n",
        "    for keys in char_dict.keys():\n",
        "        x = x.replace(keys, char_dict[keys])\n",
        "    return x\n",
        "\n",
        "def sentiment_for_phrases():\n",
        "    # import phrase dictionary\n",
        "    df_dictionary = pd.read_table(\n",
        "        filepath_or_buffer = os.path.join(DATA_PATH, PHRASE_DICT)\n",
        "        , header = None\n",
        "    )\n",
        "    df_dictionary = df_dictionary[0].str.split('|', expand=True)\n",
        "    df_dictionary.columns = ['phrase', 'phrase_ids']\n",
        "\n",
        "    # done to join it with the sentence dataset\n",
        "    df_dictionary['sentence'] = df_dictionary['phrase'].apply(lambda x: clean_data(x))\n",
        "\n",
        "    # import sentiments from \n",
        "    df_sentiment = pd.read_table(\n",
        "        filepath_or_buffer = os.path.join(DATA_PATH, PHRASE_LABELS)\n",
        "        , header = None\n",
        "        , skiprows=1\n",
        "    )\n",
        "    df_sentiment = df_sentiment[0].str.split('|', expand=True)\n",
        "    df_sentiment.columns = ['phrase_ids', 'sentiment_values']\n",
        "    df_sentiment['sentiment_values'] = df_sentiment['sentiment_values'].astype('float32')\n",
        "    df_sentiment['sentiment_5'] = df_sentiment['sentiment_values'].apply(lambda x: 5 if 0.8 < x <= 1.0 else 4 if 0.6 < x <= 0.8 else 3 if 0.4 < x <= 0.6 else 2 if 0.2 < x <= 0.4 else 1)\n",
        "    df_sentiment['sentiment_25'] = df_sentiment['sentiment_values'].apply(lambda x: int(x*24+1))\n",
        "\n",
        "    # merge and returm the sentiment dictionary\n",
        "    return df_dictionary.merge(\n",
        "        df_sentiment\n",
        "        , how='inner'\n",
        "        , on = 'phrase_ids'\n",
        "    )\n",
        "\n",
        "def import_and_create_split_mapping():\n",
        "    # import the sentence dataset\n",
        "    df_data_sentence = pd.read_table(os.path.join(DATA_PATH, DATA_SET))\n",
        "\n",
        "    df_data_sentence['sentence'] = df_data_sentence['sentence'].apply(lambda x: clean_data(x))\n",
        "\n",
        "    # import the train dev and test splits for each sentences\n",
        "    train_dev_test_splits = pd.read_csv(os.path.join(DATA_PATH, TRAIN_DEV_TEST))\n",
        "\n",
        "    train_dev_test_splits['splitset_label_2'] = train_dev_test_splits['splitset_label'].apply(lambda x: 'train' if x == 1 else 'valid' if x == 2 else 'test')\n",
        "\n",
        "    return df_data_sentence.merge(\n",
        "        train_dev_test_splits\n",
        "        , how = 'inner'\n",
        "        , on = 'sentence_index'\n",
        "    )\n",
        "    "
      ],
      "execution_count": null,
      "outputs": []
    },
    {
      "cell_type": "code",
      "metadata": {
        "id": "N5trkImFpx9K"
      },
      "source": [
        "# import sentences from rotten tomatoes\n",
        "df  = import_and_create_split_mapping()\n",
        "\n",
        "# import processed sentiment dictionary\n",
        "df_sentiment_dict = sentiment_for_phrases()\n",
        "\n",
        "df_final = df.merge(\n",
        "    df_sentiment_dict\n",
        "    , how = 'inner'\n",
        "    , on = 'sentence'\n",
        ")"
      ],
      "execution_count": null,
      "outputs": []
    },
    {
      "cell_type": "code",
      "metadata": {
        "id": "kZTdMCE1NAih"
      },
      "source": [
        "df_train = df_final[df_final['splitset_label_2'] == 'train']\n",
        "df_valid = df_final[df_final['splitset_label_2'] == 'valid']\n",
        "df_test = df_final[df_final['splitset_label_2'] == 'test']\n",
        "\n",
        "assert len(df_train) + len(df_valid) + len(df_test) == len(df_final)"
      ],
      "execution_count": null,
      "outputs": []
    },
    {
      "cell_type": "markdown",
      "metadata": {
        "id": "Jb0DwT9p1Pqs"
      },
      "source": [
        "Augmentation Functions"
      ]
    },
    {
      "cell_type": "code",
      "metadata": {
        "id": "-pi8NeRH1PMz"
      },
      "source": [
        "def get_synonyms(word):\n",
        "    synonyms = set()\n",
        "    for syn in wordnet.synsets(word): \n",
        "        for l in syn.lemmas(): \n",
        "            synonym = l.name().replace(\"_\", \" \").replace(\"-\", \" \").lower()\n",
        "            synonym = \"\".join([char for char in synonym if char in ' qwertyuiopasdfghjklzxcvbnm'])\n",
        "            synonyms.add(synonym)\n",
        "    if word in synonyms:\n",
        "        synonyms.remove(word)\n",
        "    \n",
        "    return list(synonyms)\n",
        "\n",
        "def random_insertion(sentence, n=5): \n",
        "    words = remove_stopwords(sentence)\n",
        "    words, sentence = words.split(), sentence.split() # Code added to tokenize\n",
        "    for _ in range(n):\n",
        "        new_synonym = get_synonyms(random.choice(words))\n",
        "        if len(new_synonym) > 0:\n",
        "            sentence.insert(random.randrange(len(sentence)), random.choice(new_synonym)) \n",
        "    return ' '.join(sentence)\n",
        "\n",
        "def random_deletion(sentence, p=0.5):\n",
        "    words = sentence.split() # Code added to tokenize\n",
        "    if len(words) == 1: # return if single word\n",
        "        return words\n",
        "    remaining = list(filter(lambda x: random.uniform(0,1) > p, words)) \n",
        "    if len(remaining) == 0: # if not left, sample a random word\n",
        "        return ' '.join([random.choice(words)])\n",
        "    else:\n",
        "        return ' '.join(remaining)\n",
        "\n",
        "def random_swap(sentence, n=5):\n",
        "    sentence = sentence.split() # Code added to tokenize\n",
        "    length = range(len(sentence))\n",
        "    if len(sentence) > 1:\n",
        "        for _ in range(n):\n",
        "            idx1, idx2 = random.sample(length, 2)\n",
        "            sentence[idx1], sentence[idx2] = sentence[idx2], sentence[idx1] \n",
        "    return ' '.join(sentence)\n",
        "\n",
        "def translate_and_back(sentence):\n",
        "    trans_lang = random.choice(available_langs)\n",
        "    translated = translator.translate(\n",
        "        translator.translate(sentence, lang_tgt=trans_lang),\n",
        "        lang_src=trans_lang,\n",
        "        lang_tgt='en'\n",
        "    )\n",
        "    return translated\n",
        "\n",
        "def augment_dataset(x, y1, y2):\n",
        "    sentence_stack = []\n",
        "    if AUG_COUNT > 0:\n",
        "        aug_list = np.random.choice(NLP_AUG, size=AUG_COUNT, p=[0.33, 0.33, 0.33, 0.01])\n",
        "        # np.random.randint(1, high=len(NLP_AUG) + 1, size=AUG_COUNT, dtype=int)\n",
        "        \n",
        "        for num_aug in aug_list:\n",
        "            if   num_aug == NLP_AUG[0]:\n",
        "                st = random_insertion(x, random.randint(0, int(len(x)/2)))\n",
        "                sentence_stack.append((st, y1, y2))\n",
        "            elif num_aug == NLP_AUG[1]:\n",
        "                sentence_stack.append((random_deletion(x), y1, y2))\n",
        "            elif num_aug == NLP_AUG[2]:\n",
        "                st = random_swap(x, random.randint(0, int(len(x)/2)))\n",
        "                sentence_stack.append((st, y1, y2))\n",
        "            elif num_aug == NLP_AUG[3]:\n",
        "                sentence_stack.append((translate_and_back(x), y1, y2))\n",
        "\n",
        "    return sentence_stack"
      ],
      "execution_count": null,
      "outputs": []
    },
    {
      "cell_type": "markdown",
      "metadata": {
        "id": "f6FeeG_v-LoV"
      },
      "source": [
        "# Create Augmentation"
      ]
    },
    {
      "cell_type": "markdown",
      "metadata": {
        "id": "Pl6-0Fx3-Oa_"
      },
      "source": [
        "Create different augmentation for each of the tweets and pass it wil the same label"
      ]
    },
    {
      "cell_type": "code",
      "metadata": {
        "id": "DST7wikv2Lu_"
      },
      "source": [
        "df_aug = pd.DataFrame()\n",
        "for idx in df_train.index:\n",
        "    aug_df = pd.DataFrame(\n",
        "        augment_dataset(df_train['sentence'][idx], df_train['sentiment_5'][idx], df_train['sentiment_25'][idx]),\n",
        "        columns=['sentence','sentiment_5', 'sentiment_25']\n",
        "    )\n",
        "    df_aug = df_aug.append(aug_df)\n",
        "\n",
        "assert len(df_train) * (AUG_COUNT) == len(df_aug)"
      ],
      "execution_count": null,
      "outputs": []
    },
    {
      "cell_type": "code",
      "metadata": {
        "id": "7rmOFD3A-2-E"
      },
      "source": [
        "# create a single dataset of the augmented and original data\n",
        "df_new = df_train.append(df_aug[['sentence', 'sentiment_5', 'sentiment_25']])\n",
        "df_new.reset_index(drop=True,inplace=True)\n",
        "\n",
        "assert len(df_train) * (AUG_COUNT + 1) == len(df_new)"
      ],
      "execution_count": null,
      "outputs": []
    },
    {
      "cell_type": "markdown",
      "metadata": {
        "id": "o8YRf9yu-Stj"
      },
      "source": [
        "# Defining Fields"
      ]
    },
    {
      "cell_type": "markdown",
      "metadata": {
        "id": "baYJi3Fj-UfD"
      },
      "source": [
        "Now we shall be defining LABEL as a LabelField, which is a subclass of Field that sets sequen tial to False (as it’s our numerical category class). TWEET is a standard Field object, where we have decided to use the spaCy tokenizer and convert all the text to lower‐ case."
      ]
    },
    {
      "cell_type": "code",
      "metadata": {
        "id": "Mg5MWEbj3BfE"
      },
      "source": [
        "sentence = data.Field(sequential = True, tokenize = 'spacy', batch_first =True, include_lengths=True)\n",
        "label5 = data.LabelField(tokenize ='spacy', is_target=True, batch_first =True, sequential =False)\n",
        "label25 = data.LabelField(tokenize ='spacy', is_target=True, batch_first =True, sequential =False)"
      ],
      "execution_count": null,
      "outputs": []
    },
    {
      "cell_type": "markdown",
      "metadata": {
        "id": "5w3tuT5DAWEn"
      },
      "source": [
        "Having defined those fields, we now need to produce a list that maps them onto the list of rows that are in the CSV:"
      ]
    },
    {
      "cell_type": "code",
      "metadata": {
        "id": "ZmxfUNxp-e2q"
      },
      "source": [
        "fields = [('sentence', sentence),('sentiment_5', label5),('sentiment_25', label25)]"
      ],
      "execution_count": null,
      "outputs": []
    },
    {
      "cell_type": "markdown",
      "metadata": {
        "id": "1KZnBqpOAYa4"
      },
      "source": [
        "Armed with our declared fields, lets convert from pandas to list to torchtext. We could also use TabularDataset to apply that definition to the CSV directly but showing an alternative approach too."
      ]
    },
    {
      "cell_type": "code",
      "metadata": {
        "id": "tBsyrHFAzuy7"
      },
      "source": [
        "train = [data.Example.fromlist([df_new.sentence[i], df_new.sentiment_5[i], df_new.sentiment_25[i]], fields) for i in range(df_new.shape[0])]\n",
        "valid = [data.Example.fromlist([df_new.sentence[i], df_new.sentiment_5[i], df_new.sentiment_25[i]], fields) for i in range(df_valid.shape[0])]\n",
        "test = [data.Example.fromlist([df_new.sentence[i], df_new.sentiment_5[i], df_new.sentiment_25[i]], fields) for i in range(df_test.shape[0])]"
      ],
      "execution_count": null,
      "outputs": []
    },
    {
      "cell_type": "code",
      "metadata": {
        "id": "jR4pNc7UzwW8"
      },
      "source": [
        "# Creating dataset\n",
        "train = data.Dataset(train, fields)\n",
        "valid = data.Dataset(valid, fields)\n",
        "test = data.Dataset(test, fields)"
      ],
      "execution_count": null,
      "outputs": []
    },
    {
      "cell_type": "markdown",
      "metadata": {
        "id": "7fhV7Xe1AbC2"
      },
      "source": [
        "Finally, we can split into training, testing, and validation sets by using the split() method:"
      ]
    },
    {
      "cell_type": "code",
      "metadata": {
        "id": "pWSZnRl9zzfq",
        "colab": {
          "base_uri": "https://localhost:8080/"
        },
        "outputId": "34ce4b70-928b-4393-9ed3-ec27b74ae31e"
      },
      "source": [
        "(len(train), len(valid), len(test))"
      ],
      "execution_count": null,
      "outputs": [
        {
          "output_type": "execute_result",
          "data": {
            "text/plain": [
              "(59787, 2217, 1100)"
            ]
          },
          "metadata": {
            "tags": []
          },
          "execution_count": 23
        }
      ]
    },
    {
      "cell_type": "markdown",
      "metadata": {
        "id": "LEPeP5fyAdl4"
      },
      "source": [
        "An example from the dataset:"
      ]
    },
    {
      "cell_type": "code",
      "metadata": {
        "id": "rw0x5MPLz1G3",
        "colab": {
          "base_uri": "https://localhost:8080/"
        },
        "outputId": "fa578f95-839b-40dc-cc91-ce51dd4f74bf"
      },
      "source": [
        "vars(train.examples[random.randint(0, df_train.shape[0])])"
      ],
      "execution_count": null,
      "outputs": [
        {
          "output_type": "execute_result",
          "data": {
            "text/plain": [
              "{'sentence': ['It',\n",
              "  'is',\n",
              "  \"n't\",\n",
              "  'that',\n",
              "  'the',\n",
              "  'picture',\n",
              "  'is',\n",
              "  'unfamiliar',\n",
              "  ',',\n",
              "  'but',\n",
              "  'that',\n",
              "  'it',\n",
              "  'manages',\n",
              "  'to',\n",
              "  'find',\n",
              "  'new',\n",
              "  'avenues',\n",
              "  'of',\n",
              "  'discourse',\n",
              "  'on',\n",
              "  'old',\n",
              "  'problems',\n",
              "  '.'],\n",
              " 'sentiment_25': 15,\n",
              " 'sentiment_5': 3}"
            ]
          },
          "metadata": {
            "tags": []
          },
          "execution_count": 24
        }
      ]
    },
    {
      "cell_type": "markdown",
      "metadata": {
        "id": "M2eZbD1kKkSf"
      },
      "source": [
        "## Building Vocabulary"
      ]
    },
    {
      "cell_type": "markdown",
      "metadata": {
        "id": "02FnXct_KlH1"
      },
      "source": [
        "At this point we would have built a one-hot encoding of each word that is present in the dataset—a rather tedious process. Thankfully, torchtext will do this for us, and will also allow a max_size parameter to be passed in to limit the vocabu‐ lary to the most common words. This is normally done to prevent the construction of a huge, memory-hungry model. We don’t want our GPUs too overwhelmed, after all. \n",
        "\n",
        "Let’s limit the vocabulary to a maximum of 5000 words in our training set:"
      ]
    },
    {
      "cell_type": "code",
      "metadata": {
        "id": "-ULOI-lnz29U"
      },
      "source": [
        "sentence.build_vocab(train)\n",
        "label5.build_vocab(train)\n",
        "label25.build_vocab(train)"
      ],
      "execution_count": null,
      "outputs": []
    },
    {
      "cell_type": "markdown",
      "metadata": {
        "id": "2N-5waP6Kp8t"
      },
      "source": [
        "By default, torchtext will add two more special tokens, <unk> for unknown words and <pad>, a padding token that will be used to pad all our text to roughly the same size to help with efficient batching on the GPU."
      ]
    },
    {
      "cell_type": "code",
      "metadata": {
        "id": "rzKuavaBz4bO",
        "colab": {
          "base_uri": "https://localhost:8080/"
        },
        "outputId": "543f6ec9-c849-4657-9d60-ab02f1251458"
      },
      "source": [
        "print('Size of input vocab : ', len(sentence.vocab))\n",
        "print('Size of label5 vocab : ', len(label5.vocab))\n",
        "print('Size of label25 vocab : ', len(label25.vocab))\n",
        "print('Top 10 words appreared repeatedly :', list(sentence.vocab.freqs.most_common(10)))\n",
        "print('Labels 5 : ', label5.vocab.stoi)\n",
        "print('Labels 25 : ', label25.vocab.stoi)"
      ],
      "execution_count": null,
      "outputs": [
        {
          "output_type": "stream",
          "text": [
            "Size of input vocab :  30529\n",
            "Size of label5 vocab :  5\n",
            "Size of label25 vocab :  25\n",
            "Top 10 words appreared repeatedly : [('.', 48210), (',', 42896), ('the', 38719), ('of', 29640), ('a', 28450), ('and', 27366), ('to', 18860), ('-', 16462), ('is', 15285), (\"'s\", 15275)]\n",
            "Labels 5 :  defaultdict(None, {4: 0, 2: 1, 3: 2, 5: 3, 1: 4})\n",
            "Labels 25 :  defaultdict(None, {20: 0, 17: 1, 8: 2, 19: 3, 5: 4, 7: 5, 11: 6, 13: 7, 18: 8, 14: 9, 10: 10, 16: 11, 6: 12, 22: 13, 4: 14, 9: 15, 15: 16, 21: 17, 2: 18, 3: 19, 12: 20, 23: 21, 1: 22, 24: 23, 25: 24})\n"
          ],
          "name": "stdout"
        }
      ]
    },
    {
      "cell_type": "markdown",
      "metadata": {
        "id": "IVFgEF6AKvVr"
      },
      "source": [
        "**Lots of stopwords!!**"
      ]
    },
    {
      "cell_type": "markdown",
      "metadata": {
        "id": "UoWHYWX8KxqK"
      },
      "source": [
        "Now we need to create a data loader to feed into our training loop. Torchtext provides the BucketIterator method that will produce what it calls a Batch, which is almost, but not quite, like the data loader we used on images."
      ]
    },
    {
      "cell_type": "code",
      "metadata": {
        "id": "xogYHB1uz-Z7"
      },
      "source": [
        "train_iterator, valid_iterator = data.BucketIterator.splits((train, valid), batch_size = 32, \n",
        "                                                            sort_key = lambda x: len(x.sentence),\n",
        "                                                            sort_within_batch=True, device = device)"
      ],
      "execution_count": null,
      "outputs": []
    },
    {
      "cell_type": "markdown",
      "metadata": {
        "id": "ldjY9qgDK3aY"
      },
      "source": [
        "Save the vocabulary for later use"
      ]
    },
    {
      "cell_type": "code",
      "metadata": {
        "id": "5XrF_Hsl0AG7"
      },
      "source": [
        "import os, pickle\n",
        "with open('tokenizer.pkl', 'wb') as tokens: \n",
        "    pickle.dump(sentence.vocab.stoi, tokens)"
      ],
      "execution_count": null,
      "outputs": []
    },
    {
      "cell_type": "markdown",
      "metadata": {
        "id": "T2268S6fK6pw"
      },
      "source": [
        "## Defining Our Model"
      ]
    },
    {
      "cell_type": "markdown",
      "metadata": {
        "id": "LbiShii_K7VF"
      },
      "source": [
        "We use the Embedding and LSTM modules in PyTorch to build a simple model for classifying tweets.\n",
        "\n",
        "In this model we create three layers. \n",
        "1. First, the words in our tweets are pushed into an Embedding layer, which we have established as a 300-dimensional vector embedding. \n",
        "2. That’s then fed into a 2 stacked-LSTMs with 100 hidden features (again, we’re compressing down from the 300-dimensional input like we did with images). We are using 2 LSTMs for using the dropout.\n",
        "3. Finally, the output of the LSTM (the final hidden state after processing the incoming tweet) is pushed through a standard fully connected layer with three outputs to correspond to our three possible classes (negative, positive, or neutral)."
      ]
    },
    {
      "cell_type": "code",
      "metadata": {
        "id": "YnvqGt6p0Hzj"
      },
      "source": [
        "class classifier(nn.Module):\n",
        "    \n",
        "    # Define all the layers used in model\n",
        "    def __init__(self, vocab_size, embedding_dim, hidden_dim, output_dim, n_layers, dropout):\n",
        "        \n",
        "        super().__init__()          \n",
        "        \n",
        "        # Embedding layer\n",
        "        self.embedding = nn.Embedding(vocab_size, embedding_dim)\n",
        "        \n",
        "        # LSTM layer\n",
        "        self.encoder = nn.LSTM(embedding_dim, \n",
        "                           hidden_dim, \n",
        "                           num_layers=n_layers, \n",
        "                           dropout=dropout,\n",
        "                           batch_first=True)\n",
        "        # try using nn.GRU or nn.RNN here and compare their performances\n",
        "        # try bidirectional and compare their performances\n",
        "        \n",
        "        # Dense layer\n",
        "        self.fc5 = nn.Linear(hidden_dim, output_dim[0])\n",
        "\n",
        "        self.fc25 = nn.Linear(hidden_dim, output_dim[1])\n",
        "        \n",
        "    def forward(self, text, text_lengths):\n",
        "        \n",
        "        # text = [batch size, sent_length]\n",
        "        embedded = self.embedding(text)\n",
        "        # embedded = [batch size, sent_len, emb dim]\n",
        "      \n",
        "        # packed sequence\n",
        "        packed_embedded = nn.utils.rnn.pack_padded_sequence(embedded, text_lengths.cpu(), batch_first=True)\n",
        "        \n",
        "        packed_output, (hidden, cell) = self.encoder(packed_embedded)\n",
        "        #hidden = [batch size, num layers * num directions,hid dim]\n",
        "        #cell = [batch size, num layers * num directions,hid dim]\n",
        "    \n",
        "        # Hidden = [batch size, hid dim * num directions]\n",
        "        dense_outputs5 = self.fc5(hidden)\n",
        "\n",
        "        dense_outputs25 = self.fc25(hidden)\n",
        "        \n",
        "        # Final activation function softmax\n",
        "        output5 = F.softmax(dense_outputs5[0], dim=1)\n",
        "\n",
        "        output25 = F.softmax(dense_outputs25[0], dim=1)\n",
        "            \n",
        "        return output5, output25"
      ],
      "execution_count": null,
      "outputs": []
    },
    {
      "cell_type": "code",
      "metadata": {
        "id": "Pcr5kX-G0In2"
      },
      "source": [
        "# Define hyperparameters\n",
        "size_of_vocab = len(sentence.vocab)\n",
        "embedding_dim = 600\n",
        "num_hidden_nodes = 200\n",
        "num_output_nodes = [5, 25]\n",
        "num_layers = 3\n",
        "dropout = 0.2\n",
        "\n",
        "# Instantiate the model\n",
        "model = classifier(size_of_vocab, embedding_dim, num_hidden_nodes, num_output_nodes, num_layers, dropout = dropout)"
      ],
      "execution_count": null,
      "outputs": []
    },
    {
      "cell_type": "code",
      "metadata": {
        "id": "_PfeCgx10K-7",
        "colab": {
          "base_uri": "https://localhost:8080/"
        },
        "outputId": "0eaf80f9-9cc9-4e39-d180-87a6b873d0c9"
      },
      "source": [
        "print(model)\n",
        "\n",
        "#No. of trianable parameters\n",
        "def count_parameters(model):\n",
        "    return sum(p.numel() for p in model.parameters() if p.requires_grad)\n",
        "    \n",
        "print(f'The model has {count_parameters(model):,} trainable parameters')"
      ],
      "execution_count": null,
      "outputs": [
        {
          "output_type": "stream",
          "text": [
            "classifier(\n",
            "  (embedding): Embedding(30529, 600)\n",
            "  (encoder): LSTM(600, 200, num_layers=3, batch_first=True, dropout=0.2)\n",
            "  (fc5): Linear(in_features=200, out_features=5, bias=True)\n",
            "  (fc25): Linear(in_features=200, out_features=25, bias=True)\n",
            ")\n",
            "The model has 19,608,230 trainable parameters\n"
          ],
          "name": "stdout"
        }
      ]
    },
    {
      "cell_type": "markdown",
      "metadata": {
        "id": "bFL0bwMILAWA"
      },
      "source": [
        "## Model Training and Evaluation"
      ]
    },
    {
      "cell_type": "markdown",
      "metadata": {
        "id": "A9qfuVK3LA_s"
      },
      "source": [
        "First define the optimizer and loss functions"
      ]
    },
    {
      "cell_type": "code",
      "metadata": {
        "id": "40iMOCkM0QqN"
      },
      "source": [
        "# define optimizer and loss\n",
        "optimizer = optim.Adam(model.parameters(), lr=2e-4)\n",
        "criterion5 = nn.CrossEntropyLoss()\n",
        "criterion25 = nn.CrossEntropyLoss()\n",
        "\n",
        "# define metric\n",
        "def binary_accuracy(preds, y):\n",
        "    #round predictions to the closest integer\n",
        "    _, predictions = torch.max(preds, 1)\n",
        "    \n",
        "    correct = (predictions == y).float() \n",
        "    acc = correct.sum() / len(correct)\n",
        "    return acc\n",
        "    \n",
        "# push to cuda if available\n",
        "model = model.to(device)\n",
        "criterion5 = criterion5.to(device)\n",
        "criterion25 = criterion25.to(device)"
      ],
      "execution_count": null,
      "outputs": []
    },
    {
      "cell_type": "markdown",
      "metadata": {
        "id": "sZmlBj8yLE0u"
      },
      "source": [
        "The main thing to be aware of in this new training loop is that we have to reference `batch.tweets` and `batch.labels` to get the particular fields we’re interested in; they don’t fall out quite as nicely from the enumerator as they do in torchvision."
      ]
    },
    {
      "cell_type": "markdown",
      "metadata": {
        "id": "gveXpI2zLHj6"
      },
      "source": [
        "**Training Loop**"
      ]
    },
    {
      "cell_type": "code",
      "metadata": {
        "id": "NlMS9uHl0SSm"
      },
      "source": [
        "def train(model, iterator, optimizer, criterion5, criterion25):\n",
        "    \n",
        "    # initialize every epoch \n",
        "    epoch_loss5 = 0\n",
        "    epoch_acc5 = 0\n",
        "\n",
        "    epoch_loss25 = 0\n",
        "    epoch_acc25 = 0\n",
        "    \n",
        "    # set the model in training phase\n",
        "    model.train()  \n",
        "    \n",
        "    for batch in iterator:\n",
        "        \n",
        "        # resets the gradients after every batch\n",
        "        optimizer.zero_grad()   \n",
        "        \n",
        "        # retrieve text and no. of words\n",
        "        sentence, sentence_lengths = batch.sentence   \n",
        "        \n",
        "        # convert to 1D tensor\n",
        "        predictions5, predictions25 = model(sentence, sentence_lengths)\n",
        "        predictions5, predictions25 = predictions5.squeeze(), predictions25.squeeze()\n",
        "        \n",
        "        # compute the loss\n",
        "        loss5 = criterion5(predictions5, batch.sentiment_5)\n",
        "        loss25 = criterion25(predictions25, batch.sentiment_25)       \n",
        "        \n",
        "        # compute the binary accuracy\n",
        "        acc5 = binary_accuracy(predictions5, batch.sentiment_5)\n",
        "        acc25 = binary_accuracy(predictions25, batch.sentiment_25) \n",
        "        \n",
        "        # backpropage the loss and compute the gradients\n",
        "        loss5.backward(retain_graph=True)\n",
        "        loss25.backward(retain_graph=True)       \n",
        "        \n",
        "        # update the weights\n",
        "        optimizer.step()      \n",
        "        \n",
        "        # loss and accuracy\n",
        "        epoch_loss5 += loss5.item()  \n",
        "        epoch_acc5 += acc5.item()\n",
        "\n",
        "        epoch_loss25 += loss25.item()  \n",
        "        epoch_acc25 += acc25.item()  \n",
        "        \n",
        "    return epoch_loss5 / len(iterator), epoch_acc5 / len(iterator), epoch_loss25 / len(iterator), epoch_acc25 / len(iterator)"
      ],
      "execution_count": null,
      "outputs": []
    },
    {
      "cell_type": "markdown",
      "metadata": {
        "id": "XSd_lLxqLNgK"
      },
      "source": [
        "**Evaluation Loop**"
      ]
    },
    {
      "cell_type": "code",
      "metadata": {
        "id": "wHG2CKes0SL0"
      },
      "source": [
        "def evaluate(model, iterator, criterion5, criterion25):\n",
        "    \n",
        "    # initialize every epoch\n",
        "    epoch_loss5 = 0\n",
        "    epoch_acc5 = 0\n",
        "\n",
        "    epoch_loss25 = 0\n",
        "    epoch_acc25 = 0\n",
        "\n",
        "    # deactivating dropout layers\n",
        "    model.eval()\n",
        "    \n",
        "    # deactivates autograd\n",
        "    with torch.no_grad():\n",
        "    \n",
        "        for batch in iterator:\n",
        "        \n",
        "            # retrieve text and no. of words\n",
        "            sentence, sentence_lengths = batch.sentence\n",
        "            \n",
        "            # convert to 1d tensor\n",
        "            predictions5, predictions25 = model(sentence, sentence_lengths)\n",
        "            predictions5, predictions25 = predictions5.squeeze(), predictions25.squeeze()\n",
        "            \n",
        "            # compute loss and accuracy\n",
        "            loss5 = criterion5(predictions5, batch.sentiment_5)\n",
        "            acc5 = binary_accuracy(predictions5, batch.sentiment_5)\n",
        "\n",
        "            loss25 = criterion25(predictions25, batch.sentiment_25)\n",
        "            acc25 = binary_accuracy(predictions25, batch.sentiment_25)\n",
        "            \n",
        "            # keep track of loss and accuracy\n",
        "            epoch_loss5 += loss5.item()\n",
        "            epoch_acc5 += acc5.item()\n",
        "\n",
        "            epoch_loss25 += loss25.item()\n",
        "            epoch_acc25 += acc25.item()\n",
        "        \n",
        "    return epoch_loss5 / len(iterator), epoch_acc5 / len(iterator), epoch_loss25 / len(iterator), epoch_acc25 / len(iterator)"
      ],
      "execution_count": null,
      "outputs": []
    },
    {
      "cell_type": "markdown",
      "metadata": {
        "id": "X9IMeFenLPyp"
      },
      "source": [
        "**Let's Train and Evaluate**"
      ]
    },
    {
      "cell_type": "code",
      "metadata": {
        "id": "68aqTOXy0VjS",
        "colab": {
          "base_uri": "https://localhost:8080/"
        },
        "outputId": "8a5e25aa-bed2-4522-8c4d-28b2dca3f7a4"
      },
      "source": [
        "N_EPOCHS = 25\n",
        "best_valid_loss5 = float('inf')\n",
        "val_losses5 = []\n",
        "train_losses5 = []\n",
        "\n",
        "val_accuracy5 = []\n",
        "train_accuracy5 = []\n",
        "\n",
        "val_losses25 = []\n",
        "train_losses25 = []\n",
        "\n",
        "val_accuracy25 = []\n",
        "train_accuracy25 = []\n",
        "\n",
        "for epoch in range(N_EPOCHS):\n",
        "     \n",
        "    start_time = time.time()\n",
        "    # train the model\n",
        "    train_loss5, train_acc5, train_loss25, train_acc25 = train(model, train_iterator, optimizer, criterion5, criterion25)\n",
        "    train_losses5.append(train_loss5)\n",
        "    train_accuracy5.append(train_acc5)\n",
        "\n",
        "    train_losses25.append(train_loss25)\n",
        "    train_accuracy25.append(train_acc25)\n",
        "\n",
        "    # evaluate the model\n",
        "    valid_loss5, valid_acc5, valid_loss25, valid_acc25 = evaluate(model, valid_iterator, criterion5, criterion25)\n",
        "    val_losses5.append(valid_loss5)\n",
        "    val_accuracy5.append(valid_acc5)\n",
        "\n",
        "    val_losses25.append(valid_loss25)\n",
        "    val_accuracy25.append(valid_acc25)\n",
        "\n",
        "\n",
        "    # save the best model\n",
        "    if valid_loss5 < best_valid_loss5:\n",
        "        best_valid_loss5 = valid_loss5\n",
        "        torch.save(model.state_dict(), 'saved_weights.pt')\n",
        "    \n",
        "    print(f'Epoch {epoch+1} | Time Taken: {(time.time() - start_time):.2f}s')\n",
        "    print(f'\\tTrain Loss  5 labels: {train_loss5:.3f} | Train Acc  5 labels: {train_acc5*100:.2f}%')\n",
        "    print(f'\\t Val. Loss  5 labels: {valid_loss5:.3f} |  Val. Acc  5 labels: {valid_acc5*100:.2f}% \\n')\n",
        "    print(f'\\tTrain Loss 25 labels: {train_loss25:.3f} | Train Acc 25 labels: {train_acc25*100:.2f}%')\n",
        "    print(f'\\t Val. Loss 25 labels: {valid_loss25:.3f} |  Val. Acc 25 labels: {valid_acc25*100:.2f}% \\n')"
      ],
      "execution_count": null,
      "outputs": [
        {
          "output_type": "stream",
          "text": [
            "Epoch 1 | Time Taken: 37.08s\n",
            "\tTrain Loss  5 labels: 1.525 | Train Acc   5 labels: 35.90%\n",
            "\t Val. Loss  5 labels: 1.394 |  Val. Acc   5 labels: 50.08% \n",
            "\n",
            "\tTrain Loss 25 labels: 3.172 | Train Acc 25 labels: 11.04%\n",
            "\t Val. Loss 25 labels: 3.083 |  Val. Acc 25 labels: 22.89% \n",
            "\n",
            "Epoch 2 | Time Taken: 37.18s\n",
            "\tTrain Loss  5 labels: 1.393 | Train Acc   5 labels: 51.18%\n",
            "\t Val. Loss  5 labels: 1.200 |  Val. Acc   5 labels: 71.13% \n",
            "\n",
            "\tTrain Loss 25 labels: 3.105 | Train Acc 25 labels: 19.06%\n",
            "\t Val. Loss 25 labels: 2.970 |  Val. Acc 25 labels: 34.21% \n",
            "\n",
            "Epoch 3 | Time Taken: 37.43s\n",
            "\tTrain Loss  5 labels: 1.284 | Train Acc   5 labels: 62.83%\n",
            "\t Val. Loss  5 labels: 1.167 |  Val. Acc   5 labels: 74.57% \n",
            "\n",
            "\tTrain Loss 25 labels: 3.032 | Train Acc 25 labels: 27.41%\n",
            "\t Val. Loss 25 labels: 2.914 |  Val. Acc 25 labels: 38.76% \n",
            "\n",
            "Epoch 4 | Time Taken: 37.51s\n",
            "\tTrain Loss  5 labels: 1.208 | Train Acc   5 labels: 70.46%\n",
            "\t Val. Loss  5 labels: 1.028 |  Val. Acc   5 labels: 88.23% \n",
            "\n",
            "\tTrain Loss 25 labels: 2.968 | Train Acc 25 labels: 34.07%\n",
            "\t Val. Loss 25 labels: 2.837 |  Val. Acc 25 labels: 46.22% \n",
            "\n",
            "Epoch 5 | Time Taken: 37.64s\n",
            "\tTrain Loss  5 labels: 1.148 | Train Acc   5 labels: 76.55%\n",
            "\t Val. Loss  5 labels: 1.013 |  Val. Acc   5 labels: 89.57% \n",
            "\n",
            "\tTrain Loss 25 labels: 2.915 | Train Acc 25 labels: 39.08%\n",
            "\t Val. Loss 25 labels: 2.816 |  Val. Acc 25 labels: 47.94% \n",
            "\n",
            "Epoch 6 | Time Taken: 37.67s\n",
            "\tTrain Loss  5 labels: 1.098 | Train Acc   5 labels: 81.58%\n",
            "\t Val. Loss  5 labels: 0.981 |  Val. Acc   5 labels: 92.88% \n",
            "\n",
            "\tTrain Loss 25 labels: 2.874 | Train Acc 25 labels: 42.85%\n",
            "\t Val. Loss 25 labels: 2.792 |  Val. Acc 25 labels: 49.43% \n",
            "\n",
            "Epoch 7 | Time Taken: 37.67s\n",
            "\tTrain Loss  5 labels: 1.062 | Train Acc   5 labels: 85.08%\n",
            "\t Val. Loss  5 labels: 0.971 |  Val. Acc   5 labels: 93.25% \n",
            "\n",
            "\tTrain Loss 25 labels: 2.845 | Train Acc 25 labels: 45.31%\n",
            "\t Val. Loss 25 labels: 2.781 |  Val. Acc 25 labels: 50.53% \n",
            "\n",
            "Epoch 8 | Time Taken: 37.65s\n",
            "\tTrain Loss  5 labels: 1.037 | Train Acc   5 labels: 87.57%\n",
            "\t Val. Loss  5 labels: 0.964 |  Val. Acc   5 labels: 94.11% \n",
            "\n",
            "\tTrain Loss 25 labels: 2.827 | Train Acc 25 labels: 46.84%\n",
            "\t Val. Loss 25 labels: 2.777 |  Val. Acc 25 labels: 51.11% \n",
            "\n",
            "Epoch 9 | Time Taken: 37.67s\n",
            "\tTrain Loss  5 labels: 1.018 | Train Acc   5 labels: 89.34%\n",
            "\t Val. Loss  5 labels: 0.955 |  Val. Acc   5 labels: 95.04% \n",
            "\n",
            "\tTrain Loss 25 labels: 2.812 | Train Acc 25 labels: 48.08%\n",
            "\t Val. Loss 25 labels: 2.771 |  Val. Acc 25 labels: 51.51% \n",
            "\n",
            "Epoch 10 | Time Taken: 37.63s\n",
            "\tTrain Loss  5 labels: 1.003 | Train Acc   5 labels: 90.72%\n",
            "\t Val. Loss  5 labels: 0.951 |  Val. Acc   5 labels: 95.58% \n",
            "\n",
            "\tTrain Loss 25 labels: 2.801 | Train Acc 25 labels: 49.05%\n",
            "\t Val. Loss 25 labels: 2.765 |  Val. Acc 25 labels: 52.00% \n",
            "\n",
            "Epoch 11 | Time Taken: 37.66s\n",
            "\tTrain Loss  5 labels: 0.992 | Train Acc   5 labels: 91.77%\n",
            "\t Val. Loss  5 labels: 0.946 |  Val. Acc   5 labels: 95.89% \n",
            "\n",
            "\tTrain Loss 25 labels: 2.792 | Train Acc 25 labels: 49.92%\n",
            "\t Val. Loss 25 labels: 2.738 |  Val. Acc 25 labels: 55.21% \n",
            "\n",
            "Epoch 12 | Time Taken: 37.65s\n",
            "\tTrain Loss  5 labels: 0.982 | Train Acc   5 labels: 92.71%\n",
            "\t Val. Loss  5 labels: 0.942 |  Val. Acc   5 labels: 96.21% \n",
            "\n",
            "\tTrain Loss 25 labels: 2.773 | Train Acc 25 labels: 52.04%\n",
            "\t Val. Loss 25 labels: 2.686 |  Val. Acc 25 labels: 60.75% \n",
            "\n",
            "Epoch 13 | Time Taken: 37.66s\n",
            "\tTrain Loss  5 labels: 0.976 | Train Acc   5 labels: 93.25%\n",
            "\t Val. Loss  5 labels: 0.939 |  Val. Acc   5 labels: 96.56% \n",
            "\n",
            "\tTrain Loss 25 labels: 2.747 | Train Acc 25 labels: 54.85%\n",
            "\t Val. Loss 25 labels: 2.635 |  Val. Acc 25 labels: 66.44% \n",
            "\n",
            "Epoch 14 | Time Taken: 37.63s\n",
            "\tTrain Loss  5 labels: 0.970 | Train Acc   5 labels: 93.84%\n",
            "\t Val. Loss  5 labels: 0.937 |  Val. Acc   5 labels: 96.79% \n",
            "\n",
            "\tTrain Loss 25 labels: 2.716 | Train Acc 25 labels: 58.40%\n",
            "\t Val. Loss 25 labels: 2.583 |  Val. Acc 25 labels: 71.25% \n",
            "\n",
            "Epoch 15 | Time Taken: 37.63s\n",
            "\tTrain Loss  5 labels: 0.966 | Train Acc   5 labels: 94.21%\n",
            "\t Val. Loss  5 labels: 0.936 |  Val. Acc   5 labels: 96.96% \n",
            "\n",
            "\tTrain Loss 25 labels: 2.678 | Train Acc 25 labels: 62.56%\n",
            "\t Val. Loss 25 labels: 2.544 |  Val. Acc 25 labels: 75.02% \n",
            "\n",
            "Epoch 16 | Time Taken: 37.49s\n",
            "\tTrain Loss  5 labels: 0.962 | Train Acc   5 labels: 94.60%\n",
            "\t Val. Loss  5 labels: 0.936 |  Val. Acc   5 labels: 96.96% \n",
            "\n",
            "\tTrain Loss 25 labels: 2.640 | Train Acc 25 labels: 66.50%\n",
            "\t Val. Loss 25 labels: 2.511 |  Val. Acc 25 labels: 78.19% \n",
            "\n",
            "Epoch 17 | Time Taken: 37.60s\n",
            "\tTrain Loss  5 labels: 0.958 | Train Acc   5 labels: 94.91%\n",
            "\t Val. Loss  5 labels: 0.935 |  Val. Acc   5 labels: 97.05% \n",
            "\n",
            "\tTrain Loss 25 labels: 2.606 | Train Acc 25 labels: 69.97%\n",
            "\t Val. Loss 25 labels: 2.490 |  Val. Acc 25 labels: 80.15% \n",
            "\n",
            "Epoch 18 | Time Taken: 37.64s\n",
            "\tTrain Loss  5 labels: 0.957 | Train Acc   5 labels: 95.03%\n",
            "\t Val. Loss  5 labels: 0.933 |  Val. Acc   5 labels: 97.14% \n",
            "\n",
            "\tTrain Loss 25 labels: 2.579 | Train Acc 25 labels: 72.52%\n",
            "\t Val. Loss 25 labels: 2.471 |  Val. Acc 25 labels: 82.03% \n",
            "\n",
            "Epoch 19 | Time Taken: 37.65s\n",
            "\tTrain Loss  5 labels: 0.953 | Train Acc   5 labels: 95.39%\n",
            "\t Val. Loss  5 labels: 0.933 |  Val. Acc   5 labels: 97.23% \n",
            "\n",
            "\tTrain Loss 25 labels: 2.555 | Train Acc 25 labels: 74.65%\n",
            "\t Val. Loss 25 labels: 2.456 |  Val. Acc 25 labels: 83.48% \n",
            "\n",
            "Epoch 20 | Time Taken: 37.48s\n",
            "\tTrain Loss  5 labels: 0.951 | Train Acc   5 labels: 95.55%\n",
            "\t Val. Loss  5 labels: 0.937 |  Val. Acc   5 labels: 96.74% \n",
            "\n",
            "\tTrain Loss 25 labels: 2.536 | Train Acc 25 labels: 76.44%\n",
            "\t Val. Loss 25 labels: 2.442 |  Val. Acc 25 labels: 85.31% \n",
            "\n",
            "Epoch 21 | Time Taken: 37.59s\n",
            "\tTrain Loss  5 labels: 0.949 | Train Acc   5 labels: 95.78%\n",
            "\t Val. Loss  5 labels: 0.932 |  Val. Acc   5 labels: 97.32% \n",
            "\n",
            "\tTrain Loss 25 labels: 2.519 | Train Acc 25 labels: 77.99%\n",
            "\t Val. Loss 25 labels: 2.427 |  Val. Acc 25 labels: 86.29% \n",
            "\n",
            "Epoch 22 | Time Taken: 37.42s\n",
            "\tTrain Loss  5 labels: 0.948 | Train Acc   5 labels: 95.86%\n",
            "\t Val. Loss  5 labels: 0.933 |  Val. Acc   5 labels: 97.14% \n",
            "\n",
            "\tTrain Loss 25 labels: 2.505 | Train Acc 25 labels: 79.29%\n",
            "\t Val. Loss 25 labels: 2.421 |  Val. Acc 25 labels: 86.74% \n",
            "\n",
            "Epoch 23 | Time Taken: 37.60s\n",
            "\tTrain Loss  5 labels: 0.945 | Train Acc   5 labels: 96.11%\n",
            "\t Val. Loss  5 labels: 0.931 |  Val. Acc   5 labels: 97.37% \n",
            "\n",
            "\tTrain Loss 25 labels: 2.488 | Train Acc 25 labels: 80.99%\n",
            "\t Val. Loss 25 labels: 2.414 |  Val. Acc 25 labels: 87.37% \n",
            "\n",
            "Epoch 24 | Time Taken: 37.60s\n",
            "\tTrain Loss  5 labels: 0.944 | Train Acc   5 labels: 96.28%\n",
            "\t Val. Loss  5 labels: 0.929 |  Val. Acc   5 labels: 97.63% \n",
            "\n",
            "\tTrain Loss 25 labels: 2.471 | Train Acc 25 labels: 82.61%\n",
            "\t Val. Loss 25 labels: 2.405 |  Val. Acc 25 labels: 88.21% \n",
            "\n",
            "Epoch 25 | Time Taken: 37.60s\n",
            "\tTrain Loss  5 labels: 0.942 | Train Acc   5 labels: 96.44%\n",
            "\t Val. Loss  5 labels: 0.929 |  Val. Acc   5 labels: 97.63% \n",
            "\n",
            "\tTrain Loss 25 labels: 2.455 | Train Acc 25 labels: 84.15%\n",
            "\t Val. Loss 25 labels: 2.399 |  Val. Acc 25 labels: 88.71% \n",
            "\n"
          ],
          "name": "stdout"
        }
      ]
    },
    {
      "cell_type": "code",
      "metadata": {
        "id": "e9Lk-0a6M33c",
        "colab": {
          "base_uri": "https://localhost:8080/",
          "height": 350
        },
        "outputId": "332a77cf-dcf2-4f73-e893-7a91f44a5557"
      },
      "source": [
        "# Plotting the train and validation loss\n",
        "plt.figure(figsize=(10,5))\n",
        "plt.title(\"Training and Validation Loss for label 5\")\n",
        "plt.plot(val_losses5,label=\"val\")\n",
        "plt.plot(train_losses5,label=\"train\")\n",
        "plt.xlabel(\"iterations\")\n",
        "plt.ylabel(\"Loss\")\n",
        "plt.legend()\n",
        "plt.show()"
      ],
      "execution_count": null,
      "outputs": [
        {
          "output_type": "display_data",
          "data": {
            "image/png": "[encoded data removed]",
            "text/plain": [
              "<Figure size 720x360 with 1 Axes>"
            ]
          },
          "metadata": {
            "tags": [],
            "needs_background": "light"
          }
        }
      ]
    },
    {
      "cell_type": "code",
      "metadata": {
        "colab": {
          "base_uri": "https://localhost:8080/",
          "height": 350
        },
        "id": "HG-gbMc42ItP",
        "outputId": "6637cc2a-c617-4772-abf3-77b5a904d1bc"
      },
      "source": [
        "plt.figure(figsize=(10,5))\n",
        "plt.title(\"Training and Validation Loss for label 25\")\n",
        "plt.plot(val_losses25,label=\"val\")\n",
        "plt.plot(train_losses25,label=\"train\")\n",
        "plt.xlabel(\"iterations\")\n",
        "plt.ylabel(\"Loss\")\n",
        "plt.legend()\n",
        "plt.show()"
      ],
      "execution_count": null,
      "outputs": [
        {
          "output_type": "display_data",
          "data": {
            "image/png": "[encoded data removed]",
            "text/plain": [
              "<Figure size 720x360 with 1 Axes>"
            ]
          },
          "metadata": {
            "tags": [],
            "needs_background": "light"
          }
        }
      ]
    },
    {
      "cell_type": "code",
      "metadata": {
        "colab": {
          "base_uri": "https://localhost:8080/",
          "height": 362
        },
        "id": "LfBFSaetDxrS",
        "outputId": "87896526-e9e1-4739-a677-0edc79e8f898"
      },
      "source": [
        "# Plotting the train and validation Accuracy\n",
        "\n",
        "plt.figure(figsize=(10,5))\n",
        "plt.title(\"Training and Validation Accuracy for Label 5\")\n",
        "plt.plot(val_accuracy5,label=\"val\")\n",
        "plt.plot(train_accuracy5,label=\"train\")\n",
        "plt.xlabel(\"iterations\")\n",
        "plt.ylabel(\"Accuracy\")\n",
        "plt.legend()\n",
        "plt.show()"
      ],
      "execution_count": null,
      "outputs": [
        {
          "output_type": "display_data",
          "data": {
            "image/png": "[encoded data removed]",
            "text/plain": [
              "<Figure size 720x360 with 1 Axes>"
            ]
          },
          "metadata": {
            "tags": [],
            "needs_background": "light"
          }
        }
      ]
    },
    {
      "cell_type": "code",
      "metadata": {
        "colab": {
          "base_uri": "https://localhost:8080/",
          "height": 362
        },
        "id": "R1fnj8TOEAGy",
        "outputId": "f538cbe3-a76b-4413-fc5a-fe5d20e4c9a9"
      },
      "source": [
        "# Plotting the train and validation Accuracy\n",
        "\n",
        "plt.figure(figsize=(10,5))\n",
        "plt.title(\"Training and Validation Accuracy for Label 25\")\n",
        "plt.plot(val_accuracy25,label=\"val\")\n",
        "plt.plot(train_accuracy25,label=\"train\")\n",
        "plt.xlabel(\"iterations\")\n",
        "plt.ylabel(\"Accuracy\")\n",
        "plt.legend()\n",
        "plt.show()"
      ],
      "execution_count": null,
      "outputs": [
        {
          "output_type": "display_data",
          "data": {
            "image/png": "[encoded data removed]",
            "text/plain": [
              "<Figure size 720x360 with 1 Axes>"
            ]
          },
          "metadata": {
            "tags": [],
            "needs_background": "light"
          }
        }
      ]
    },
    {
      "cell_type": "code",
      "metadata": {
        "id": "Yzj2gemzEGP0"
      },
      "source": [
        "#load weights and tokenizer\n",
        "\n",
        "path='./saved_weights.pt'\n",
        "model.load_state_dict(torch.load(path));\n",
        "model.eval();\n",
        "tokenizer_file = open('./tokenizer.pkl', 'rb')\n",
        "tokenizer = pickle.load(tokenizer_file)\n",
        "\n",
        "#inference \n",
        "\n",
        "import spacy\n",
        "nlp = spacy.load('en')\n",
        "\n",
        "categories = {1: \"very negative\", 2:\"negative\", 3:\"neutral\", 4:'positive', 5:'very positive'}\n",
        "inv_categories = {v: k for k,v in categories.items()}\n",
        "\n",
        "def classify_tweet(sentence):\n",
        "    \n",
        "    # categories = {0: \"Negative\", 1:\"Positive\", 2:\"Neutral\"}\n",
        "    \n",
        "    # tokenize the tweet \n",
        "    tokenized = [tok.text for tok in nlp.tokenizer(sentence)] \n",
        "    # convert to integer sequence using predefined tokenizer dictionary\n",
        "    indexed = [tokenizer[t] for t in tokenized]        \n",
        "    # compute no. of words        \n",
        "    length = [len(indexed)]\n",
        "    # convert to tensor                                    \n",
        "    tensor = torch.LongTensor(indexed).to(device)   \n",
        "    # reshape in form of batch, no. of words           \n",
        "    tensor = tensor.unsqueeze(1).T  \n",
        "    # convert to tensor                          \n",
        "    length_tensor = torch.LongTensor(length)\n",
        "    # Get the model prediction                  \n",
        "    prediction5, prediction25 = model(tensor, length_tensor)\n",
        "\n",
        "    _, pred5 = torch.max(prediction5, 1) \n",
        "    _, pred25 = torch.max(prediction25, 1) \n",
        "    \n",
        "    return categories[pred5.item()+1], pred25.item()+1"
      ],
      "execution_count": null,
      "outputs": []
    },
    {
      "cell_type": "code",
      "metadata": {
        "colab": {
          "base_uri": "https://localhost:8080/"
        },
        "id": "tE-5Q3eoFC0L",
        "outputId": "df2dd7ba-9559-4a8e-9892-aeda7370b061"
      },
      "source": [
        "classify_tweet(\"A valid explanation for why Trump won't let women on the golf course.\")"
      ],
      "execution_count": null,
      "outputs": [
        {
          "output_type": "execute_result",
          "data": {
            "text/plain": [
              "('very negative', 12)"
            ]
          },
          "metadata": {
            "tags": []
          },
          "execution_count": 87
        }
      ]
    },
    {
      "cell_type": "code",
      "metadata": {
        "id": "K80fUTBTFEwh"
      },
      "source": [
        "df_eval = pd.DataFrame(\n",
        "    [(df_test['sentence'][idx], df_test['sentiment_5'][idx], df_test['sentiment_25'][idx], inv_categories[classify_tweet(df['sentence'][idx])[0]], classify_tweet(df['sentence'][idx])[1]) for idx in df_test.index]\n",
        "    , columns=['sentence','sentiment_5', 'sentiment_25', 'sentiment_5_c', 'sentiment_25_c']\n",
        ")"
      ],
      "execution_count": null,
      "outputs": []
    },
    {
      "cell_type": "code",
      "metadata": {
        "colab": {
          "base_uri": "https://localhost:8080/",
          "height": 204
        },
        "id": "V1pP3JcnIUt6",
        "outputId": "cbe2b839-bf45-4f8c-eaa1-33d3b6e5ddae"
      },
      "source": [
        "df_eval.head()"
      ],
      "execution_count": null,
      "outputs": [
        {
          "output_type": "execute_result",
          "data": {
            "text/html": [
              "<div>\n",
              "<style scoped>\n",
              "    .dataframe tbody tr th:only-of-type {\n",
              "        vertical-align: middle;\n",
              "    }\n",
              "\n",
              "    .dataframe tbody tr th {\n",
              "        vertical-align: top;\n",
              "    }\n",
              "\n",
              "    .dataframe thead th {\n",
              "        text-align: right;\n",
              "    }\n",
              "</style>\n",
              "<table border=\"1\" class=\"dataframe\">\n",
              "  <thead>\n",
              "    <tr style=\"text-align: right;\">\n",
              "      <th></th>\n",
              "      <th>sentence</th>\n",
              "      <th>sentiment_5</th>\n",
              "      <th>sentiment_25</th>\n",
              "      <th>sentiment_5_c</th>\n",
              "      <th>sentiment_25_c</th>\n",
              "    </tr>\n",
              "  </thead>\n",
              "  <tbody>\n",
              "    <tr>\n",
              "      <th>0</th>\n",
              "      <td>It 's a lovely film with lovely performances b...</td>\n",
              "      <td>4</td>\n",
              "      <td>20</td>\n",
              "      <td>4</td>\n",
              "      <td>14</td>\n",
              "    </tr>\n",
              "    <tr>\n",
              "      <th>1</th>\n",
              "      <td>No one goes unindicted here , which is probabl...</td>\n",
              "      <td>3</td>\n",
              "      <td>13</td>\n",
              "      <td>4</td>\n",
              "      <td>18</td>\n",
              "    </tr>\n",
              "    <tr>\n",
              "      <th>2</th>\n",
              "      <td>And if you 're not nearly moved to tears by a ...</td>\n",
              "      <td>4</td>\n",
              "      <td>19</td>\n",
              "      <td>4</td>\n",
              "      <td>14</td>\n",
              "    </tr>\n",
              "    <tr>\n",
              "      <th>3</th>\n",
              "      <td>A warm , funny , engaging film .</td>\n",
              "      <td>5</td>\n",
              "      <td>22</td>\n",
              "      <td>3</td>\n",
              "      <td>7</td>\n",
              "    </tr>\n",
              "    <tr>\n",
              "      <th>4</th>\n",
              "      <td>Uses sharp humor and insight into human nature...</td>\n",
              "      <td>5</td>\n",
              "      <td>20</td>\n",
              "      <td>4</td>\n",
              "      <td>14</td>\n",
              "    </tr>\n",
              "  </tbody>\n",
              "</table>\n",
              "</div>"
            ],
            "text/plain": [
              "                                            sentence  ...  sentiment_25_c\n",
              "0  It 's a lovely film with lovely performances b...  ...              14\n",
              "1  No one goes unindicted here , which is probabl...  ...              18\n",
              "2  And if you 're not nearly moved to tears by a ...  ...              14\n",
              "3                   A warm , funny , engaging film .  ...               7\n",
              "4  Uses sharp humor and insight into human nature...  ...              14\n",
              "\n",
              "[5 rows x 5 columns]"
            ]
          },
          "metadata": {
            "tags": []
          },
          "execution_count": 97
        }
      ]
    }
  ]
}