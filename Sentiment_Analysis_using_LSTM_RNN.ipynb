{
  "nbformat": 4,
  "nbformat_minor": 0,
  "metadata": {
    "colab": {
      "name": "Sentiment_Analysis_using_LSTM_RNN.ipynb",
      "provenance": [],
      "collapsed_sections": [],
      "include_colab_link": true
    },
    "kernelspec": {
      "name": "python3",
      "display_name": "Python 3"
    },
    "language_info": {
      "name": "python"
    }
  },
  "cells": [
    {
      "cell_type": "markdown",
      "metadata": {
        "id": "view-in-github",
        "colab_type": "text"
      },
      "source": [
        "<a href=\"https://colab.research.google.com/github/debasishsarangi88/TSAI_END2.0/blob/main/Sentiment_Analysis_using_LSTM_RNN.ipynb\" target=\"_parent\"><img src=\"https://colab.research.google.com/assets/colab-badge.svg\" alt=\"Open In Colab\"/></a>"
      ]
    },
    {
      "cell_type": "markdown",
      "metadata": {
        "id": "NkMCKF4RCxOc"
      },
      "source": [
        "Install necessary packages"
      ]
    },
    {
      "cell_type": "code",
      "metadata": {
        "id": "jMpr787qCixE",
        "colab": {
          "base_uri": "https://localhost:8080/"
        },
        "outputId": "d50b33ac-c66c-4730-f44d-9d81b198e6f4"
      },
      "source": [
        "%%shell\n",
        "pip install google-trans-new"
      ],
      "execution_count": null,
      "outputs": [
        {
          "output_type": "stream",
          "text": [
            "Collecting google-trans-new\n",
            "  Downloading https://files.pythonhosted.org/packages/f9/7b/9f136106dc5824dc98185c97991d3cd9b53e70a197154dd49f7b899128f6/google_trans_new-1.1.9-py3-none-any.whl\n",
            "Installing collected packages: google-trans-new\n",
            "Successfully installed google-trans-new-1.1.9\n"
          ],
          "name": "stdout"
        },
        {
          "output_type": "execute_result",
          "data": {
            "text/plain": [
              ""
            ]
          },
          "metadata": {
            "tags": []
          },
          "execution_count": 1
        }
      ]
    },
    {
      "cell_type": "code",
      "metadata": {
        "id": "hoZNK7w9C5WL",
        "colab": {
          "base_uri": "https://localhost:8080/"
        },
        "outputId": "bdd2558d-2e82-4843-bb51-1c97e39012b8"
      },
      "source": [
        "# Import Library\n",
        "import pandas as pd\n",
        "import numpy as np\n",
        "import random\n",
        "import time\n",
        "import matplotlib.pyplot as plt\n",
        "\n",
        "import torch, torchtext\n",
        "from torchtext.legacy import data\n",
        "import torch.nn as nn\n",
        "import torch.nn.functional as F\n",
        "import torch.optim as optim\n",
        "\n",
        "from gensim.parsing.preprocessing import remove_stopwords\n",
        "import nltk\n",
        "nltk.download('wordnet')\n",
        "from nltk.corpus import wordnet\n",
        "\n",
        "import google_trans_new\n",
        "from google_trans_new import google_translator"
      ],
      "execution_count": null,
      "outputs": [
        {
          "output_type": "stream",
          "text": [
            "[nltk_data] Downloading package wordnet to /root/nltk_data...\n",
            "[nltk_data]   Unzipping corpora/wordnet.zip.\n"
          ],
          "name": "stdout"
        }
      ]
    },
    {
      "cell_type": "code",
      "metadata": {
        "id": "Y3wIwHgAISuA"
      },
      "source": [
        "# Manual Seed\n",
        "RANDOM_SEED = 43\n",
        "torch.manual_seed(RANDOM_SEED)\n",
        "\n",
        "# Declare Constants\n",
        "PATH_CSV = '/content/tweets.csv'\n",
        "\n",
        "NLP_AUG = [\n",
        "    'random_insertion',\n",
        "    'random_deletion',\n",
        "    'random_swap',\n",
        "    'translate'\n",
        "]\n",
        "\n",
        "AUG_COUNT = 6 #arbitrary number can be increased or decreased. But needs to be an positive integer\n",
        "\n",
        "device = torch.device(\"cuda\" if torch.cuda.is_available() else \"cpu\")"
      ],
      "execution_count": null,
      "outputs": []
    },
    {
      "cell_type": "code",
      "metadata": {
        "id": "DD90Q0-kK9-j"
      },
      "source": [
        "def getRandomState():\n",
        "    return np.random.RandomState(RANDOM_SEED)\n",
        "\n",
        "RANDOM = getRandomState()\n",
        "\n",
        "# Create translator object\n",
        "translator = google_translator()\n",
        "available_langs = list(google_trans_new.LANGUAGES.keys())"
      ],
      "execution_count": null,
      "outputs": []
    },
    {
      "cell_type": "markdown",
      "metadata": {
        "id": "7SgzS4EoJyTn"
      },
      "source": [
        "Augmentation Functions"
      ]
    },
    {
      "cell_type": "code",
      "metadata": {
        "id": "Pv-wnsa_Jrr8"
      },
      "source": [
        "def get_synonyms(word):\n",
        "    synonyms = set()\n",
        "    for syn in wordnet.synsets(word): \n",
        "        for l in syn.lemmas(): \n",
        "            synonym = l.name().replace(\"_\", \" \").replace(\"-\", \" \").lower()\n",
        "            synonym = \"\".join([char for char in synonym if char in ' qwertyuiopasdfghjklzxcvbnm'])\n",
        "            synonyms.add(synonym)\n",
        "    \n",
        "    if word in synonyms:\n",
        "        synonyms.remove(word)\n",
        "    \n",
        "    return list(synonyms)\n",
        "\n",
        "def random_insertion(sentence, n=5): \n",
        "    words = remove_stopwords(sentence)\n",
        "    words, sentence = words.split(), sentence.split() # Code added to tokenize\n",
        "    for _ in range(n):\n",
        "        new_synonym = get_synonyms(random.choice(words))\n",
        "        if len(new_synonym) > 0:\n",
        "            sentence.insert(random.randrange(len(sentence)), random.choice(new_synonym)) \n",
        "    return ' '.join(sentence)\n",
        "\n",
        "def random_deletion(sentence, p=0.5):\n",
        "    words = sentence.split() # Code added to tokenize\n",
        "    if len(words) == 1: # return if single word\n",
        "        return words\n",
        "    remaining = list(filter(lambda x: random.uniform(0,1) > p, words)) \n",
        "    if len(remaining) == 0: # if not left, sample a random word\n",
        "        return ' '.join([random.choice(words)])\n",
        "    else:\n",
        "        return ' '.join(remaining)\n",
        "\n",
        "def random_swap(sentence, n=5):\n",
        "    sentence = sentence.split() # Code added to tokenize\n",
        "    length = range(len(sentence))\n",
        "    if len(sentence) > 1:\n",
        "        for _ in range(n):\n",
        "            idx1, idx2 = random.sample(length, 2)\n",
        "            sentence[idx1], sentence[idx2] = sentence[idx2], sentence[idx1] \n",
        "    return ' '.join(sentence)\n",
        "\n",
        "def translate_and_back(sentence):\n",
        "    trans_lang = random.choice(available_langs)\n",
        "    translated = translator.translate(\n",
        "        translator.translate(sentence, lang_tgt=trans_lang),\n",
        "        lang_src=trans_lang,\n",
        "        lang_tgt='en'\n",
        "    )\n",
        "    return translated\n",
        "\n",
        "def augment_dataset(x, y):\n",
        "    sentence_stack = []\n",
        "    if AUG_COUNT > 0:\n",
        "        aug_list = np.random.choice(NLP_AUG, size=AUG_COUNT, p=[0.32, 0.32, 0.32, 0.04])\n",
        "        # np.random.randint(1, high=len(NLP_AUG) + 1, size=AUG_COUNT, dtype=int)\n",
        "        \n",
        "        for num_aug in aug_list:\n",
        "            if   num_aug == NLP_AUG[0]:\n",
        "                st = random_insertion(x, random.randint(0, int(len(x)/2)))\n",
        "                sentence_stack.append((st, y))\n",
        "            elif num_aug == NLP_AUG[1]:\n",
        "                sentence_stack.append((random_deletion(x), y))\n",
        "            elif num_aug == NLP_AUG[2]:\n",
        "                st = random_swap(x, random.randint(0, int(len(x)/2)))\n",
        "                sentence_stack.append((st, y))\n",
        "            elif num_aug == NLP_AUG[3]:\n",
        "                sentence_stack.append((translate_and_back(x), y))\n",
        "\n",
        "    return sentence_stack"
      ],
      "execution_count": null,
      "outputs": []
    },
    {
      "cell_type": "markdown",
      "metadata": {
        "id": "HFczRdLraE8O"
      },
      "source": [
        "## Dataset Preview\n",
        "\n",
        "Your first step to deep learning in NLP. We will be mostly using PyTorch. Just like torchvision, PyTorch provides an official library, torchtext, for handling text-processing pipelines. \n",
        "\n",
        "We will be using previous session tweet dataset. Let's just preview the dataset."
      ]
    },
    {
      "cell_type": "code",
      "metadata": {
        "id": "JnXkw7yRCj_D",
        "colab": {
          "base_uri": "https://localhost:8080/",
          "height": 198
        },
        "outputId": "8e8032e0-3700-409a-bf0f-5892275cf6c2"
      },
      "source": [
        "df = pd.read_csv(PATH_CSV)\n",
        "df.head()"
      ],
      "execution_count": null,
      "outputs": [
        {
          "output_type": "execute_result",
          "data": {
            "text/html": [
              "<div>\n",
              "<style scoped>\n",
              "    .dataframe tbody tr th:only-of-type {\n",
              "        vertical-align: middle;\n",
              "    }\n",
              "\n",
              "    .dataframe tbody tr th {\n",
              "        vertical-align: top;\n",
              "    }\n",
              "\n",
              "    .dataframe thead th {\n",
              "        text-align: right;\n",
              "    }\n",
              "</style>\n",
              "<table border=\"1\" class=\"dataframe\">\n",
              "  <thead>\n",
              "    <tr style=\"text-align: right;\">\n",
              "      <th></th>\n",
              "      <th>tweets</th>\n",
              "      <th>labels</th>\n",
              "    </tr>\n",
              "  </thead>\n",
              "  <tbody>\n",
              "    <tr>\n",
              "      <th>0</th>\n",
              "      <td>Obama has called the GOP budget social Darwini...</td>\n",
              "      <td>1</td>\n",
              "    </tr>\n",
              "    <tr>\n",
              "      <th>1</th>\n",
              "      <td>In his teen years, Obama has been known to use...</td>\n",
              "      <td>0</td>\n",
              "    </tr>\n",
              "    <tr>\n",
              "      <th>2</th>\n",
              "      <td>IPA Congratulates President Barack Obama for L...</td>\n",
              "      <td>0</td>\n",
              "    </tr>\n",
              "    <tr>\n",
              "      <th>3</th>\n",
              "      <td>RT @Professor_Why: #WhatsRomneyHiding - his co...</td>\n",
              "      <td>0</td>\n",
              "    </tr>\n",
              "    <tr>\n",
              "      <th>4</th>\n",
              "      <td>RT @wardollarshome: Obama has approved more ta...</td>\n",
              "      <td>1</td>\n",
              "    </tr>\n",
              "  </tbody>\n",
              "</table>\n",
              "</div>"
            ],
            "text/plain": [
              "                                              tweets  labels\n",
              "0  Obama has called the GOP budget social Darwini...       1\n",
              "1  In his teen years, Obama has been known to use...       0\n",
              "2  IPA Congratulates President Barack Obama for L...       0\n",
              "3  RT @Professor_Why: #WhatsRomneyHiding - his co...       0\n",
              "4  RT @wardollarshome: Obama has approved more ta...       1"
            ]
          },
          "metadata": {
            "tags": []
          },
          "execution_count": 6
        }
      ]
    },
    {
      "cell_type": "code",
      "metadata": {
        "id": "L9WFPdJCCsCy",
        "colab": {
          "base_uri": "https://localhost:8080/"
        },
        "outputId": "f0370b8c-6242-43c0-d0f5-d064592a1b94"
      },
      "source": [
        "df.shape\n",
        "df.labels.value_counts()\n"
      ],
      "execution_count": null,
      "outputs": [
        {
          "output_type": "execute_result",
          "data": {
            "text/plain": [
              "0    931\n",
              "1    352\n",
              "2     81\n",
              "Name: labels, dtype: int64"
            ]
          },
          "metadata": {
            "tags": []
          },
          "execution_count": 7
        }
      ]
    },
    {
      "cell_type": "markdown",
      "metadata": {
        "id": "oJw5ChVM_9Rs"
      },
      "source": [
        "## Create Augmentation\n",
        "\n",
        "Create different augmentation for each of the tweets and pass it wil the same label"
      ]
    },
    {
      "cell_type": "code",
      "metadata": {
        "id": "xaI7M_g8eQpg"
      },
      "source": [
        "df_aug = pd.DataFrame()\n",
        "for idx in df.index:\n",
        "    aug_df = pd.DataFrame(augment_dataset(df['tweets'][idx], df['labels'][idx]), columns=['tweets','labels'])\n",
        "    df_aug = df_aug.append(aug_df)"
      ],
      "execution_count": null,
      "outputs": []
    },
    {
      "cell_type": "code",
      "metadata": {
        "id": "oRzK4eN6w9U8"
      },
      "source": [
        "# create a single dataset of the augmented and original data\n",
        "df_new = df.append(df_aug)\n",
        "# df_new_1 = df_new.sample(frac=1, random_state=RANDOM).reset_index(drop=True)\n",
        "df_new.reset_index(drop=True,inplace=True)"
      ],
      "execution_count": null,
      "outputs": []
    },
    {
      "cell_type": "markdown",
      "metadata": {
        "id": "aMenym8ZARI9"
      },
      "source": [
        "## Defining Fields"
      ]
    },
    {
      "cell_type": "markdown",
      "metadata": {
        "id": "uOl2YQYNAR7a"
      },
      "source": [
        "Now we shall be defining LABEL as a LabelField, which is a subclass of Field that sets sequen tial to False (as it’s our numerical category class). TWEET is a standard Field object, where we have decided to use the spaCy tokenizer and convert all the text to lower‐ case."
      ]
    },
    {
      "cell_type": "code",
      "metadata": {
        "id": "4h28pG9wzrCd"
      },
      "source": [
        "Tweet = data.Field(sequential = True, tokenize = 'spacy', batch_first =True, include_lengths=True)\n",
        "Label = data.LabelField(tokenize ='spacy', is_target=True, batch_first =True, sequential =False)"
      ],
      "execution_count": null,
      "outputs": []
    },
    {
      "cell_type": "markdown",
      "metadata": {
        "id": "5w3tuT5DAWEn"
      },
      "source": [
        "Having defined those fields, we now need to produce a list that maps them onto the list of rows that are in the CSV:"
      ]
    },
    {
      "cell_type": "code",
      "metadata": {
        "id": "ee59BRbLzst0"
      },
      "source": [
        "fields = [('tweets', Tweet),('labels',Label)]"
      ],
      "execution_count": null,
      "outputs": []
    },
    {
      "cell_type": "markdown",
      "metadata": {
        "id": "1KZnBqpOAYa4"
      },
      "source": [
        "Armed with our declared fields, lets convert from pandas to list to torchtext. We could also use TabularDataset to apply that definition to the CSV directly but showing an alternative approach too."
      ]
    },
    {
      "cell_type": "code",
      "metadata": {
        "id": "tBsyrHFAzuy7"
      },
      "source": [
        "example = [data.Example.fromlist([df_new.tweets[i],df_new.labels[i]], fields) for i in range(df_new.shape[0])]"
      ],
      "execution_count": null,
      "outputs": []
    },
    {
      "cell_type": "code",
      "metadata": {
        "id": "jR4pNc7UzwW8"
      },
      "source": [
        "# Creating dataset\n",
        "#twitterDataset = data.TabularDataset(path=\"tweets.csv\", format=\"CSV\", fields=fields, skip_header=True)\n",
        "\n",
        "twitterDataset = data.Dataset(example, fields)"
      ],
      "execution_count": null,
      "outputs": []
    },
    {
      "cell_type": "markdown",
      "metadata": {
        "id": "7fhV7Xe1AbC2"
      },
      "source": [
        "Finally, we can split into training, testing, and validation sets by using the split() method:"
      ]
    },
    {
      "cell_type": "code",
      "metadata": {
        "id": "O-rhhyRuzx40"
      },
      "source": [
        "(train, valid) = twitterDataset.split(split_ratio=[0.8, 0.2], random_state=random.seed(RANDOM_SEED))"
      ],
      "execution_count": null,
      "outputs": []
    },
    {
      "cell_type": "code",
      "metadata": {
        "id": "pWSZnRl9zzfq",
        "colab": {
          "base_uri": "https://localhost:8080/"
        },
        "outputId": "9b756d8f-6f8d-41dc-ce65-51b8ff442785"
      },
      "source": [
        "(len(train), len(valid))"
      ],
      "execution_count": null,
      "outputs": [
        {
          "output_type": "execute_result",
          "data": {
            "text/plain": [
              "(7638, 1910)"
            ]
          },
          "metadata": {
            "tags": []
          },
          "execution_count": 15
        }
      ]
    },
    {
      "cell_type": "markdown",
      "metadata": {
        "id": "LEPeP5fyAdl4"
      },
      "source": [
        "An example from the dataset:"
      ]
    },
    {
      "cell_type": "code",
      "metadata": {
        "id": "rw0x5MPLz1G3",
        "colab": {
          "base_uri": "https://localhost:8080/"
        },
        "outputId": "ef2ef48c-37c5-4403-f6c3-c6b614d46c10"
      },
      "source": [
        "vars(train.examples[random.randint(0, df_new.shape[0])])"
      ],
      "execution_count": null,
      "outputs": [
        {
          "output_type": "execute_result",
          "data": {
            "text/plain": [
              "{'labels': 0,\n",
              " 'tweets': ['find',\n",
              "  'along',\n",
              "  'RT',\n",
              "  'flummox',\n",
              "  'generate',\n",
              "  '@MovieMikeScott',\n",
              "  ':',\n",
              "  'fuck',\n",
              "  'off',\n",
              "  '#',\n",
              "  'WhatsRomneyHiding',\n",
              "  '@BarackObama',\n",
              "  'GET',\n",
              "  'along',\n",
              "  'start',\n",
              "  'out',\n",
              "  'obtain',\n",
              "  'CHA',\n",
              "  'father',\n",
              "  'OBAMA',\n",
              "  'ON',\n",
              "  '(',\n",
              "  'Unofficial',\n",
              "  'on',\n",
              "  'Obama',\n",
              "  'Song',\n",
              "  ')',\n",
              "  ':',\n",
              "  'http://t.co/RyG3vgRQ',\n",
              "  'via',\n",
              "  'pose',\n",
              "  '@youtube']}"
            ]
          },
          "metadata": {
            "tags": []
          },
          "execution_count": 16
        }
      ]
    },
    {
      "cell_type": "markdown",
      "metadata": {
        "id": "M2eZbD1kKkSf"
      },
      "source": [
        "## Building Vocabulary"
      ]
    },
    {
      "cell_type": "markdown",
      "metadata": {
        "id": "02FnXct_KlH1"
      },
      "source": [
        "At this point we would have built a one-hot encoding of each word that is present in the dataset—a rather tedious process. Thankfully, torchtext will do this for us, and will also allow a max_size parameter to be passed in to limit the vocabu‐ lary to the most common words. This is normally done to prevent the construction of a huge, memory-hungry model. We don’t want our GPUs too overwhelmed, after all. \n",
        "\n",
        "Let’s limit the vocabulary to a maximum of 5000 words in our training set:"
      ]
    },
    {
      "cell_type": "code",
      "metadata": {
        "id": "-ULOI-lnz29U"
      },
      "source": [
        "Tweet.build_vocab(train)\n",
        "Label.build_vocab(train)"
      ],
      "execution_count": null,
      "outputs": []
    },
    {
      "cell_type": "markdown",
      "metadata": {
        "id": "2N-5waP6Kp8t"
      },
      "source": [
        "By default, torchtext will add two more special tokens, <unk> for unknown words and <pad>, a padding token that will be used to pad all our text to roughly the same size to help with efficient batching on the GPU."
      ]
    },
    {
      "cell_type": "code",
      "metadata": {
        "id": "rzKuavaBz4bO",
        "colab": {
          "base_uri": "https://localhost:8080/"
        },
        "outputId": "8bd051c2-dd59-487c-c4d6-85f960bc3ffe"
      },
      "source": [
        "print('Size of input vocab : ', len(Tweet.vocab))\n",
        "print('Size of label vocab : ', len(Label.vocab))\n",
        "print('Top 10 words appreared repeatedly :', list(Tweet.vocab.freqs.most_common(10)))\n",
        "print('Labels : ', Label.vocab.stoi)"
      ],
      "execution_count": null,
      "outputs": [
        {
          "output_type": "stream",
          "text": [
            "Size of input vocab :  10327\n",
            "Size of label vocab :  3\n",
            "Top 10 words appreared repeatedly : [('Obama', 6016), (':', 4437), ('#', 4427), ('.', 4330), (',', 3381), ('the', 3332), ('\"', 3175), ('RT', 2916), ('to', 2380), ('?', 2270)]\n",
            "Labels :  defaultdict(None, {0: 0, 1: 1, 2: 2})\n"
          ],
          "name": "stdout"
        }
      ]
    },
    {
      "cell_type": "markdown",
      "metadata": {
        "id": "IVFgEF6AKvVr"
      },
      "source": [
        "**Lots of stopwords!!**"
      ]
    },
    {
      "cell_type": "markdown",
      "metadata": {
        "id": "UoWHYWX8KxqK"
      },
      "source": [
        "Now we need to create a data loader to feed into our training loop. Torchtext provides the BucketIterator method that will produce what it calls a Batch, which is almost, but not quite, like the data loader we used on images."
      ]
    },
    {
      "cell_type": "code",
      "metadata": {
        "id": "xogYHB1uz-Z7"
      },
      "source": [
        "train_iterator, valid_iterator = data.BucketIterator.splits((train, valid), batch_size = 32, \n",
        "                                                            sort_key = lambda x: len(x.tweets),\n",
        "                                                            sort_within_batch=True, device = device)"
      ],
      "execution_count": null,
      "outputs": []
    },
    {
      "cell_type": "markdown",
      "metadata": {
        "id": "ldjY9qgDK3aY"
      },
      "source": [
        "Save the vocabulary for later use"
      ]
    },
    {
      "cell_type": "code",
      "metadata": {
        "id": "5XrF_Hsl0AG7"
      },
      "source": [
        "import os, pickle\n",
        "with open('tokenizer.pkl', 'wb') as tokens: \n",
        "    pickle.dump(Tweet.vocab.stoi, tokens)"
      ],
      "execution_count": null,
      "outputs": []
    },
    {
      "cell_type": "markdown",
      "metadata": {
        "id": "T2268S6fK6pw"
      },
      "source": [
        "## Defining Our Model"
      ]
    },
    {
      "cell_type": "markdown",
      "metadata": {
        "id": "LbiShii_K7VF"
      },
      "source": [
        "We use the Embedding and LSTM modules in PyTorch to build a simple model for classifying tweets.\n",
        "\n",
        "In this model we create three layers. \n",
        "1. First, the words in our tweets are pushed into an Embedding layer, which we have established as a 300-dimensional vector embedding. \n",
        "2. That’s then fed into a 2 stacked-LSTMs with 100 hidden features (again, we’re compressing down from the 300-dimensional input like we did with images). We are using 2 LSTMs for using the dropout.\n",
        "3. Finally, the output of the LSTM (the final hidden state after processing the incoming tweet) is pushed through a standard fully connected layer with three outputs to correspond to our three possible classes (negative, positive, or neutral)."
      ]
    },
    {
      "cell_type": "code",
      "metadata": {
        "id": "YnvqGt6p0Hzj"
      },
      "source": [
        "class classifier(nn.Module):\n",
        "    \n",
        "    # Define all the layers used in model\n",
        "    def __init__(self, vocab_size, embedding_dim, hidden_dim, output_dim, n_layers, dropout):\n",
        "        \n",
        "        super().__init__()          \n",
        "        \n",
        "        # Embedding layer\n",
        "        self.embedding = nn.Embedding(vocab_size, embedding_dim)\n",
        "        \n",
        "        # LSTM layer\n",
        "        self.encoder = nn.LSTM(embedding_dim, \n",
        "                           hidden_dim, \n",
        "                           num_layers=n_layers, \n",
        "                           dropout=dropout,\n",
        "                           batch_first=True)\n",
        "        # try using nn.GRU or nn.RNN here and compare their performances\n",
        "        # try bidirectional and compare their performances\n",
        "        \n",
        "        # Dense layer\n",
        "        self.fc = nn.Linear(hidden_dim, output_dim)\n",
        "        \n",
        "    def forward(self, text, text_lengths):\n",
        "        \n",
        "        # text = [batch size, sent_length]\n",
        "        embedded = self.embedding(text)\n",
        "        # embedded = [batch size, sent_len, emb dim]\n",
        "      \n",
        "        # packed sequence\n",
        "        packed_embedded = nn.utils.rnn.pack_padded_sequence(embedded, text_lengths.cpu(), batch_first=True)\n",
        "        \n",
        "        packed_output, (hidden, cell) = self.encoder(packed_embedded)\n",
        "        #hidden = [batch size, num layers * num directions,hid dim]\n",
        "        #cell = [batch size, num layers * num directions,hid dim]\n",
        "    \n",
        "        # Hidden = [batch size, hid dim * num directions]\n",
        "        dense_outputs = self.fc(hidden)   \n",
        "        \n",
        "        # Final activation function softmax\n",
        "        output = F.softmax(dense_outputs[0], dim=1)\n",
        "            \n",
        "        return output"
      ],
      "execution_count": null,
      "outputs": []
    },
    {
      "cell_type": "code",
      "metadata": {
        "id": "Pcr5kX-G0In2"
      },
      "source": [
        "# Define hyperparameters\n",
        "size_of_vocab = len(Tweet.vocab)\n",
        "embedding_dim = 300\n",
        "num_hidden_nodes = 100\n",
        "num_output_nodes = 3\n",
        "num_layers = 2\n",
        "dropout = 0.2\n",
        "\n",
        "# Instantiate the model\n",
        "model = classifier(size_of_vocab, embedding_dim, num_hidden_nodes, num_output_nodes, num_layers, dropout = dropout)"
      ],
      "execution_count": null,
      "outputs": []
    },
    {
      "cell_type": "code",
      "metadata": {
        "id": "_PfeCgx10K-7",
        "colab": {
          "base_uri": "https://localhost:8080/"
        },
        "outputId": "5498b22d-b5cc-4a3a-c19c-96f6fd7d2ac3"
      },
      "source": [
        "print(model)\n",
        "\n",
        "#No. of trianable parameters\n",
        "def count_parameters(model):\n",
        "    return sum(p.numel() for p in model.parameters() if p.requires_grad)\n",
        "    \n",
        "print(f'The model has {count_parameters(model):,} trainable parameters')"
      ],
      "execution_count": null,
      "outputs": [
        {
          "output_type": "stream",
          "text": [
            "classifier(\n",
            "  (embedding): Embedding(10327, 300)\n",
            "  (encoder): LSTM(300, 100, num_layers=2, batch_first=True, dropout=0.2)\n",
            "  (fc): Linear(in_features=100, out_features=3, bias=True)\n",
            ")\n",
            "The model has 3,340,003 trainable parameters\n"
          ],
          "name": "stdout"
        }
      ]
    },
    {
      "cell_type": "markdown",
      "metadata": {
        "id": "bFL0bwMILAWA"
      },
      "source": [
        "## Model Training and Evaluation"
      ]
    },
    {
      "cell_type": "markdown",
      "metadata": {
        "id": "A9qfuVK3LA_s"
      },
      "source": [
        "First define the optimizer and loss functions"
      ]
    },
    {
      "cell_type": "code",
      "metadata": {
        "id": "40iMOCkM0QqN"
      },
      "source": [
        "# define optimizer and loss\n",
        "optimizer = optim.Adam(model.parameters(), lr=2e-4)\n",
        "criterion = nn.CrossEntropyLoss()\n",
        "\n",
        "# define metric\n",
        "def binary_accuracy(preds, y):\n",
        "    #round predictions to the closest integer\n",
        "    _, predictions = torch.max(preds, 1)\n",
        "    \n",
        "    correct = (predictions == y).float() \n",
        "    acc = correct.sum() / len(correct)\n",
        "    return acc\n",
        "    \n",
        "# push to cuda if available\n",
        "model = model.to(device)\n",
        "criterion = criterion.to(device)"
      ],
      "execution_count": null,
      "outputs": []
    },
    {
      "cell_type": "markdown",
      "metadata": {
        "id": "sZmlBj8yLE0u"
      },
      "source": [
        "The main thing to be aware of in this new training loop is that we have to reference `batch.tweets` and `batch.labels` to get the particular fields we’re interested in; they don’t fall out quite as nicely from the enumerator as they do in torchvision."
      ]
    },
    {
      "cell_type": "markdown",
      "metadata": {
        "id": "gveXpI2zLHj6"
      },
      "source": [
        "**Training Loop**"
      ]
    },
    {
      "cell_type": "code",
      "metadata": {
        "id": "NlMS9uHl0SSm"
      },
      "source": [
        "def train(model, iterator, optimizer, criterion):\n",
        "    \n",
        "    # initialize every epoch \n",
        "    epoch_loss = 0\n",
        "    epoch_acc = 0\n",
        "    \n",
        "    # set the model in training phase\n",
        "    model.train()  \n",
        "    \n",
        "    for batch in iterator:\n",
        "        \n",
        "        # resets the gradients after every batch\n",
        "        optimizer.zero_grad()   \n",
        "        \n",
        "        # retrieve text and no. of words\n",
        "        tweet, tweet_lengths = batch.tweets   \n",
        "        \n",
        "        # convert to 1D tensor\n",
        "        predictions = model(tweet, tweet_lengths).squeeze()  \n",
        "        \n",
        "        # compute the loss\n",
        "        loss = criterion(predictions, batch.labels)        \n",
        "        \n",
        "        # compute the binary accuracy\n",
        "        acc = binary_accuracy(predictions, batch.labels)   \n",
        "        \n",
        "        # backpropage the loss and compute the gradients\n",
        "        loss.backward()       \n",
        "        \n",
        "        # update the weights\n",
        "        optimizer.step()      \n",
        "        \n",
        "        # loss and accuracy\n",
        "        epoch_loss += loss.item()  \n",
        "        epoch_acc += acc.item()    \n",
        "        \n",
        "    return epoch_loss / len(iterator), epoch_acc / len(iterator)"
      ],
      "execution_count": null,
      "outputs": []
    },
    {
      "cell_type": "markdown",
      "metadata": {
        "id": "XSd_lLxqLNgK"
      },
      "source": [
        "**Evaluation Loop**"
      ]
    },
    {
      "cell_type": "code",
      "metadata": {
        "id": "wHG2CKes0SL0"
      },
      "source": [
        "def evaluate(model, iterator, criterion):\n",
        "    \n",
        "    # initialize every epoch\n",
        "    epoch_loss = 0\n",
        "    epoch_acc = 0\n",
        "\n",
        "    # deactivating dropout layers\n",
        "    model.eval()\n",
        "    \n",
        "    # deactivates autograd\n",
        "    with torch.no_grad():\n",
        "    \n",
        "        for batch in iterator:\n",
        "        \n",
        "            # retrieve text and no. of words\n",
        "            tweet, tweet_lengths = batch.tweets\n",
        "            \n",
        "            # convert to 1d tensor\n",
        "            predictions = model(tweet, tweet_lengths).squeeze()\n",
        "            \n",
        "            # compute loss and accuracy\n",
        "            loss = criterion(predictions, batch.labels)\n",
        "            acc = binary_accuracy(predictions, batch.labels)\n",
        "            \n",
        "            # keep track of loss and accuracy\n",
        "            epoch_loss += loss.item()\n",
        "            epoch_acc += acc.item()\n",
        "        \n",
        "    return epoch_loss / len(iterator), epoch_acc / len(iterator)"
      ],
      "execution_count": null,
      "outputs": []
    },
    {
      "cell_type": "markdown",
      "metadata": {
        "id": "X9IMeFenLPyp"
      },
      "source": [
        "**Let's Train and Evaluate**"
      ]
    },
    {
      "cell_type": "code",
      "metadata": {
        "id": "68aqTOXy0VjS",
        "colab": {
          "base_uri": "https://localhost:8080/"
        },
        "outputId": "3029696e-9cbd-4411-931e-b9d6326680d3"
      },
      "source": [
        "N_EPOCHS = 25\n",
        "best_valid_loss = float('inf')\n",
        "val_losses = []\n",
        "train_losses = []\n",
        "\n",
        "val_accuracy = []\n",
        "train_accuracy = []\n",
        "\n",
        "for epoch in range(N_EPOCHS):\n",
        "     \n",
        "    start_time = time.time()\n",
        "    # train the model\n",
        "    train_loss, train_acc = train(model, train_iterator, optimizer, criterion)\n",
        "    train_losses.append(train_loss)\n",
        "    train_accuracy.append(train_acc)\n",
        "\n",
        "    # evaluate the model\n",
        "    valid_loss, valid_acc = evaluate(model, valid_iterator, criterion)\n",
        "    val_losses.append(valid_loss)\n",
        "    val_accuracy.append(valid_acc)\n",
        "\n",
        "\n",
        "    # save the best model\n",
        "    if valid_loss < best_valid_loss:\n",
        "        best_valid_loss = valid_loss\n",
        "        torch.save(model.state_dict(), 'saved_weights.pt')\n",
        "    \n",
        "    print(f'Epoch {epoch+1} | Time Taken: {(time.time() - start_time):.2f}s')\n",
        "    print(f'\\tTrain Loss: {train_loss:.3f} | Train Acc: {train_acc*100:.2f}%')\n",
        "    print(f'\\t Val. Loss: {valid_loss:.3f} |  Val. Acc: {valid_acc*100:.2f}% \\n')"
      ],
      "execution_count": null,
      "outputs": [
        {
          "output_type": "stream",
          "text": [
            "Epoch 1 | Time Taken: 26.23s\n",
            "\tTrain Loss: 0.927 | Train Acc: 66.52%\n",
            "\t Val. Loss: 0.826 |  Val. Acc: 74.05% \n",
            "\n",
            "Epoch 2 | Time Taken: 24.69s\n",
            "\tTrain Loss: 0.805 | Train Acc: 75.73%\n",
            "\t Val. Loss: 0.771 |  Val. Acc: 79.07% \n",
            "\n",
            "Epoch 3 | Time Taken: 24.71s\n",
            "\tTrain Loss: 0.747 | Train Acc: 81.67%\n",
            "\t Val. Loss: 0.723 |  Val. Acc: 83.89% \n",
            "\n",
            "Epoch 4 | Time Taken: 24.73s\n",
            "\tTrain Loss: 0.701 | Train Acc: 86.08%\n",
            "\t Val. Loss: 0.696 |  Val. Acc: 85.99% \n",
            "\n",
            "Epoch 5 | Time Taken: 24.79s\n",
            "\tTrain Loss: 0.673 | Train Acc: 88.64%\n",
            "\t Val. Loss: 0.680 |  Val. Acc: 87.58% \n",
            "\n",
            "Epoch 6 | Time Taken: 24.59s\n",
            "\tTrain Loss: 0.653 | Train Acc: 90.74%\n",
            "\t Val. Loss: 0.667 |  Val. Acc: 88.88% \n",
            "\n",
            "Epoch 7 | Time Taken: 24.62s\n",
            "\tTrain Loss: 0.639 | Train Acc: 91.97%\n",
            "\t Val. Loss: 0.662 |  Val. Acc: 89.20% \n",
            "\n",
            "Epoch 8 | Time Taken: 24.70s\n",
            "\tTrain Loss: 0.629 | Train Acc: 92.76%\n",
            "\t Val. Loss: 0.663 |  Val. Acc: 89.04% \n",
            "\n",
            "Epoch 9 | Time Taken: 24.74s\n",
            "\tTrain Loss: 0.624 | Train Acc: 93.25%\n",
            "\t Val. Loss: 0.657 |  Val. Acc: 89.48% \n",
            "\n",
            "Epoch 10 | Time Taken: 24.80s\n",
            "\tTrain Loss: 0.618 | Train Acc: 93.80%\n",
            "\t Val. Loss: 0.652 |  Val. Acc: 90.21% \n",
            "\n",
            "Epoch 11 | Time Taken: 24.64s\n",
            "\tTrain Loss: 0.611 | Train Acc: 94.44%\n",
            "\t Val. Loss: 0.651 |  Val. Acc: 90.10% \n",
            "\n",
            "Epoch 12 | Time Taken: 24.91s\n",
            "\tTrain Loss: 0.605 | Train Acc: 94.89%\n",
            "\t Val. Loss: 0.644 |  Val. Acc: 91.02% \n",
            "\n",
            "Epoch 13 | Time Taken: 24.82s\n",
            "\tTrain Loss: 0.600 | Train Acc: 95.44%\n",
            "\t Val. Loss: 0.642 |  Val. Acc: 91.30% \n",
            "\n",
            "Epoch 14 | Time Taken: 24.85s\n",
            "\tTrain Loss: 0.596 | Train Acc: 95.82%\n",
            "\t Val. Loss: 0.639 |  Val. Acc: 91.52% \n",
            "\n",
            "Epoch 15 | Time Taken: 24.90s\n",
            "\tTrain Loss: 0.590 | Train Acc: 96.47%\n",
            "\t Val. Loss: 0.634 |  Val. Acc: 91.67% \n",
            "\n",
            "Epoch 16 | Time Taken: 24.88s\n",
            "\tTrain Loss: 0.585 | Train Acc: 96.95%\n",
            "\t Val. Loss: 0.634 |  Val. Acc: 91.83% \n",
            "\n",
            "Epoch 17 | Time Taken: 24.97s\n",
            "\tTrain Loss: 0.581 | Train Acc: 97.27%\n",
            "\t Val. Loss: 0.631 |  Val. Acc: 91.96% \n",
            "\n",
            "Epoch 18 | Time Taken: 25.02s\n",
            "\tTrain Loss: 0.577 | Train Acc: 97.63%\n",
            "\t Val. Loss: 0.627 |  Val. Acc: 92.42% \n",
            "\n",
            "Epoch 19 | Time Taken: 25.12s\n",
            "\tTrain Loss: 0.575 | Train Acc: 97.78%\n",
            "\t Val. Loss: 0.632 |  Val. Acc: 91.85% \n",
            "\n",
            "Epoch 20 | Time Taken: 24.78s\n",
            "\tTrain Loss: 0.573 | Train Acc: 97.93%\n",
            "\t Val. Loss: 0.628 |  Val. Acc: 92.16% \n",
            "\n",
            "Epoch 21 | Time Taken: 24.59s\n",
            "\tTrain Loss: 0.572 | Train Acc: 98.05%\n",
            "\t Val. Loss: 0.633 |  Val. Acc: 91.93% \n",
            "\n",
            "Epoch 22 | Time Taken: 24.84s\n",
            "\tTrain Loss: 0.571 | Train Acc: 98.18%\n",
            "\t Val. Loss: 0.630 |  Val. Acc: 92.11% \n",
            "\n",
            "Epoch 23 | Time Taken: 25.03s\n",
            "\tTrain Loss: 0.569 | Train Acc: 98.30%\n",
            "\t Val. Loss: 0.624 |  Val. Acc: 92.97% \n",
            "\n",
            "Epoch 24 | Time Taken: 24.84s\n",
            "\tTrain Loss: 0.568 | Train Acc: 98.37%\n",
            "\t Val. Loss: 0.618 |  Val. Acc: 93.28% \n",
            "\n",
            "Epoch 25 | Time Taken: 24.90s\n",
            "\tTrain Loss: 0.566 | Train Acc: 98.57%\n",
            "\t Val. Loss: 0.619 |  Val. Acc: 93.07% \n",
            "\n"
          ],
          "name": "stdout"
        }
      ]
    },
    {
      "cell_type": "code",
      "metadata": {
        "id": "e9Lk-0a6M33c",
        "colab": {
          "base_uri": "https://localhost:8080/",
          "height": 350
        },
        "outputId": "a27027c0-c948-46ee-ceee-b5ede01aab0b"
      },
      "source": [
        "# Plotting the train and validation loss\n",
        "\n",
        "plt.figure(figsize=(10,5))\n",
        "plt.title(\"Training and Validation Loss\")\n",
        "plt.plot(val_losses,label=\"val\")\n",
        "plt.plot(train_losses,label=\"train\")\n",
        "plt.xlabel(\"iterations\")\n",
        "plt.ylabel(\"Loss\")\n",
        "plt.legend()\n",
        "plt.show()"
      ],
      "execution_count": null,
      "outputs": [
        {
          "output_type": "display_data",
          "data": {
            "image/png": "[encoded data removed]",
            "text/plain": [
              "<Figure size 720x360 with 1 Axes>"
            ]
          },
          "metadata": {
            "tags": [],
            "needs_background": "light"
          }
        }
      ]
    },
    {
      "cell_type": "code",
      "metadata": {
        "id": "Q6poVzx-Tppj",
        "colab": {
          "base_uri": "https://localhost:8080/",
          "height": 350
        },
        "outputId": "44e10aa7-0af7-481d-c653-4a944eb4a100"
      },
      "source": [
        "# Plotting the train and validation Accuracy\n",
        "\n",
        "plt.figure(figsize=(10,5))\n",
        "plt.title(\"Training and Validation Accuracy\")\n",
        "plt.plot(val_accuracy,label=\"val\")\n",
        "plt.plot(train_accuracy,label=\"train\")\n",
        "plt.xlabel(\"iterations\")\n",
        "plt.ylabel(\"Accuracy\")\n",
        "plt.legend()\n",
        "plt.show()"
      ],
      "execution_count": null,
      "outputs": [
        {
          "output_type": "display_data",
          "data": {
            "image/png": "[encoded data removed]",
            "text/plain": [
              "<Figure size 720x360 with 1 Axes>"
            ]
          },
          "metadata": {
            "tags": [],
            "needs_background": "light"
          }
        }
      ]
    },
    {
      "cell_type": "markdown",
      "metadata": {
        "id": "VaeYjHC5LSz5"
      },
      "source": [
        "## Model Testing"
      ]
    },
    {
      "cell_type": "code",
      "metadata": {
        "id": "y3dib2Br0X8P"
      },
      "source": [
        "#load weights and tokenizer\n",
        "\n",
        "path='./saved_weights.pt'\n",
        "model.load_state_dict(torch.load(path));\n",
        "model.eval();\n",
        "tokenizer_file = open('./tokenizer.pkl', 'rb')\n",
        "tokenizer = pickle.load(tokenizer_file)\n",
        "\n",
        "#inference \n",
        "\n",
        "import spacy\n",
        "nlp = spacy.load('en')\n",
        "\n",
        "categories = {0: \"Negative\", 1:\"Positive\", 2:\"Neutral\"}\n",
        "inv_categories = {v: k for k,v in categories.items()}\n",
        "\n",
        "def classify_tweet(tweet):\n",
        "    \n",
        "    # categories = {0: \"Negative\", 1:\"Positive\", 2:\"Neutral\"}\n",
        "    \n",
        "    # tokenize the tweet \n",
        "    tokenized = [tok.text for tok in nlp.tokenizer(tweet)] \n",
        "    # convert to integer sequence using predefined tokenizer dictionary\n",
        "    indexed = [tokenizer[t] for t in tokenized]        \n",
        "    # compute no. of words        \n",
        "    length = [len(indexed)]\n",
        "    # convert to tensor                                    \n",
        "    tensor = torch.LongTensor(indexed).to(device)   \n",
        "    # reshape in form of batch, no. of words           \n",
        "    tensor = tensor.unsqueeze(1).T  \n",
        "    # convert to tensor                          \n",
        "    length_tensor = torch.LongTensor(length)\n",
        "    # Get the model prediction                  \n",
        "    prediction = model(tensor, length_tensor)\n",
        "\n",
        "    _, pred = torch.max(prediction, 1) \n",
        "    \n",
        "    return categories[pred.item()]"
      ],
      "execution_count": null,
      "outputs": []
    },
    {
      "cell_type": "code",
      "metadata": {
        "id": "bEqyw4vt0Zxh",
        "colab": {
          "base_uri": "https://localhost:8080/",
          "height": 35
        },
        "outputId": "2bc4acac-a6d0-4ecb-e54a-8fd59d59118d"
      },
      "source": [
        "classify_tweet(\"A valid explanation for why Trump won't let women on the golf course.\")"
      ],
      "execution_count": null,
      "outputs": [
        {
          "output_type": "execute_result",
          "data": {
            "application/vnd.google.colaboratory.intrinsic+json": {
              "type": "string"
            },
            "text/plain": [
              "'Positive'"
            ]
          },
          "metadata": {
            "tags": []
          },
          "execution_count": 31
        }
      ]
    },
    {
      "cell_type": "code",
      "metadata": {
        "id": "zXYNSchvaK5V"
      },
      "source": [
        "df_eval = pd.DataFrame([(df['tweets'][idx], df['labels'][idx], inv_categories[classify_tweet(df['tweets'][idx])]) for idx in df.index], columns=['tweets','labels', 'c_labels'])"
      ],
      "execution_count": null,
      "outputs": []
    },
    {
      "cell_type": "code",
      "metadata": {
        "id": "zo4B-ugwevAg",
        "colab": {
          "base_uri": "https://localhost:8080/"
        },
        "outputId": "23cff51d-c78a-483a-9a4c-8df03277f9a4"
      },
      "source": [
        "from sklearn.metrics import f1_score\n",
        "f1_score(df_eval['labels'].values, df_eval['c_labels'].values, average='weighted')"
      ],
      "execution_count": null,
      "outputs": [
        {
          "output_type": "execute_result",
          "data": {
            "text/plain": [
              "0.9852628048967734"
            ]
          },
          "metadata": {
            "tags": []
          },
          "execution_count": 33
        }
      ]
    },
    {
      "cell_type": "code",
      "metadata": {
        "id": "PS5QK_-AnzcY",
        "colab": {
          "base_uri": "https://localhost:8080/",
          "height": 648
        },
        "outputId": "f3a78e91-11ec-4a49-8715-8c48d2ad1e28"
      },
      "source": [
        "# not matching\n",
        "df_incorrect = df_eval[df_eval['labels'] != df_eval['c_labels']]\n",
        "df_incorrect"
      ],
      "execution_count": null,
      "outputs": [
        {
          "output_type": "execute_result",
          "data": {
            "text/html": [
              "<div>\n",
              "<style scoped>\n",
              "    .dataframe tbody tr th:only-of-type {\n",
              "        vertical-align: middle;\n",
              "    }\n",
              "\n",
              "    .dataframe tbody tr th {\n",
              "        vertical-align: top;\n",
              "    }\n",
              "\n",
              "    .dataframe thead th {\n",
              "        text-align: right;\n",
              "    }\n",
              "</style>\n",
              "<table border=\"1\" class=\"dataframe\">\n",
              "  <thead>\n",
              "    <tr style=\"text-align: right;\">\n",
              "      <th></th>\n",
              "      <th>tweets</th>\n",
              "      <th>labels</th>\n",
              "      <th>c_labels</th>\n",
              "    </tr>\n",
              "  </thead>\n",
              "  <tbody>\n",
              "    <tr>\n",
              "      <th>63</th>\n",
              "      <td>RT @LiberalMel: REPUBLICANS WANT TO TAKE AWAY ...</td>\n",
              "      <td>1</td>\n",
              "      <td>0</td>\n",
              "    </tr>\n",
              "    <tr>\n",
              "      <th>114</th>\n",
              "      <td>Impossible! RT @Fake_Dispatch: I think we are ...</td>\n",
              "      <td>0</td>\n",
              "      <td>1</td>\n",
              "    </tr>\n",
              "    <tr>\n",
              "      <th>146</th>\n",
              "      <td>RT@pslweb Endorsement Of Democrats: A Misuse O...</td>\n",
              "      <td>1</td>\n",
              "      <td>0</td>\n",
              "    </tr>\n",
              "    <tr>\n",
              "      <th>218</th>\n",
              "      <td>Oh, how fun! Another #Obama-created Hashtag #W...</td>\n",
              "      <td>1</td>\n",
              "      <td>0</td>\n",
              "    </tr>\n",
              "    <tr>\n",
              "      <th>303</th>\n",
              "      <td>a  large number of #GOP women will vote for #O...</td>\n",
              "      <td>2</td>\n",
              "      <td>0</td>\n",
              "    </tr>\n",
              "    <tr>\n",
              "      <th>429</th>\n",
              "      <td>@geoff9cow Right! Of course! It's ALWAYS someo...</td>\n",
              "      <td>1</td>\n",
              "      <td>2</td>\n",
              "    </tr>\n",
              "    <tr>\n",
              "      <th>526</th>\n",
              "      <td>RT @GarrettNBCNews: Romney, who earned a combi...</td>\n",
              "      <td>1</td>\n",
              "      <td>0</td>\n",
              "    </tr>\n",
              "    <tr>\n",
              "      <th>598</th>\n",
              "      <td>Honey trap: Sexy Russian spy cozied up to Obam...</td>\n",
              "      <td>1</td>\n",
              "      <td>0</td>\n",
              "    </tr>\n",
              "    <tr>\n",
              "      <th>599</th>\n",
              "      <td>Wow.... \"@LauraFlyMe: Proved to be true: Obama...</td>\n",
              "      <td>2</td>\n",
              "      <td>0</td>\n",
              "    </tr>\n",
              "    <tr>\n",
              "      <th>602</th>\n",
              "      <td>RealClearPolitics Video - Carney: Obama Not Un...</td>\n",
              "      <td>1</td>\n",
              "      <td>0</td>\n",
              "    </tr>\n",
              "    <tr>\n",
              "      <th>665</th>\n",
              "      <td>@MittRomney, are you really going to take #Wha...</td>\n",
              "      <td>1</td>\n",
              "      <td>0</td>\n",
              "    </tr>\n",
              "    <tr>\n",
              "      <th>680</th>\n",
              "      <td>White House Wants YOU To Participate In The St...</td>\n",
              "      <td>1</td>\n",
              "      <td>0</td>\n",
              "    </tr>\n",
              "    <tr>\n",
              "      <th>878</th>\n",
              "      <td>.@Notintheface1 I thought it was more, describ...</td>\n",
              "      <td>1</td>\n",
              "      <td>2</td>\n",
              "    </tr>\n",
              "    <tr>\n",
              "      <th>936</th>\n",
              "      <td>#WhatsRomneyHiding The recipe to Dr. Obama's M...</td>\n",
              "      <td>1</td>\n",
              "      <td>0</td>\n",
              "    </tr>\n",
              "    <tr>\n",
              "      <th>960</th>\n",
              "      <td>RT @NMsly: @marymauldin Nothing is ever a coin...</td>\n",
              "      <td>1</td>\n",
              "      <td>0</td>\n",
              "    </tr>\n",
              "    <tr>\n",
              "      <th>1079</th>\n",
              "      <td>Pretty cool video&amp;gt;&amp;gt;&amp;gt;The Story of \"Fir...</td>\n",
              "      <td>2</td>\n",
              "      <td>1</td>\n",
              "    </tr>\n",
              "    <tr>\n",
              "      <th>1083</th>\n",
              "      <td>Demand Romney release his tax returns?  Is tha...</td>\n",
              "      <td>1</td>\n",
              "      <td>0</td>\n",
              "    </tr>\n",
              "    <tr>\n",
              "      <th>1129</th>\n",
              "      <td>#obama samsung galaxy i5800 android 2.2 http:/...</td>\n",
              "      <td>0</td>\n",
              "      <td>2</td>\n",
              "    </tr>\n",
              "    <tr>\n",
              "      <th>1136</th>\n",
              "      <td>@NatefromUSA Say, how about that Obama sealing...</td>\n",
              "      <td>1</td>\n",
              "      <td>0</td>\n",
              "    </tr>\n",
              "    <tr>\n",
              "      <th>1197</th>\n",
              "      <td>Respect for the Supreme Court and power of jud...</td>\n",
              "      <td>2</td>\n",
              "      <td>0</td>\n",
              "    </tr>\n",
              "  </tbody>\n",
              "</table>\n",
              "</div>"
            ],
            "text/plain": [
              "                                                 tweets  labels  c_labels\n",
              "63    RT @LiberalMel: REPUBLICANS WANT TO TAKE AWAY ...       1         0\n",
              "114   Impossible! RT @Fake_Dispatch: I think we are ...       0         1\n",
              "146   RT@pslweb Endorsement Of Democrats: A Misuse O...       1         0\n",
              "218   Oh, how fun! Another #Obama-created Hashtag #W...       1         0\n",
              "303   a  large number of #GOP women will vote for #O...       2         0\n",
              "429   @geoff9cow Right! Of course! It's ALWAYS someo...       1         2\n",
              "526   RT @GarrettNBCNews: Romney, who earned a combi...       1         0\n",
              "598   Honey trap: Sexy Russian spy cozied up to Obam...       1         0\n",
              "599   Wow.... \"@LauraFlyMe: Proved to be true: Obama...       2         0\n",
              "602   RealClearPolitics Video - Carney: Obama Not Un...       1         0\n",
              "665   @MittRomney, are you really going to take #Wha...       1         0\n",
              "680   White House Wants YOU To Participate In The St...       1         0\n",
              "878   .@Notintheface1 I thought it was more, describ...       1         2\n",
              "936   #WhatsRomneyHiding The recipe to Dr. Obama's M...       1         0\n",
              "960   RT @NMsly: @marymauldin Nothing is ever a coin...       1         0\n",
              "1079  Pretty cool video&gt;&gt;&gt;The Story of \"Fir...       2         1\n",
              "1083  Demand Romney release his tax returns?  Is tha...       1         0\n",
              "1129  #obama samsung galaxy i5800 android 2.2 http:/...       0         2\n",
              "1136  @NatefromUSA Say, how about that Obama sealing...       1         0\n",
              "1197  Respect for the Supreme Court and power of jud...       2         0"
            ]
          },
          "metadata": {
            "tags": []
          },
          "execution_count": 35
        }
      ]
    },
    {
      "cell_type": "code",
      "metadata": {
        "colab": {
          "base_uri": "https://localhost:8080/",
          "height": 470
        },
        "id": "QmWjg7Siw4iL",
        "outputId": "69cc7ac5-379c-4cfb-90ec-f7c91daad21d"
      },
      "source": [
        "from sklearn.metrics import confusion_matrix\n",
        "cm = confusion_matrix(df_eval['labels'].values, df_eval['c_labels'].values)\n",
        "\n",
        "import seaborn as sns\n",
        "import matplotlib.pyplot as plt     \n",
        "\n",
        "\n",
        "font = {'font.size': 14}\n",
        "plt.rcParams.update(font)\n",
        "plt.figure(figsize=(7.5,7))\n",
        "ax= plt.subplot()\n",
        "sns.heatmap(cm, annot=True, fmt='g', ax=ax);  #annot=True to annotate cells, ftm='g' to disable scientific notation\n",
        "\n",
        "# labels, title and ticks\n",
        "ax.set_xlabel('Predicted labels');ax.set_ylabel('True labels'); \n",
        "ax.set_title('Confusion Matrix'); \n",
        "ax.xaxis.set_ticklabels(list(categories.values())); ax.yaxis.set_ticklabels(list(categories.values())[::-1]);"
      ],
      "execution_count": null,
      "outputs": [
        {
          "output_type": "display_data",
          "data": {
            "image/png": "[encoded data removed]",
            "text/plain": [
              "<Figure size 540x504 with 2 Axes>"
            ]
          },
          "metadata": {
            "tags": [],
            "needs_background": "light"
          }
        }
      ]
    },
    {
      "cell_type": "code",
      "metadata": {
        "colab": {
          "base_uri": "https://localhost:8080/"
        },
        "id": "CnPLAq5cyIQ5",
        "outputId": "711fcce9-aa3d-42a6-97d8-c0c72b8382be"
      },
      "source": [
        "list(categories.values())[::-1]"
      ],
      "execution_count": null,
      "outputs": [
        {
          "output_type": "execute_result",
          "data": {
            "text/plain": [
              "['Neutral', 'Positive', 'Negative']"
            ]
          },
          "metadata": {
            "tags": []
          },
          "execution_count": 46
        }
      ]
    }
  ]
}